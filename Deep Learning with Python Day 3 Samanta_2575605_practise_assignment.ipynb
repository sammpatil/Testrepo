{
  "nbformat": 4,
  "nbformat_minor": 0,
  "metadata": {
    "colab": {
      "provenance": []
    },
    "kernelspec": {
      "name": "python3",
      "display_name": "Python 3"
    },
    "language_info": {
      "name": "python"
    }
  },
  "cells": [
    {
      "cell_type": "code",
      "execution_count": 1,
      "metadata": {
        "id": "R7mGHWXSXM28"
      },
      "outputs": [],
      "source": [
        "from keras.datasets import mnist\n",
        "from keras.models import Sequential\n",
        "from keras.layers import Dense\n",
        "\n",
        "from tensorflow.keras.layers import BatchNormalization\n",
        "from tensorflow.keras.optimizers import SGD\n",
        "\n",
        "from matplotlib import pyplot\n",
        "import matplotlib.pyplot as plt"
      ]
    },
    {
      "cell_type": "code",
      "source": [
        "batch_size=128\n",
        "num_classes=10\n",
        "epochs=20"
      ],
      "metadata": {
        "id": "KgKiY-VeYW-B"
      },
      "execution_count": 2,
      "outputs": []
    },
    {
      "cell_type": "code",
      "source": [
        "(xtrain,ytrain),(xtest,ytest)=mnist.load_data()\n",
        "print('Shape-x:\\t',xtrain.shape)\n",
        "print('Shape-y:\\t',ytrain.shape)"
      ],
      "metadata": {
        "colab": {
          "base_uri": "https://localhost:8080/"
        },
        "id": "wwDO-ljFYcaQ",
        "outputId": "a79e5d57-475c-46c9-8c76-be22c6215fcf"
      },
      "execution_count": 3,
      "outputs": [
        {
          "output_type": "stream",
          "name": "stdout",
          "text": [
            "Downloading data from https://storage.googleapis.com/tensorflow/tf-keras-datasets/mnist.npz\n",
            "11490434/11490434 [==============================] - 0s 0us/step\n",
            "Shape-x:\t (60000, 28, 28)\n",
            "Shape-y:\t (60000,)\n"
          ]
        }
      ]
    },
    {
      "cell_type": "code",
      "source": [
        "xtrain=xtrain.reshape(60000,784)\n",
        "xtest=xtest.reshape(10000,784)\n",
        "print('Shape-x-train:\\t',xtrain.shape)\n",
        "print('Shape-x-Test:\\t',xtest.shape)"
      ],
      "metadata": {
        "colab": {
          "base_uri": "https://localhost:8080/"
        },
        "id": "o0ND0ycpYk9Z",
        "outputId": "1fe001ac-96b6-4564-dbf7-a8a535571189"
      },
      "execution_count": 4,
      "outputs": [
        {
          "output_type": "stream",
          "name": "stdout",
          "text": [
            "Shape-x-train:\t (60000, 784)\n",
            "Shape-x-Test:\t (10000, 784)\n"
          ]
        }
      ]
    },
    {
      "cell_type": "code",
      "source": [
        "xtrain=xtrain.astype('float32')\n",
        "xtest=xtest.astype('float32')"
      ],
      "metadata": {
        "id": "lTxS24mwZAnw"
      },
      "execution_count": 5,
      "outputs": []
    },
    {
      "cell_type": "code",
      "source": [
        "xtrain=xtrain/255.\n",
        "xtest=xtest/255."
      ],
      "metadata": {
        "id": "Ld9RA-OuZEow"
      },
      "execution_count": 6,
      "outputs": []
    },
    {
      "cell_type": "code",
      "source": [
        "import keras\n",
        "ytrain=keras.utils.to_categorical(ytrain,num_classes)\n",
        "ytest=keras.utils.to_categorical(ytest,num_classes)"
      ],
      "metadata": {
        "id": "Ip7eg1qqZIFT"
      },
      "execution_count": 7,
      "outputs": []
    },
    {
      "cell_type": "code",
      "source": [
        "model=Sequential()\n",
        "model.add(Dense(512,activation='relu',input_shape=(784,)))\n",
        "model.add(Dense(512,activation='relu'))\n",
        "model.add(BatchNormalization())\n",
        "model.add(Dense(num_classes,activation='softmax'))\n",
        "\n",
        "optm=SGD(learning_rate=0.01,momentum=0.9)\n",
        "\n",
        "model.compile(loss='binary_crossentropy',optimizer=optm,metrics=['accuracy'])"
      ],
      "metadata": {
        "id": "zGBb35ReZMiT"
      },
      "execution_count": 8,
      "outputs": []
    },
    {
      "cell_type": "code",
      "source": [
        "model.summary()"
      ],
      "metadata": {
        "colab": {
          "base_uri": "https://localhost:8080/"
        },
        "id": "MYUQ2wrJZQ18",
        "outputId": "a1a092ce-0900-4894-9db9-88ccb72e5c5c"
      },
      "execution_count": 9,
      "outputs": [
        {
          "output_type": "stream",
          "name": "stdout",
          "text": [
            "Model: \"sequential\"\n",
            "_________________________________________________________________\n",
            " Layer (type)                Output Shape              Param #   \n",
            "=================================================================\n",
            " dense (Dense)               (None, 512)               401920    \n",
            "                                                                 \n",
            " dense_1 (Dense)             (None, 512)               262656    \n",
            "                                                                 \n",
            " batch_normalization (Batch  (None, 512)               2048      \n",
            " Normalization)                                                  \n",
            "                                                                 \n",
            " dense_2 (Dense)             (None, 10)                5130      \n",
            "                                                                 \n",
            "=================================================================\n",
            "Total params: 671754 (2.56 MB)\n",
            "Trainable params: 670730 (2.56 MB)\n",
            "Non-trainable params: 1024 (4.00 KB)\n",
            "_________________________________________________________________\n"
          ]
        }
      ]
    },
    {
      "cell_type": "code",
      "source": [
        "history=model.fit(xtrain,ytrain,validation_data=(xtest,ytest),epochs=20,verbose=1)"
      ],
      "metadata": {
        "colab": {
          "base_uri": "https://localhost:8080/"
        },
        "id": "VEkofBvFZVOW",
        "outputId": "2c5d4b18-3c12-444c-9e53-d6d3188fd305"
      },
      "execution_count": 10,
      "outputs": [
        {
          "output_type": "stream",
          "name": "stdout",
          "text": [
            "Epoch 1/20\n",
            "1875/1875 [==============================] - 24s 12ms/step - loss: 0.0830 - accuracy: 0.9211 - val_loss: 0.0306 - val_accuracy: 0.9600\n",
            "Epoch 2/20\n",
            "1875/1875 [==============================] - 25s 13ms/step - loss: 0.0271 - accuracy: 0.9655 - val_loss: 0.0220 - val_accuracy: 0.9709\n",
            "Epoch 3/20\n",
            "1875/1875 [==============================] - 24s 13ms/step - loss: 0.0194 - accuracy: 0.9762 - val_loss: 0.0184 - val_accuracy: 0.9744\n",
            "Epoch 4/20\n",
            "1875/1875 [==============================] - 22s 12ms/step - loss: 0.0152 - accuracy: 0.9814 - val_loss: 0.0156 - val_accuracy: 0.9781\n",
            "Epoch 5/20\n",
            "1875/1875 [==============================] - 23s 12ms/step - loss: 0.0121 - accuracy: 0.9865 - val_loss: 0.0149 - val_accuracy: 0.9798\n",
            "Epoch 6/20\n",
            "1875/1875 [==============================] - 21s 11ms/step - loss: 0.0102 - accuracy: 0.9886 - val_loss: 0.0138 - val_accuracy: 0.9810\n",
            "Epoch 7/20\n",
            "1875/1875 [==============================] - 25s 13ms/step - loss: 0.0083 - accuracy: 0.9922 - val_loss: 0.0134 - val_accuracy: 0.9815\n",
            "Epoch 8/20\n",
            "1875/1875 [==============================] - 21s 11ms/step - loss: 0.0068 - accuracy: 0.9944 - val_loss: 0.0132 - val_accuracy: 0.9809\n",
            "Epoch 9/20\n",
            "1875/1875 [==============================] - 22s 12ms/step - loss: 0.0058 - accuracy: 0.9957 - val_loss: 0.0128 - val_accuracy: 0.9813\n",
            "Epoch 10/20\n",
            "1875/1875 [==============================] - 20s 11ms/step - loss: 0.0049 - accuracy: 0.9969 - val_loss: 0.0126 - val_accuracy: 0.9811\n",
            "Epoch 11/20\n",
            "1875/1875 [==============================] - 20s 11ms/step - loss: 0.0043 - accuracy: 0.9970 - val_loss: 0.0123 - val_accuracy: 0.9825\n",
            "Epoch 12/20\n",
            "1875/1875 [==============================] - 21s 11ms/step - loss: 0.0036 - accuracy: 0.9982 - val_loss: 0.0124 - val_accuracy: 0.9828\n",
            "Epoch 13/20\n",
            "1875/1875 [==============================] - 20s 11ms/step - loss: 0.0032 - accuracy: 0.9987 - val_loss: 0.0121 - val_accuracy: 0.9831\n",
            "Epoch 14/20\n",
            "1875/1875 [==============================] - 19s 10ms/step - loss: 0.0029 - accuracy: 0.9987 - val_loss: 0.0119 - val_accuracy: 0.9832\n",
            "Epoch 15/20\n",
            "1875/1875 [==============================] - 21s 11ms/step - loss: 0.0025 - accuracy: 0.9992 - val_loss: 0.0120 - val_accuracy: 0.9833\n",
            "Epoch 16/20\n",
            "1875/1875 [==============================] - 20s 11ms/step - loss: 0.0022 - accuracy: 0.9995 - val_loss: 0.0120 - val_accuracy: 0.9826\n",
            "Epoch 17/20\n",
            "1875/1875 [==============================] - 20s 11ms/step - loss: 0.0019 - accuracy: 0.9997 - val_loss: 0.0123 - val_accuracy: 0.9831\n",
            "Epoch 18/20\n",
            "1875/1875 [==============================] - 22s 12ms/step - loss: 0.0018 - accuracy: 0.9996 - val_loss: 0.0118 - val_accuracy: 0.9821\n",
            "Epoch 19/20\n",
            "1875/1875 [==============================] - 20s 11ms/step - loss: 0.0016 - accuracy: 0.9997 - val_loss: 0.0119 - val_accuracy: 0.9833\n",
            "Epoch 20/20\n",
            "1875/1875 [==============================] - 21s 11ms/step - loss: 0.0014 - accuracy: 0.9998 - val_loss: 0.0120 - val_accuracy: 0.9840\n"
          ]
        }
      ]
    },
    {
      "cell_type": "code",
      "source": [
        "_,train_acc=model.evaluate(xtrain,ytrain,verbose=1)\n",
        "_,test_acc=model.evaluate(xtest,ytest,verbose=1)\n",
        "print('Train Accuracy:\\t',train_acc)\n",
        "print()\n",
        "print('Test Accuracy:\\t',test_acc)"
      ],
      "metadata": {
        "colab": {
          "base_uri": "https://localhost:8080/"
        },
        "id": "uGKU2_l0bYLJ",
        "outputId": "d69c04e3-9908-4802-8441-362d0f0f02f0"
      },
      "execution_count": 11,
      "outputs": [
        {
          "output_type": "stream",
          "name": "stdout",
          "text": [
            "1875/1875 [==============================] - 9s 5ms/step - loss: 6.1827e-04 - accuracy: 1.0000\n",
            "313/313 [==============================] - 2s 6ms/step - loss: 0.0120 - accuracy: 0.9840\n",
            "Train Accuracy:\t 0.9999833106994629\n",
            "\n",
            "Test Accuracy:\t 0.984000027179718\n"
          ]
        }
      ]
    },
    {
      "cell_type": "code",
      "source": [
        "pyplot.plot(history.history['accuracy'],label='train')\n",
        "pyplot.plot(history.history['val_accuracy'],label='test')\n",
        "pyplot.legend()\n",
        "pyplot.show()"
      ],
      "metadata": {
        "colab": {
          "base_uri": "https://localhost:8080/",
          "height": 430
        },
        "id": "ES2s8cq1bnCI",
        "outputId": "1ebaa96b-6c02-4e7c-b4fa-a2b43d09f35f"
      },
      "execution_count": 12,
      "outputs": [
        {
          "output_type": "display_data",
          "data": {
            "text/plain": [
              "<Figure size 640x480 with 1 Axes>"
            ],
            "image/png": "[encoded data removed]"
          },
          "metadata": {}
        }
      ]
    },
    {
      "cell_type": "code",
      "source": [
        "pip install keras_tuner -q"
      ],
      "metadata": {
        "colab": {
          "base_uri": "https://localhost:8080/"
        },
        "id": "EDweaXwYbwtD",
        "outputId": "1690f983-276e-44ce-808d-cd78b3c7beda"
      },
      "execution_count": 14,
      "outputs": [
        {
          "output_type": "stream",
          "name": "stdout",
          "text": [
            "\u001b[?25l     \u001b[90m━━━━━━━━━━━━━━━━━━━━━━━━━━━━━━━━━━━━━━━━\u001b[0m \u001b[32m0.0/128.9 kB\u001b[0m \u001b[31m?\u001b[0m eta \u001b[36m-:--:--\u001b[0m\r\u001b[2K     \u001b[91m━━━━━━━━━━━━━━━━━━━━━━━━━━━━━━━━━━━━━━\u001b[0m\u001b[90m╺\u001b[0m\u001b[90m━\u001b[0m \u001b[32m122.9/128.9 kB\u001b[0m \u001b[31m4.2 MB/s\u001b[0m eta \u001b[36m0:00:01\u001b[0m\r\u001b[2K     \u001b[90m━━━━━━━━━━━━━━━━━━━━━━━━━━━━━━━━━━━━━━━━\u001b[0m \u001b[32m128.9/128.9 kB\u001b[0m \u001b[31m3.3 MB/s\u001b[0m eta \u001b[36m0:00:00\u001b[0m\n",
            "\u001b[?25h"
          ]
        }
      ]
    },
    {
      "cell_type": "code",
      "source": [
        "import keras_tuner\n",
        "from kerastuner.tuners import Hyperband"
      ],
      "metadata": {
        "colab": {
          "base_uri": "https://localhost:8080/"
        },
        "id": "2-LO9kt2cUNo",
        "outputId": "bbe44eab-1729-48c1-cdae-27ca9346ffb6"
      },
      "execution_count": 15,
      "outputs": [
        {
          "output_type": "stream",
          "name": "stderr",
          "text": [
            "<ipython-input-15-8b140884954f>:2: DeprecationWarning: `import kerastuner` is deprecated, please use `import keras_tuner`.\n",
            "  from kerastuner.tuners import Hyperband\n"
          ]
        }
      ]
    },
    {
      "cell_type": "code",
      "source": [
        "import tensorflow as tf\n",
        "from tensorflow import keras\n",
        "from tensorflow.keras import layers\n",
        "from kerastuner.engine.hyperparameters import HyperParameter"
      ],
      "metadata": {
        "id": "NI_Et17ncb3E"
      },
      "execution_count": 16,
      "outputs": []
    },
    {
      "cell_type": "code",
      "source": [
        "# Load and preprocess the MNIST dataset\n",
        "(x_train, y_train), (x_test, y_test) = keras.datasets.mnist.load_data()\n",
        "x_train, x_test = x_train / 255.0, x_test / 255.0\n",
        "\n",
        "# Define the model-building function\n",
        "def build_model(hp):\n",
        "    model = keras.Sequential()\n",
        "    model.add(layers.Flatten(input_shape=(28, 28)))\n",
        "\n",
        "    # Tune the number of hidden layers and units\n",
        "    for i in range(hp.Int('num_layers', 1, 3)):\n",
        "        model.add(layers.Dense(units=hp.Int(f'units_{i}', 32, 128, step=32), activation='relu'))\n",
        "        model.add(layers.Dropout(0.2))\n",
        "\n",
        "    model.add(layers.Dense(10, activation='softmax'))\n",
        "\n",
        "    # Compile the model with a tunable learning rate\n",
        "    model.compile(\n",
        "        optimizer=keras.optimizers.Adam(learning_rate=hp.Choice('learning_rate', values=[1e-2, 1e-3, 1e-4])),\n",
        "        loss='sparse_categorical_crossentropy',\n",
        "        metrics=['accuracy']\n",
        "    )\n",
        "\n",
        "    return model\n",
        "\n",
        "# Instantiate the tuner and perform hyperparameter tuning\n",
        "tuner = Hyperband(\n",
        "    build_model,\n",
        "    objective='val_accuracy',\n",
        "    max_epochs=10,\n",
        "    factor=3,\n",
        "    directory='keras_tuner_dir',\n",
        "    project_name='mnist_hyperband'\n",
        ")\n",
        "\n",
        "tuner.search(x_train, y_train, epochs=10, validation_data=(x_test,y_test))\n",
        "\n",
        "# Get the best hyperparameters\n",
        "best_hps = tuner.get_best_hyperparameters(num_trials=1)[0]\n",
        "\n",
        "# Build the model with the best hyperparameters\n",
        "best_model = tuner.hypermodel.build(best_hps)\n",
        "\n",
        "# Train the model with the best hyperparameters\n",
        "best_model.fit(x_train, y_train, epochs=10, validation_data=(x_test,y_test))"
      ],
      "metadata": {
        "colab": {
          "base_uri": "https://localhost:8080/"
        },
        "id": "2gkiOX8OcgeM",
        "outputId": "16f96452-56de-4596-b2ed-3702cbac9e2c"
      },
      "execution_count": 17,
      "outputs": [
        {
          "output_type": "stream",
          "name": "stdout",
          "text": [
            "Trial 30 Complete [00h 01m 24s]\n",
            "val_accuracy: 0.9395999908447266\n",
            "\n",
            "Best val_accuracy So Far: 0.9801999926567078\n",
            "Total elapsed time: 00h 27m 04s\n",
            "Epoch 1/10\n",
            "1875/1875 [==============================] - 11s 5ms/step - loss: 0.3470 - accuracy: 0.8966 - val_loss: 0.1421 - val_accuracy: 0.9553\n",
            "Epoch 2/10\n",
            "1875/1875 [==============================] - 8s 4ms/step - loss: 0.1754 - accuracy: 0.9467 - val_loss: 0.1214 - val_accuracy: 0.9632\n",
            "Epoch 3/10\n",
            "1875/1875 [==============================] - 9s 5ms/step - loss: 0.1373 - accuracy: 0.9574 - val_loss: 0.1022 - val_accuracy: 0.9705\n",
            "Epoch 4/10\n",
            "1875/1875 [==============================] - 9s 5ms/step - loss: 0.1181 - accuracy: 0.9634 - val_loss: 0.0866 - val_accuracy: 0.9748\n",
            "Epoch 5/10\n",
            "1875/1875 [==============================] - 10s 5ms/step - loss: 0.1023 - accuracy: 0.9682 - val_loss: 0.0875 - val_accuracy: 0.9754\n",
            "Epoch 6/10\n",
            "1875/1875 [==============================] - 10s 5ms/step - loss: 0.0969 - accuracy: 0.9700 - val_loss: 0.0838 - val_accuracy: 0.9754\n",
            "Epoch 7/10\n",
            "1875/1875 [==============================] - 9s 5ms/step - loss: 0.0864 - accuracy: 0.9729 - val_loss: 0.0807 - val_accuracy: 0.9759\n",
            "Epoch 8/10\n",
            "1875/1875 [==============================] - 10s 5ms/step - loss: 0.0804 - accuracy: 0.9751 - val_loss: 0.0825 - val_accuracy: 0.9765\n",
            "Epoch 9/10\n",
            "1875/1875 [==============================] - 10s 5ms/step - loss: 0.0752 - accuracy: 0.9758 - val_loss: 0.0827 - val_accuracy: 0.9769\n",
            "Epoch 10/10\n",
            "1875/1875 [==============================] - 9s 5ms/step - loss: 0.0742 - accuracy: 0.9766 - val_loss: 0.0794 - val_accuracy: 0.9776\n"
          ]
        },
        {
          "output_type": "execute_result",
          "data": {
            "text/plain": [
              "<keras.src.callbacks.History at 0x795bb8fbf220>"
            ]
          },
          "metadata": {},
          "execution_count": 17
        }
      ]
    }
  ]
}