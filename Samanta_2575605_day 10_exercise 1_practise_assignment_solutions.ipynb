{
 "cells": [
  {
   "cell_type": "code",
   "execution_count": 3,
   "id": "286473fb",
   "metadata": {},
   "outputs": [],
   "source": [
    "%matplotlib inline \n",
    "import pandas as pd"
   ]
  },
  {
   "cell_type": "code",
   "execution_count": 5,
   "id": "37463a60",
   "metadata": {},
   "outputs": [
    {
     "data": {
      "text/html": [
       "<div>\n",
       "<style scoped>\n",
       "    .dataframe tbody tr th:only-of-type {\n",
       "        vertical-align: middle;\n",
       "    }\n",
       "\n",
       "    .dataframe tbody tr th {\n",
       "        vertical-align: top;\n",
       "    }\n",
       "\n",
       "    .dataframe thead th {\n",
       "        text-align: right;\n",
       "    }\n",
       "</style>\n",
       "<table border=\"1\" class=\"dataframe\">\n",
       "  <thead>\n",
       "    <tr style=\"text-align: right;\">\n",
       "      <th></th>\n",
       "      <th>title</th>\n",
       "      <th>year</th>\n",
       "    </tr>\n",
       "  </thead>\n",
       "  <tbody>\n",
       "    <tr>\n",
       "      <th>0</th>\n",
       "      <td>Tasveer Mere Sanam</td>\n",
       "      <td>1996</td>\n",
       "    </tr>\n",
       "    <tr>\n",
       "      <th>1</th>\n",
       "      <td>Only You</td>\n",
       "      <td>1994</td>\n",
       "    </tr>\n",
       "    <tr>\n",
       "      <th>2</th>\n",
       "      <td>El pueblo del terror</td>\n",
       "      <td>1970</td>\n",
       "    </tr>\n",
       "    <tr>\n",
       "      <th>3</th>\n",
       "      <td>Machine</td>\n",
       "      <td>2007</td>\n",
       "    </tr>\n",
       "    <tr>\n",
       "      <th>4</th>\n",
       "      <td>MARy</td>\n",
       "      <td>2008</td>\n",
       "    </tr>\n",
       "  </tbody>\n",
       "</table>\n",
       "</div>"
      ],
      "text/plain": [
       "                  title  year\n",
       "0    Tasveer Mere Sanam  1996\n",
       "1              Only You  1994\n",
       "2  El pueblo del terror  1970\n",
       "3               Machine  2007\n",
       "4                  MARy  2008"
      ]
     },
     "execution_count": 5,
     "metadata": {},
     "output_type": "execute_result"
    }
   ],
   "source": [
    "titles= pd.read_csv('titles.csv')\n",
    "\n",
    "titles.head()"
   ]
  },
  {
   "cell_type": "markdown",
   "id": "53cd9f92",
   "metadata": {},
   "source": [
    "# 1. How many movies are listed in the titles dataframe?"
   ]
  },
  {
   "cell_type": "code",
   "execution_count": 6,
   "id": "1b67ac02",
   "metadata": {},
   "outputs": [
    {
     "name": "stdout",
     "output_type": "stream",
     "text": [
      "Total number of movies listed: 244914\n"
     ]
    }
   ],
   "source": [
    "import pandas as pd\n",
    "\n",
    "df = pd.read_csv(\"titles.csv\")\n",
    "\n",
    "num_movies = len(df)\n",
    "\n",
    "print(f'Total number of movies listed: {num_movies}')"
   ]
  },
  {
   "cell_type": "markdown",
   "id": "1ad69513",
   "metadata": {},
   "source": [
    "# 2.What are the earliest two films listed in the titles dataframe?"
   ]
  },
  {
   "cell_type": "code",
   "execution_count": 8,
   "id": "9cc018e7",
   "metadata": {},
   "outputs": [
    {
     "name": "stdout",
     "output_type": "stream",
     "text": [
      "The earliest two films listed:\n",
      "                     title  year\n",
      "193222          Miss Jerry  1894\n",
      "51388   The Startled Lover  1898\n"
     ]
    }
   ],
   "source": [
    "import pandas as pd\n",
    "\n",
    "df = pd.read_csv(\"titles.csv\")\n",
    "\n",
    "df_sorted = df.sort_values(by='year')\n",
    "\n",
    "earliest_films = df_sorted.head(2)\n",
    "\n",
    "print(\"The earliest two films listed:\")\n",
    "print(earliest_films[['title', 'year']])"
   ]
  },
  {
   "cell_type": "markdown",
   "id": "6f2a0125",
   "metadata": {},
   "source": [
    "# 3.How many movies have the title \"Hamlet\"?"
   ]
  },
  {
   "cell_type": "code",
   "execution_count": 10,
   "id": "6c9b9379",
   "metadata": {},
   "outputs": [
    {
     "name": "stdout",
     "output_type": "stream",
     "text": [
      "The number of movies with the title \"Hamlet\" is: 20\n"
     ]
    }
   ],
   "source": [
    "import pandas as pd\n",
    "\n",
    "csv_file = \"titles.csv\"\n",
    "\n",
    "df = pd.read_csv(csv_file)\n",
    "\n",
    "hamlet_movies = df[df['title'] == 'Hamlet']\n",
    "\n",
    "num_hamlet_movies = hamlet_movies.shape[0]\n",
    "\n",
    "print(f'The number of movies with the title \"Hamlet\" is: {num_hamlet_movies}')"
   ]
  },
  {
   "cell_type": "markdown",
   "id": "a1db12c4",
   "metadata": {},
   "source": [
    "# 4. How many movies are titled \"North by Northwest\"?"
   ]
  },
  {
   "cell_type": "code",
   "execution_count": 11,
   "id": "f0814a45",
   "metadata": {},
   "outputs": [
    {
     "name": "stdout",
     "output_type": "stream",
     "text": [
      "The number of movies titled \"North by Northwest\" is: 1\n"
     ]
    }
   ],
   "source": [
    "import pandas as pd\n",
    "\n",
    "csv_file = \"titles.csv\"\n",
    "\n",
    "df = pd.read_csv(csv_file)\n",
    "\n",
    "north_by_northwest_movies = df[df['title'] == 'North by Northwest']\n",
    "\n",
    "num_north_by_northwest_movies = north_by_northwest_movies.shape[0]\n",
    "\n",
    "print(f'The number of movies titled \"North by Northwest\" is: {num_north_by_northwest_movies}')"
   ]
  },
  {
   "cell_type": "markdown",
   "id": "0a5fc8c3",
   "metadata": {},
   "source": [
    "# 5.When was the first movie titled \"Hamlet\" made?"
   ]
  },
  {
   "cell_type": "code",
   "execution_count": 12,
   "id": "d483b779",
   "metadata": {},
   "outputs": [
    {
     "name": "stdout",
     "output_type": "stream",
     "text": [
      "The first movie titled \"Hamlet\" was made in the year: 1910\n"
     ]
    }
   ],
   "source": [
    "import pandas as pd\n",
    "\n",
    "csv_file = \"titles.csv\"\n",
    "\n",
    "df = pd.read_csv(csv_file)\n",
    "\n",
    "hamlet_movies = df[df['title'] == 'Hamlet']\n",
    "\n",
    "hamlet_movies = hamlet_movies.sort_values(by='year')\n",
    "\n",
    "first_hamlet_movie_year = hamlet_movies.iloc[0]['year']\n",
    "\n",
    "print(f'The first movie titled \"Hamlet\" was made in the year: {first_hamlet_movie_year}')"
   ]
  },
  {
   "cell_type": "markdown",
   "id": "079918a3",
   "metadata": {},
   "source": [
    "# 6. How many movies were made in the year 1950?"
   ]
  },
  {
   "cell_type": "code",
   "execution_count": 13,
   "id": "087ae5d7",
   "metadata": {},
   "outputs": [
    {
     "name": "stdout",
     "output_type": "stream",
     "text": [
      "The number of movies made in the year 1950 is: 1113\n"
     ]
    }
   ],
   "source": [
    "import pandas as pd\n",
    "\n",
    "csv_file = \"titles.csv\"\n",
    "\n",
    "df = pd.read_csv(csv_file)\n",
    "\n",
    "movies_1950 = df[df['year'] == 1950]\n",
    "\n",
    "num_movies_1950 = movies_1950.shape[0]\n",
    "\n",
    "print(f'The number of movies made in the year 1950 is: {num_movies_1950}')"
   ]
  },
  {
   "cell_type": "markdown",
   "id": "5c1d110f",
   "metadata": {},
   "source": [
    "# 7. How many movies were made in the year 1960?"
   ]
  },
  {
   "cell_type": "code",
   "execution_count": 14,
   "id": "9af54ed6",
   "metadata": {},
   "outputs": [
    {
     "name": "stdout",
     "output_type": "stream",
     "text": [
      "The number of movies made in the year 1960 is: 1549\n"
     ]
    }
   ],
   "source": [
    "import pandas as pd\n",
    "\n",
    "csv_file = \"titles.csv\"\n",
    "\n",
    "df = pd.read_csv(csv_file)\n",
    "\n",
    "movies_1960 = df[df['year'] == 1960]\n",
    "\n",
    "num_movies_1960 = movies_1960.shape[0]\n",
    "\n",
    "print(f'The number of movies made in the year 1960 is: {num_movies_1960}')"
   ]
  },
  {
   "cell_type": "markdown",
   "id": "2d320c94",
   "metadata": {},
   "source": [
    "# 8. How many movies were made from 1950 through 1959?"
   ]
  },
  {
   "cell_type": "code",
   "execution_count": 15,
   "id": "8a8a103b",
   "metadata": {},
   "outputs": [
    {
     "name": "stdout",
     "output_type": "stream",
     "text": [
      "The number of movies made from 1950 through 1959 is: 12934\n"
     ]
    }
   ],
   "source": [
    "import pandas as pd\n",
    "\n",
    "csv_file = \"titles.csv\"\n",
    "\n",
    "df = pd.read_csv(csv_file)\n",
    "\n",
    "movies_1950s = df[(df['year'] >= 1950) & (df['year'] <= 1959)]\n",
    "\n",
    "num_movies_1950s = movies_1950s.shape[0]\n",
    "\n",
    "print(f'The number of movies made from 1950 through 1959 is: {num_movies_1950s}')"
   ]
  },
  {
   "cell_type": "markdown",
   "id": "55c17756",
   "metadata": {},
   "source": [
    "# 9. In what years has a movie titled \"Batman\" been released?"
   ]
  },
  {
   "cell_type": "code",
   "execution_count": 16,
   "id": "15d45d56",
   "metadata": {},
   "outputs": [
    {
     "name": "stdout",
     "output_type": "stream",
     "text": [
      "Years in which a movie titled \"Batman\" has been released: [1943 1989]\n"
     ]
    }
   ],
   "source": [
    "import pandas as pd\n",
    "\n",
    "csv_file = \"titles.csv\"\n",
    "\n",
    "df = pd.read_csv(csv_file)\n",
    "\n",
    "batman_movies = df[df['title'] == 'Batman']\n",
    "\n",
    "unique_years = batman_movies['year'].unique()\n",
    "\n",
    "print(f'Years in which a movie titled \"Batman\" has been released: {unique_years}')"
   ]
  },
  {
   "cell_type": "markdown",
   "id": "a46ffd45",
   "metadata": {},
   "source": [
    "# 10. How many roles were there in the movie \"Inception\"?"
   ]
  },
  {
   "cell_type": "code",
   "execution_count": 17,
   "id": "f01a5bc0",
   "metadata": {},
   "outputs": [
    {
     "name": "stdout",
     "output_type": "stream",
     "text": [
      "The number of roles in the movie \"Inception\" is: 56\n"
     ]
    }
   ],
   "source": [
    "import pandas as pd\n",
    "\n",
    "csv_file = \"cast.csv\"\n",
    "\n",
    "df = pd.read_csv(csv_file)\n",
    "\n",
    "inception_roles = df[df['title'] == 'Inception']\n",
    "\n",
    "num_roles_inception = inception_roles['character'].nunique()\n",
    "\n",
    "print(f'The number of roles in the movie \"Inception\" is: {num_roles_inception}')"
   ]
  },
  {
   "cell_type": "markdown",
   "id": "1fec0284",
   "metadata": {},
   "source": [
    "# 11. How many roles in the movie \"Inception\" are NOT ranked by an \"n\" value?"
   ]
  },
  {
   "cell_type": "code",
   "execution_count": 18,
   "id": "3e85885e",
   "metadata": {},
   "outputs": [
    {
     "name": "stdout",
     "output_type": "stream",
     "text": [
      "The number of roles in the movie \"Inception\" that are not ranked by an \"n\" value is: 27\n"
     ]
    }
   ],
   "source": [
    "import pandas as pd\n",
    "\n",
    "csv_file = \"cast.csv\"\n",
    "\n",
    "df = pd.read_csv(csv_file)\n",
    "\n",
    "inception_roles = df[df['title'] == 'Inception']\n",
    "\n",
    "num_unranked_roles = inception_roles['n'].isna().sum()\n",
    "\n",
    "print(f'The number of roles in the movie \"Inception\" that are not ranked by an \"n\" value is: {num_unranked_roles}')"
   ]
  },
  {
   "cell_type": "markdown",
   "id": "7c12d03f",
   "metadata": {},
   "source": [
    "# 12. But how many roles in the movie \"Inception\" did receive an \"n\" value?"
   ]
  },
  {
   "cell_type": "code",
   "execution_count": 19,
   "id": "5dd91ab3",
   "metadata": {},
   "outputs": [
    {
     "name": "stdout",
     "output_type": "stream",
     "text": [
      "The number of roles in the movie \"Inception\" that received an \"n\" value is: 51\n"
     ]
    }
   ],
   "source": [
    "import pandas as pd\n",
    "\n",
    "csv_file = \"cast.csv\"\n",
    "\n",
    "df = pd.read_csv(csv_file)\n",
    "\n",
    "inception_roles = df[df['title'] == 'Inception']\n",
    "\n",
    "num_ranked_roles = inception_roles['n'].notna().sum()\n",
    "\n",
    "print(f'The number of roles in the movie \"Inception\" that received an \"n\" value is: {num_ranked_roles}')"
   ]
  },
  {
   "cell_type": "markdown",
   "id": "d3f234c1",
   "metadata": {},
   "source": [
    "# 13. Display the cast of \"North by Northwest\" in their correct \"n\"-value order, ignoring roles that did not earn a numeric \"n\" value."
   ]
  },
  {
   "cell_type": "code",
   "execution_count": 20,
   "id": "598b9ee9",
   "metadata": {},
   "outputs": [
    {
     "name": "stdout",
     "output_type": "stream",
     "text": [
      "                         name                    character     n\n",
      "871426             Cary Grant           Roger O. Thornhill   1.0\n",
      "3518333       Eva Marie Saint                  Eve Kendall   2.0\n",
      "1457165           James Mason              Phillip Vandamm   3.0\n",
      "3157232   Jessie Royce Landis              Clara Thornhill   4.0\n",
      "356707         Leo G. Carroll                The Professor   5.0\n",
      "3048272  Josephine Hutchinson                Mrs. Townsend   6.0\n",
      "1695173           Philip Ober              Lester Townsend   7.0\n",
      "1275337         Martin Landau                      Leonard   8.0\n",
      "2447081         Adam Williams                     Valerian   9.0\n",
      "1811387          Edward Platt              Victor Larrabee  10.0\n",
      "665768      Robert Ellenstein                        Licht  11.0\n",
      "2295714          Les Tremayne                   Auctioneer  12.0\n",
      "464736        Philip Coolidge                    Dr. Cross  13.0\n",
      "1508344         Patrick McVey               Sergeant Flamm  14.0\n",
      "206471           Edward Binns               Captain Junket  15.0\n",
      "1384780             Ken Lynch  Charley - Chicago Policeman  16.0\n"
     ]
    },
    {
     "name": "stderr",
     "output_type": "stream",
     "text": [
      "C:\\Users\\Samanta Patil\\AppData\\Local\\Temp\\ipykernel_25712\\2283023261.py:9: SettingWithCopyWarning: \n",
      "A value is trying to be set on a copy of a slice from a DataFrame.\n",
      "Try using .loc[row_indexer,col_indexer] = value instead\n",
      "\n",
      "See the caveats in the documentation: https://pandas.pydata.org/pandas-docs/stable/user_guide/indexing.html#returning-a-view-versus-a-copy\n",
      "  north_by_northwest_cast['n'] = pd.to_numeric(north_by_northwest_cast['n'])\n"
     ]
    }
   ],
   "source": [
    "import pandas as pd\n",
    "\n",
    "csv_file = \"cast.csv\"\n",
    "\n",
    "df = pd.read_csv(csv_file)\n",
    "\n",
    "north_by_northwest_cast = df[(df['title'] == 'North by Northwest') & df['n'].notna()]\n",
    "\n",
    "north_by_northwest_cast['n'] = pd.to_numeric(north_by_northwest_cast['n'])\n",
    "\n",
    "north_by_northwest_cast = north_by_northwest_cast.sort_values(by='n')\n",
    "\n",
    "print(north_by_northwest_cast[['name', 'character', 'n']])"
   ]
  },
  {
   "cell_type": "markdown",
   "id": "ff48fa8f",
   "metadata": {},
   "source": [
    "# 14. Display the entire cast, in \"n\"-order, of the 1972 film \"Sleuth\""
   ]
  },
  {
   "cell_type": "code",
   "execution_count": 21,
   "id": "121ae4ed",
   "metadata": {},
   "outputs": [
    {
     "name": "stdout",
     "output_type": "stream",
     "text": [
      "                       name                   character    n\n",
      "1705394    Laurence Olivier                 Andrew Wyke  1.0\n",
      "326773        Michael Caine                 Milo Tindle  2.0\n",
      "373876       Alec Cawthorne           Inspector Doppler  3.0\n",
      "1465483  John (II) Matthews  Detective Sergeant Tarrant  4.0\n",
      "2724553  Eve (III) Channing             Marguerite Wyke  5.0\n",
      "1448690        Teddy Martin      Police Constable Higgs  6.0\n"
     ]
    }
   ],
   "source": [
    "import pandas as pd\n",
    "\n",
    "csv_file = \"cast.csv\"\n",
    "\n",
    "df = pd.read_csv(csv_file)\n",
    "\n",
    "sleuth_1972_cast = df[(df['title'] == 'Sleuth') & (df['year'] == 1972)]\n",
    "\n",
    "sleuth_1972_cast = sleuth_1972_cast.sort_values(by='n')\n",
    "\n",
    "print(sleuth_1972_cast[['name', 'character', 'n']])"
   ]
  },
  {
   "cell_type": "markdown",
   "id": "627a6eb0",
   "metadata": {},
   "source": [
    "# 15. Now display the entire cast, in \"n\"-order, of the 2007 version of \"Sleuth\"."
   ]
  },
  {
   "cell_type": "code",
   "execution_count": 22,
   "id": "a106e578",
   "metadata": {},
   "outputs": [
    {
     "name": "stdout",
     "output_type": "stream",
     "text": [
      "                        name          character    n\n",
      "326774         Michael Caine             Andrew  1.0\n",
      "1293634             Jude Law               Milo  2.0\n",
      "1805907        Harold Pinter        Man on T.V.  3.0\n",
      "260242       Kenneth Branagh  Other Man on T.V.  NaN\n",
      "373877   Alec (II) Cawthorne  Inspector Doppler  NaN\n",
      "2724552    Eve (II) Channing    Marguerite Wyke  NaN\n",
      "3370424    Carmel O'Sullivan             Maggie  NaN\n"
     ]
    }
   ],
   "source": [
    "import pandas as pd\n",
    "\n",
    "csv_file = \"cast.csv\"\n",
    "\n",
    "df = pd.read_csv(csv_file)\n",
    "\n",
    "sleuth_2007_cast = df[(df['title'] == 'Sleuth') & (df['year'] == 2007)]\n",
    "\n",
    "sleuth_2007_cast = sleuth_2007_cast.sort_values(by='n')\n",
    "\n",
    "print(sleuth_2007_cast[['name', 'character', 'n']])"
   ]
  },
  {
   "cell_type": "markdown",
   "id": "1af3c5eb",
   "metadata": {},
   "source": [
    "# 16. How many roles were credited in the silent 1921 version of Hamlet?"
   ]
  },
  {
   "cell_type": "code",
   "execution_count": 23,
   "id": "36b9a032",
   "metadata": {},
   "outputs": [
    {
     "name": "stdout",
     "output_type": "stream",
     "text": [
      "The number of roles credited in the silent 1921 version of \"Hamlet\" is: 9\n"
     ]
    }
   ],
   "source": [
    "import pandas as pd\n",
    "\n",
    "csv_file = \"cast.csv\"\n",
    "\n",
    "df = pd.read_csv(csv_file)\n",
    "\n",
    "hamlet_1921_cast = df[(df['title'] == 'Hamlet') & (df['year'] == 1921)]\n",
    "\n",
    "num_credited_roles = hamlet_1921_cast.shape[0]\n",
    "\n",
    "print(f'The number of roles credited in the silent 1921 version of \"Hamlet\" is: {num_credited_roles}')"
   ]
  },
  {
   "cell_type": "markdown",
   "id": "73159577",
   "metadata": {},
   "source": [
    "# 17. How many roles were credited in Branagh's 1996 Hamlet?"
   ]
  },
  {
   "cell_type": "code",
   "execution_count": 24,
   "id": "5a6cbbf7",
   "metadata": {},
   "outputs": [
    {
     "name": "stdout",
     "output_type": "stream",
     "text": [
      "The number of credited roles in Kenneth Branagh's 1996 version of \"Hamlet\" is: 54\n"
     ]
    }
   ],
   "source": [
    "import pandas as pd\n",
    "\n",
    "csv_file = \"cast.csv\"\n",
    "\n",
    "df = pd.read_csv(csv_file)\n",
    "\n",
    "branagh_hamlet_1996_cast = df[(df['title'] == 'Hamlet') & (df['year'] == 1996)]\n",
    "\n",
    "num_credited_roles = branagh_hamlet_1996_cast.shape[0]\n",
    "\n",
    "print(f'The number of credited roles in Kenneth Branagh\\'s 1996 version of \"Hamlet\" is: {num_credited_roles}')"
   ]
  },
  {
   "cell_type": "markdown",
   "id": "12d7e71c",
   "metadata": {},
   "source": [
    "# 18. How many \"Hamlet\" roles have been listed in all film credits through history?"
   ]
  },
  {
   "cell_type": "code",
   "execution_count": 25,
   "id": "39790856",
   "metadata": {},
   "outputs": [
    {
     "name": "stdout",
     "output_type": "stream",
     "text": [
      "The number of \"Hamlet\" roles listed in all film credits through history is: 112\n"
     ]
    }
   ],
   "source": [
    "import pandas as pd\n",
    "\n",
    "csv_file = \"cast.csv\"\n",
    "\n",
    "df = pd.read_csv(csv_file)\n",
    "\n",
    "hamlet_roles = df[df['title'] == 'Hamlet']\n",
    "\n",
    "num_hamlet_roles = hamlet_roles['character'].nunique()\n",
    "\n",
    "print(f'The number of \"Hamlet\" roles listed in all film credits through history is: {num_hamlet_roles}')"
   ]
  },
  {
   "cell_type": "markdown",
   "id": "2d3ba249",
   "metadata": {},
   "source": [
    "# 19. How many people have played an \"Ophelia\"?\n"
   ]
  },
  {
   "cell_type": "code",
   "execution_count": 26,
   "id": "d0ef1f88",
   "metadata": {},
   "outputs": [
    {
     "name": "stdout",
     "output_type": "stream",
     "text": [
      "The number of people who have played the role of \"Ophelia\" is: 115\n"
     ]
    }
   ],
   "source": [
    "import pandas as pd\n",
    "csv_file = \"cast.csv\"\n",
    "\n",
    "df = pd.read_csv(csv_file)\n",
    "\n",
    "ophelia_roles = df[df['character'] == 'Ophelia']\n",
    "\n",
    "num_ophelia_actors = ophelia_roles['name'].nunique()\n",
    "\n",
    "print(f'The number of people who have played the role of \"Ophelia\" is: {num_ophelia_actors}')"
   ]
  },
  {
   "cell_type": "markdown",
   "id": "99abd275",
   "metadata": {},
   "source": [
    "# 20. How many people have played a role called \"The Dude\"?"
   ]
  },
  {
   "cell_type": "code",
   "execution_count": 27,
   "id": "70dcde86",
   "metadata": {},
   "outputs": [
    {
     "name": "stdout",
     "output_type": "stream",
     "text": [
      "The number of people who have played a role called \"The Dude\" is: 19\n"
     ]
    }
   ],
   "source": [
    "import pandas as pd\n",
    "\n",
    "csv_file = \"cast.csv\"\n",
    "\n",
    "df = pd.read_csv(csv_file)\n",
    "\n",
    "the_dude_roles = df[df['character'] == 'The Dude']\n",
    "\n",
    "num_the_dude_actors = the_dude_roles['name'].nunique()\n",
    "\n",
    "print(f'The number of people who have played a role called \"The Dude\" is: {num_the_dude_actors}')"
   ]
  },
  {
   "cell_type": "markdown",
   "id": "c530e1dc",
   "metadata": {},
   "source": [
    "# 21 How many people have played a role called \"The Stranger\"?"
   ]
  },
  {
   "cell_type": "code",
   "execution_count": 28,
   "id": "d10ce654",
   "metadata": {},
   "outputs": [
    {
     "name": "stdout",
     "output_type": "stream",
     "text": [
      "The number of people who have played a role called \"The Stranger\" is: 202\n"
     ]
    }
   ],
   "source": [
    "import pandas as pd\n",
    "csv_file = \"cast.csv\"\n",
    "\n",
    "df = pd.read_csv(csv_file)\n",
    "\n",
    "the_stranger_roles = df[df['character'] == 'The Stranger']\n",
    "\n",
    "num_the_stranger_actors = the_stranger_roles['name'].nunique()\n",
    "\n",
    "print(f'The number of people who have played a role called \"The Stranger\" is: {num_the_stranger_actors}')"
   ]
  },
  {
   "cell_type": "markdown",
   "id": "bc2b3986",
   "metadata": {},
   "source": [
    "# 22 How many roles has Sidney Poitier played throughout his career?"
   ]
  },
  {
   "cell_type": "code",
   "execution_count": 29,
   "id": "22c778a8",
   "metadata": {},
   "outputs": [
    {
     "name": "stdout",
     "output_type": "stream",
     "text": [
      "Sidney Poitier has played 41 roles throughout his career.\n"
     ]
    }
   ],
   "source": [
    "import pandas as pd\n",
    "\n",
    "csv_file = \"cast.csv\"\n",
    "\n",
    "df = pd.read_csv(csv_file)\n",
    "\n",
    "sidney_poitier_roles = df[df['name'] == 'Sidney Poitier']\n",
    "\n",
    "num_sidney_poitier_roles = sidney_poitier_roles['character'].nunique()\n",
    "\n",
    "print(f'Sidney Poitier has played {num_sidney_poitier_roles} roles throughout his career.')"
   ]
  },
  {
   "cell_type": "markdown",
   "id": "92cb32c0",
   "metadata": {},
   "source": [
    "# 23.How many roles has Judi Dench played?"
   ]
  },
  {
   "cell_type": "code",
   "execution_count": 30,
   "id": "2936efa3",
   "metadata": {},
   "outputs": [
    {
     "name": "stdout",
     "output_type": "stream",
     "text": [
      "Judi Dench has played 46 roles throughout her career.\n"
     ]
    }
   ],
   "source": [
    "import pandas as pd\n",
    "\n",
    "csv_file = \"cast.csv\"\n",
    "\n",
    "df = pd.read_csv(csv_file)\n",
    "\n",
    "judi_dench_roles = df[df['name'] == 'Judi Dench']\n",
    "\n",
    "num_judi_dench_roles = judi_dench_roles['character'].nunique()\n",
    "\n",
    "print(f'Judi Dench has played {num_judi_dench_roles} roles throughout her career.')"
   ]
  },
  {
   "cell_type": "markdown",
   "id": "d9863473",
   "metadata": {},
   "source": [
    "# 24. List the supporting roles (having n=2) played by Cary Grant in the 1940s, in order by year."
   ]
  },
  {
   "cell_type": "code",
   "execution_count": 31,
   "id": "330b330e",
   "metadata": {},
   "outputs": [
    {
     "name": "stdout",
     "output_type": "stream",
     "text": [
      "        year    character\n",
      "871423  1940   Nick Arden\n",
      "871433  1941  Roger Adams\n"
     ]
    }
   ],
   "source": [
    "import pandas as pd\n",
    "\n",
    "csv_file = \"cast.csv\"\n",
    "\n",
    "df = pd.read_csv(csv_file)\n",
    "\n",
    "cary_grant_supporting_roles_1940s = df[(df['name'] == 'Cary Grant') & (df['n'] == 2) & (df['year'] >= 1940) & (df['year'] <= 1949)]\n",
    "\n",
    "cary_grant_supporting_roles_1940s = cary_grant_supporting_roles_1940s.sort_values(by='year')\n",
    "\n",
    "print(cary_grant_supporting_roles_1940s[['year', 'character']])"
   ]
  },
  {
   "cell_type": "markdown",
   "id": "1e5b14ab",
   "metadata": {},
   "source": [
    "# 25. List the leading roles that Cary Grant played in the 1940s in order by year"
   ]
  },
  {
   "cell_type": "code",
   "execution_count": 32,
   "id": "d2d1ebbb",
   "metadata": {},
   "outputs": [
    {
     "name": "stdout",
     "output_type": "stream",
     "text": [
      "        year                             character\n",
      "871448  1940                           Matt Howard\n",
      "871407  1940                          Walter Burns\n",
      "871450  1940                    C. K. Dexter Haven\n",
      "871438  1941                      Johnnie Aysgarth\n",
      "871452  1942                          Leopold Dilg\n",
      "871429  1942                 Patrick 'Pat' O'Toole\n",
      "871398  1943                         Capt. Cassidy\n",
      "871422  1943  Joe Adams -posing as Joe Bascopolous\n",
      "871430  1944                           Jerry Flynn\n",
      "871390  1944                     Mortimer Brewster\n",
      "871425  1944                            Ernie Mott\n",
      "871424  1946                           Cole Porter\n",
      "871427  1946                                Devlin\n",
      "871444  1947                           Dick Nugent\n",
      "871445  1947                                Dudley\n",
      "871421  1948                         Jim Blandings\n",
      "871402  1948                     Dr. Madison Brown\n",
      "871411  1949                 Captain Henri Rochard\n"
     ]
    }
   ],
   "source": [
    "import pandas as pd\n",
    "\n",
    "csv_file = \"cast.csv\"\n",
    "\n",
    "df = pd.read_csv(csv_file)\n",
    "\n",
    "cary_grant_leading_roles_1940s = df[(df['name'] == 'Cary Grant') & (df['n'] == 1) & (df['year'] >= 1940) & (df['year'] <= 1949)]\n",
    "\n",
    "cary_grant_leading_roles_1940s = cary_grant_leading_roles_1940s.sort_values(by='year')\n",
    "\n",
    "print(cary_grant_leading_roles_1940s[['year', 'character']])"
   ]
  },
  {
   "cell_type": "markdown",
   "id": "96f7cb2e",
   "metadata": {},
   "source": [
    "# 26. How many roles were available for actors in the 1950s?"
   ]
  },
  {
   "cell_type": "code",
   "execution_count": 33,
   "id": "b6fa7dd7",
   "metadata": {},
   "outputs": [
    {
     "name": "stdout",
     "output_type": "stream",
     "text": [
      "The number of roles available for actors in the 1950s is: 215471\n"
     ]
    }
   ],
   "source": [
    "import pandas as pd\n",
    "\n",
    "csv_file = \"cast.csv\"\n",
    "\n",
    "df = pd.read_csv(csv_file)\n",
    "\n",
    "roles_1950s = df[(df['year'] >= 1950) & (df['year'] <= 1959)]\n",
    "\n",
    "num_roles_1950s = roles_1950s.shape[0]\n",
    "\n",
    "print(f'The number of roles available for actors in the 1950s is: {num_roles_1950s}')"
   ]
  },
  {
   "cell_type": "markdown",
   "id": "c90c9bce",
   "metadata": {},
   "source": [
    "# 27. How many roles were available for actresses in the 1950s?"
   ]
  },
  {
   "cell_type": "code",
   "execution_count": 34,
   "id": "492e64b7",
   "metadata": {},
   "outputs": [
    {
     "name": "stdout",
     "output_type": "stream",
     "text": [
      "The number of roles available for actresses in the 1950s is: 57733\n"
     ]
    }
   ],
   "source": [
    "import pandas as pd\n",
    "\n",
    "csv_file = \"cast.csv\"\n",
    "\n",
    "df = pd.read_csv(csv_file)\n",
    "\n",
    "actress_roles_1950s = df[(df['year'] >= 1950) & (df['year'] <= 1959) & (df['type'] == 'actress')]\n",
    "\n",
    "num_actress_roles_1950s = actress_roles_1950s.shape[0]\n",
    "\n",
    "print(f'The number of roles available for actresses in the 1950s is: {num_actress_roles_1950s}')"
   ]
  },
  {
   "cell_type": "markdown",
   "id": "d54c21a2",
   "metadata": {},
   "source": [
    "# 28. How many leading roles (n=1) were available from the beginning of film history through 1980?"
   ]
  },
  {
   "cell_type": "code",
   "execution_count": 35,
   "id": "217f3d11",
   "metadata": {},
   "outputs": [
    {
     "name": "stdout",
     "output_type": "stream",
     "text": [
      "The number of leading roles (n=1) available from the beginning of film history through 1980 is: 65140\n"
     ]
    }
   ],
   "source": [
    "import pandas as pd\n",
    "\n",
    "csv_file = \"cast.csv\"\n",
    "\n",
    "df = pd.read_csv(csv_file)\n",
    "\n",
    "leading_roles_until_1980 = df[(df['year'] <= 1980) & (df['n'] == 1)]\n",
    "\n",
    "num_leading_roles_until_1980 = leading_roles_until_1980.shape[0]\n",
    "\n",
    "print(f'The number of leading roles (n=1) available from the beginning of film history through 1980 is: {num_leading_roles_until_1980}')"
   ]
  },
  {
   "cell_type": "markdown",
   "id": "cab98206",
   "metadata": {},
   "source": [
    "# 29. How many non-leading roles were available through from the beginning of film history through 1980?"
   ]
  },
  {
   "cell_type": "code",
   "execution_count": 43,
   "id": "38e88bb1",
   "metadata": {},
   "outputs": [
    {
     "name": "stdout",
     "output_type": "stream",
     "text": [
      "The number of non-leading roles (n values other than 1) available from the beginning of film history through 1980 is: 1117667\n"
     ]
    }
   ],
   "source": [
    "import pandas as pd\n",
    "\n",
    "csv_file = \"cast.csv\"\n",
    "\n",
    "df = pd.read_csv(csv_file)\n",
    "\n",
    "non_leading_roles_until_1980 = df[(df['year'] <= 1980) & (df['n'] != 1)]\n",
    "\n",
    "num_non_leading_roles_until_1980 = non_leading_roles_until_1980.shape[0]\n",
    "\n",
    "print(f'The number of non-leading roles (n values other than 1) available from the beginning of film history through 1980 is: {num_non_leading_roles_until_1980}')"
   ]
  },
  {
   "cell_type": "markdown",
   "id": "1ec5647a",
   "metadata": {},
   "source": [
    "# 30. How many roles through 1980 were minor enough that they did not warrant a numeric \"n\" rank?"
   ]
  },
  {
   "cell_type": "code",
   "execution_count": 44,
   "id": "9f12686b",
   "metadata": {},
   "outputs": [
    {
     "name": "stdout",
     "output_type": "stream",
     "text": [
      "The number of roles through 1980 that did not warrant a numeric \"n\" rank is: 448347\n"
     ]
    }
   ],
   "source": [
    "import pandas as pd\n",
    "\n",
    "csv_file = \"cast.csv\"\n",
    "\n",
    "df = pd.read_csv(csv_file)\n",
    "\n",
    "roles_without_n_rank_until_1980 = df[(df['year'] <= 1980) & df['n'].isna()]\n",
    "\n",
    "num_roles_without_n_rank_until_1980 = roles_without_n_rank_until_1980.shape[0]\n",
    "\n",
    "print(f'The number of roles through 1980 that did not warrant a numeric \"n\" rank is: {num_roles_without_n_rank_until_1980}')"
   ]
  },
  {
   "cell_type": "code",
   "execution_count": null,
   "id": "2e1d4749",
   "metadata": {},
   "outputs": [],
   "source": []
  }
 ],
 "metadata": {
  "kernelspec": {
   "display_name": "Python 3 (ipykernel)",
   "language": "python",
   "name": "python3"
  },
  "language_info": {
   "codemirror_mode": {
    "name": "ipython",
    "version": 3
   },
   "file_extension": ".py",
   "mimetype": "text/x-python",
   "name": "python",
   "nbconvert_exporter": "python",
   "pygments_lexer": "ipython3",
   "version": "3.11.4"
  }
 },
 "nbformat": 4,
 "nbformat_minor": 5
}
