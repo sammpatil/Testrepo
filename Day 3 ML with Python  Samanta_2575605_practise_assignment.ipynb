{
 "cells": [
  {
   "cell_type": "code",
   "execution_count": null,
   "id": "d80f2c1b",
   "metadata": {},
   "outputs": [],
   "source": [
    "Fraud Detection with Logistic Regression and Feature Engineering"
   ]
  },
  {
   "cell_type": "code",
   "execution_count": 1,
   "id": "2c1796a6",
   "metadata": {},
   "outputs": [],
   "source": [
    "import pandas as pd\n",
    "import numpy as np\n",
    "import matplotlib.pyplot as plt\n",
    "import seaborn as sns\n",
    "\n",
    "from sklearn.model_selection import train_test_split\n",
    "from sklearn.linear_model import LogisticRegression"
   ]
  },
  {
   "cell_type": "code",
   "execution_count": 4,
   "id": "78e9feeb",
   "metadata": {},
   "outputs": [
    {
     "data": {
      "text/html": [
       "<div>\n",
       "<style scoped>\n",
       "    .dataframe tbody tr th:only-of-type {\n",
       "        vertical-align: middle;\n",
       "    }\n",
       "\n",
       "    .dataframe tbody tr th {\n",
       "        vertical-align: top;\n",
       "    }\n",
       "\n",
       "    .dataframe thead th {\n",
       "        text-align: right;\n",
       "    }\n",
       "</style>\n",
       "<table border=\"1\" class=\"dataframe\">\n",
       "  <thead>\n",
       "    <tr style=\"text-align: right;\">\n",
       "      <th></th>\n",
       "      <th>Step</th>\n",
       "      <th>Amount</th>\n",
       "      <th>nameOrig</th>\n",
       "      <th>oldbalabce</th>\n",
       "      <th>newbalance</th>\n",
       "      <th>nameDest</th>\n",
       "      <th>oldbalanceDest</th>\n",
       "      <th>newbalanceDest</th>\n",
       "      <th>isFraud</th>\n",
       "    </tr>\n",
       "  </thead>\n",
       "  <tbody>\n",
       "    <tr>\n",
       "      <th>0</th>\n",
       "      <td>1</td>\n",
       "      <td>9839.64</td>\n",
       "      <td>1231006815</td>\n",
       "      <td>170136.0</td>\n",
       "      <td>160296.36</td>\n",
       "      <td>1979787155</td>\n",
       "      <td>0</td>\n",
       "      <td>0.0</td>\n",
       "      <td>0</td>\n",
       "    </tr>\n",
       "    <tr>\n",
       "      <th>1</th>\n",
       "      <td>1</td>\n",
       "      <td>1864.28</td>\n",
       "      <td>1666544295</td>\n",
       "      <td>21249.0</td>\n",
       "      <td>19384.72</td>\n",
       "      <td>2044282225</td>\n",
       "      <td>0</td>\n",
       "      <td>0.0</td>\n",
       "      <td>0</td>\n",
       "    </tr>\n",
       "    <tr>\n",
       "      <th>2</th>\n",
       "      <td>1</td>\n",
       "      <td>181.00</td>\n",
       "      <td>1305486145</td>\n",
       "      <td>181.0</td>\n",
       "      <td>0.00</td>\n",
       "      <td>553264065</td>\n",
       "      <td>0</td>\n",
       "      <td>0.0</td>\n",
       "      <td>1</td>\n",
       "    </tr>\n",
       "    <tr>\n",
       "      <th>3</th>\n",
       "      <td>1</td>\n",
       "      <td>181.00</td>\n",
       "      <td>840083671</td>\n",
       "      <td>181.0</td>\n",
       "      <td>0.00</td>\n",
       "      <td>38997010</td>\n",
       "      <td>21182</td>\n",
       "      <td>0.0</td>\n",
       "      <td>1</td>\n",
       "    </tr>\n",
       "    <tr>\n",
       "      <th>4</th>\n",
       "      <td>1</td>\n",
       "      <td>11668.14</td>\n",
       "      <td>2048537720</td>\n",
       "      <td>41554.0</td>\n",
       "      <td>29885.86</td>\n",
       "      <td>1230701703</td>\n",
       "      <td>0</td>\n",
       "      <td>0.0</td>\n",
       "      <td>0</td>\n",
       "    </tr>\n",
       "  </tbody>\n",
       "</table>\n",
       "</div>"
      ],
      "text/plain": [
       "   Step    Amount    nameOrig  oldbalabce  newbalance    nameDest  \\\n",
       "0     1   9839.64  1231006815    170136.0   160296.36  1979787155   \n",
       "1     1   1864.28  1666544295     21249.0    19384.72  2044282225   \n",
       "2     1    181.00  1305486145       181.0        0.00   553264065   \n",
       "3     1    181.00   840083671       181.0        0.00    38997010   \n",
       "4     1  11668.14  2048537720     41554.0    29885.86  1230701703   \n",
       "\n",
       "   oldbalanceDest  newbalanceDest  isFraud  \n",
       "0               0             0.0        0  \n",
       "1               0             0.0        0  \n",
       "2               0             0.0        1  \n",
       "3           21182             0.0        1  \n",
       "4               0             0.0        0  "
      ]
     },
     "execution_count": 4,
     "metadata": {},
     "output_type": "execute_result"
    }
   ],
   "source": [
    "#Load the dataset\n",
    "\n",
    "data=pd.read_csv('Online Fraud.csv')\n",
    "data.head()"
   ]
  },
  {
   "cell_type": "code",
   "execution_count": 5,
   "id": "f86e9567",
   "metadata": {},
   "outputs": [
    {
     "data": {
      "text/plain": [
       "(20, 9)"
      ]
     },
     "execution_count": 5,
     "metadata": {},
     "output_type": "execute_result"
    }
   ],
   "source": [
    "data.shape"
   ]
  },
  {
   "cell_type": "code",
   "execution_count": 6,
   "id": "8e023e61",
   "metadata": {},
   "outputs": [
    {
     "data": {
      "text/plain": [
       "<bound method DataFrame.info of     Step     Amount    nameOrig  oldbalabce  newbalance    nameDest  \\\n",
       "0      1    9839.64  1231006815   170136.00   160296.36  1979787155   \n",
       "1      1    1864.28  1666544295    21249.00    19384.72  2044282225   \n",
       "2      1     181.00  1305486145      181.00        0.00   553264065   \n",
       "3      1     181.00   840083671      181.00        0.00    38997010   \n",
       "4      1   11668.14  2048537720    41554.00    29885.86  1230701703   \n",
       "5      1    7817.71    90045638    53860.00    46042.29   573487274   \n",
       "6      1    7107.77   154988899   183195.00   176087.23   408069119   \n",
       "7      1    7861.64  1912850431   176087.23   168225.59   633326333   \n",
       "8      1    4024.36  1265012928     2671.00        0.00  1176932104   \n",
       "9      1    5337.77   712410124    41720.00    36382.23   195600860   \n",
       "10     1    9644.94  1900366749     4465.00        0.00   997608398   \n",
       "11     1    3099.97   249177573    20771.00    17671.03  2096539129   \n",
       "12     1    2560.74  1648232591     5070.00     2509.26   972865270   \n",
       "13     1   11633.76  1716932897    10127.00        0.00   801569151   \n",
       "14     1    4098.78  1026483832   503264.00   499165.22  1635378213   \n",
       "15     1  229133.94   905080434    15325.00        0.00   476402209   \n",
       "16     1    1563.82   761750706      450.00        0.00  1731217984   \n",
       "17     1    1157.86  1237762639    21156.00    19998.14  1877062907   \n",
       "18     1     671.64  2033524545    15123.00    14451.36   473053293   \n",
       "19     1  215310.30  1670993182      705.00        0.00  1100439041   \n",
       "\n",
       "    oldbalanceDest  newbalanceDest  isFraud  \n",
       "0                0            0.00        0  \n",
       "1                0            0.00        0  \n",
       "2                0            0.00        1  \n",
       "3            21182            0.00        1  \n",
       "4                0            0.00        0  \n",
       "5                0            0.00        0  \n",
       "6                0            0.00        0  \n",
       "7                0            0.00        0  \n",
       "8                0            0.00        0  \n",
       "9            41898        40348.79        0  \n",
       "10           10845       157982.12        0  \n",
       "11               0            0.00        0  \n",
       "12               0            0.00        0  \n",
       "13               0            0.00        0  \n",
       "14               0            0.00        0  \n",
       "15            5083        51513.44        0  \n",
       "16               0            0.00        0  \n",
       "17               0            0.00        0  \n",
       "18               0            0.00        0  \n",
       "19           22425            0.00        0  >"
      ]
     },
     "execution_count": 6,
     "metadata": {},
     "output_type": "execute_result"
    }
   ],
   "source": [
    "data.info"
   ]
  },
  {
   "cell_type": "code",
   "execution_count": 8,
   "id": "a0dfe93b",
   "metadata": {},
   "outputs": [
    {
     "data": {
      "text/html": [
       "<div>\n",
       "<style scoped>\n",
       "    .dataframe tbody tr th:only-of-type {\n",
       "        vertical-align: middle;\n",
       "    }\n",
       "\n",
       "    .dataframe tbody tr th {\n",
       "        vertical-align: top;\n",
       "    }\n",
       "\n",
       "    .dataframe thead th {\n",
       "        text-align: right;\n",
       "    }\n",
       "</style>\n",
       "<table border=\"1\" class=\"dataframe\">\n",
       "  <thead>\n",
       "    <tr style=\"text-align: right;\">\n",
       "      <th></th>\n",
       "      <th>count</th>\n",
       "      <th>mean</th>\n",
       "      <th>std</th>\n",
       "      <th>min</th>\n",
       "      <th>25%</th>\n",
       "      <th>50%</th>\n",
       "      <th>75%</th>\n",
       "      <th>max</th>\n",
       "    </tr>\n",
       "  </thead>\n",
       "  <tbody>\n",
       "    <tr>\n",
       "      <th>Step</th>\n",
       "      <td>20.0</td>\n",
       "      <td>1.000000e+00</td>\n",
       "      <td>0.000000e+00</td>\n",
       "      <td>1.0</td>\n",
       "      <td>1.000000e+00</td>\n",
       "      <td>1.000000e+00</td>\n",
       "      <td>1.000000e+00</td>\n",
       "      <td>1.000000e+00</td>\n",
       "    </tr>\n",
       "    <tr>\n",
       "      <th>Amount</th>\n",
       "      <td>20.0</td>\n",
       "      <td>2.673795e+04</td>\n",
       "      <td>6.699675e+04</td>\n",
       "      <td>181.0</td>\n",
       "      <td>1.789165e+03</td>\n",
       "      <td>4.718275e+03</td>\n",
       "      <td>9.693615e+03</td>\n",
       "      <td>2.291339e+05</td>\n",
       "    </tr>\n",
       "    <tr>\n",
       "      <th>nameOrig</th>\n",
       "      <td>20.0</td>\n",
       "      <td>1.218864e+09</td>\n",
       "      <td>6.171345e+08</td>\n",
       "      <td>90045638.0</td>\n",
       "      <td>8.205004e+08</td>\n",
       "      <td>1.251388e+09</td>\n",
       "      <td>1.682478e+09</td>\n",
       "      <td>2.048538e+09</td>\n",
       "    </tr>\n",
       "    <tr>\n",
       "      <th>oldbalabce</th>\n",
       "      <td>20.0</td>\n",
       "      <td>6.436451e+04</td>\n",
       "      <td>1.197037e+05</td>\n",
       "      <td>181.0</td>\n",
       "      <td>4.016500e+03</td>\n",
       "      <td>1.804800e+04</td>\n",
       "      <td>4.475500e+04</td>\n",
       "      <td>5.032640e+05</td>\n",
       "    </tr>\n",
       "    <tr>\n",
       "      <th>newbalance</th>\n",
       "      <td>20.0</td>\n",
       "      <td>5.950496e+04</td>\n",
       "      <td>1.189848e+05</td>\n",
       "      <td>0.0</td>\n",
       "      <td>0.000000e+00</td>\n",
       "      <td>1.606119e+04</td>\n",
       "      <td>3.879725e+04</td>\n",
       "      <td>4.991652e+05</td>\n",
       "    </tr>\n",
       "    <tr>\n",
       "      <th>nameDest</th>\n",
       "      <td>20.0</td>\n",
       "      <td>1.049829e+09</td>\n",
       "      <td>6.502767e+08</td>\n",
       "      <td>38997010.0</td>\n",
       "      <td>5.340486e+08</td>\n",
       "      <td>9.852368e+08</td>\n",
       "      <td>1.659338e+09</td>\n",
       "      <td>2.096539e+09</td>\n",
       "    </tr>\n",
       "    <tr>\n",
       "      <th>oldbalanceDest</th>\n",
       "      <td>20.0</td>\n",
       "      <td>5.071650e+03</td>\n",
       "      <td>1.108821e+04</td>\n",
       "      <td>0.0</td>\n",
       "      <td>0.000000e+00</td>\n",
       "      <td>0.000000e+00</td>\n",
       "      <td>1.270750e+03</td>\n",
       "      <td>4.189800e+04</td>\n",
       "    </tr>\n",
       "    <tr>\n",
       "      <th>newbalanceDest</th>\n",
       "      <td>20.0</td>\n",
       "      <td>1.249222e+04</td>\n",
       "      <td>3.707666e+04</td>\n",
       "      <td>0.0</td>\n",
       "      <td>0.000000e+00</td>\n",
       "      <td>0.000000e+00</td>\n",
       "      <td>0.000000e+00</td>\n",
       "      <td>1.579821e+05</td>\n",
       "    </tr>\n",
       "    <tr>\n",
       "      <th>isFraud</th>\n",
       "      <td>20.0</td>\n",
       "      <td>1.000000e-01</td>\n",
       "      <td>3.077935e-01</td>\n",
       "      <td>0.0</td>\n",
       "      <td>0.000000e+00</td>\n",
       "      <td>0.000000e+00</td>\n",
       "      <td>0.000000e+00</td>\n",
       "      <td>1.000000e+00</td>\n",
       "    </tr>\n",
       "  </tbody>\n",
       "</table>\n",
       "</div>"
      ],
      "text/plain": [
       "                count          mean           std         min           25%  \\\n",
       "Step             20.0  1.000000e+00  0.000000e+00         1.0  1.000000e+00   \n",
       "Amount           20.0  2.673795e+04  6.699675e+04       181.0  1.789165e+03   \n",
       "nameOrig         20.0  1.218864e+09  6.171345e+08  90045638.0  8.205004e+08   \n",
       "oldbalabce       20.0  6.436451e+04  1.197037e+05       181.0  4.016500e+03   \n",
       "newbalance       20.0  5.950496e+04  1.189848e+05         0.0  0.000000e+00   \n",
       "nameDest         20.0  1.049829e+09  6.502767e+08  38997010.0  5.340486e+08   \n",
       "oldbalanceDest   20.0  5.071650e+03  1.108821e+04         0.0  0.000000e+00   \n",
       "newbalanceDest   20.0  1.249222e+04  3.707666e+04         0.0  0.000000e+00   \n",
       "isFraud          20.0  1.000000e-01  3.077935e-01         0.0  0.000000e+00   \n",
       "\n",
       "                         50%           75%           max  \n",
       "Step            1.000000e+00  1.000000e+00  1.000000e+00  \n",
       "Amount          4.718275e+03  9.693615e+03  2.291339e+05  \n",
       "nameOrig        1.251388e+09  1.682478e+09  2.048538e+09  \n",
       "oldbalabce      1.804800e+04  4.475500e+04  5.032640e+05  \n",
       "newbalance      1.606119e+04  3.879725e+04  4.991652e+05  \n",
       "nameDest        9.852368e+08  1.659338e+09  2.096539e+09  \n",
       "oldbalanceDest  0.000000e+00  1.270750e+03  4.189800e+04  \n",
       "newbalanceDest  0.000000e+00  0.000000e+00  1.579821e+05  \n",
       "isFraud         0.000000e+00  0.000000e+00  1.000000e+00  "
      ]
     },
     "execution_count": 8,
     "metadata": {},
     "output_type": "execute_result"
    }
   ],
   "source": [
    "data.describe().T"
   ]
  },
  {
   "cell_type": "code",
   "execution_count": 9,
   "id": "d9460547",
   "metadata": {},
   "outputs": [
    {
     "data": {
      "text/plain": [
       "Step              0\n",
       "Amount            0\n",
       "nameOrig          0\n",
       "oldbalabce        0\n",
       "newbalance        0\n",
       "nameDest          0\n",
       "oldbalanceDest    0\n",
       "newbalanceDest    0\n",
       "isFraud           0\n",
       "dtype: int64"
      ]
     },
     "execution_count": 9,
     "metadata": {},
     "output_type": "execute_result"
    }
   ],
   "source": [
    "data.isna().sum()"
   ]
  },
  {
   "cell_type": "code",
   "execution_count": 10,
   "id": "70e15a6a",
   "metadata": {},
   "outputs": [
    {
     "data": {
      "text/plain": [
       "Step              0\n",
       "Amount            0\n",
       "nameOrig          0\n",
       "oldbalabce        0\n",
       "newbalance        0\n",
       "nameDest          0\n",
       "oldbalanceDest    0\n",
       "newbalanceDest    0\n",
       "isFraud           0\n",
       "dtype: int64"
      ]
     },
     "execution_count": 10,
     "metadata": {},
     "output_type": "execute_result"
    }
   ],
   "source": [
    "df=data.fillna(method='bfill')\n",
    "df.isna().sum()"
   ]
  },
  {
   "cell_type": "code",
   "execution_count": 11,
   "id": "4d0bb1dc",
   "metadata": {},
   "outputs": [
    {
     "data": {
      "text/html": [
       "<div>\n",
       "<style scoped>\n",
       "    .dataframe tbody tr th:only-of-type {\n",
       "        vertical-align: middle;\n",
       "    }\n",
       "\n",
       "    .dataframe tbody tr th {\n",
       "        vertical-align: top;\n",
       "    }\n",
       "\n",
       "    .dataframe thead th {\n",
       "        text-align: right;\n",
       "    }\n",
       "</style>\n",
       "<table border=\"1\" class=\"dataframe\">\n",
       "  <thead>\n",
       "    <tr style=\"text-align: right;\">\n",
       "      <th></th>\n",
       "      <th>Step</th>\n",
       "      <th>Amount</th>\n",
       "      <th>nameOrig</th>\n",
       "      <th>oldbalabce</th>\n",
       "      <th>newbalance</th>\n",
       "      <th>nameDest</th>\n",
       "      <th>oldbalanceDest</th>\n",
       "      <th>newbalanceDest</th>\n",
       "      <th>isFraud</th>\n",
       "    </tr>\n",
       "  </thead>\n",
       "  <tbody>\n",
       "    <tr>\n",
       "      <th>0</th>\n",
       "      <td>1</td>\n",
       "      <td>9839.64</td>\n",
       "      <td>1231006815</td>\n",
       "      <td>170136.0</td>\n",
       "      <td>160296.36</td>\n",
       "      <td>1979787155</td>\n",
       "      <td>0</td>\n",
       "      <td>0.0</td>\n",
       "      <td>0</td>\n",
       "    </tr>\n",
       "    <tr>\n",
       "      <th>1</th>\n",
       "      <td>1</td>\n",
       "      <td>1864.28</td>\n",
       "      <td>1666544295</td>\n",
       "      <td>21249.0</td>\n",
       "      <td>19384.72</td>\n",
       "      <td>2044282225</td>\n",
       "      <td>0</td>\n",
       "      <td>0.0</td>\n",
       "      <td>0</td>\n",
       "    </tr>\n",
       "    <tr>\n",
       "      <th>2</th>\n",
       "      <td>1</td>\n",
       "      <td>181.00</td>\n",
       "      <td>1305486145</td>\n",
       "      <td>181.0</td>\n",
       "      <td>0.00</td>\n",
       "      <td>553264065</td>\n",
       "      <td>0</td>\n",
       "      <td>0.0</td>\n",
       "      <td>1</td>\n",
       "    </tr>\n",
       "    <tr>\n",
       "      <th>3</th>\n",
       "      <td>1</td>\n",
       "      <td>181.00</td>\n",
       "      <td>840083671</td>\n",
       "      <td>181.0</td>\n",
       "      <td>0.00</td>\n",
       "      <td>38997010</td>\n",
       "      <td>21182</td>\n",
       "      <td>0.0</td>\n",
       "      <td>1</td>\n",
       "    </tr>\n",
       "    <tr>\n",
       "      <th>4</th>\n",
       "      <td>1</td>\n",
       "      <td>11668.14</td>\n",
       "      <td>2048537720</td>\n",
       "      <td>41554.0</td>\n",
       "      <td>29885.86</td>\n",
       "      <td>1230701703</td>\n",
       "      <td>0</td>\n",
       "      <td>0.0</td>\n",
       "      <td>0</td>\n",
       "    </tr>\n",
       "  </tbody>\n",
       "</table>\n",
       "</div>"
      ],
      "text/plain": [
       "   Step    Amount    nameOrig  oldbalabce  newbalance    nameDest  \\\n",
       "0     1   9839.64  1231006815    170136.0   160296.36  1979787155   \n",
       "1     1   1864.28  1666544295     21249.0    19384.72  2044282225   \n",
       "2     1    181.00  1305486145       181.0        0.00   553264065   \n",
       "3     1    181.00   840083671       181.0        0.00    38997010   \n",
       "4     1  11668.14  2048537720     41554.0    29885.86  1230701703   \n",
       "\n",
       "   oldbalanceDest  newbalanceDest  isFraud  \n",
       "0               0             0.0        0  \n",
       "1               0             0.0        0  \n",
       "2               0             0.0        1  \n",
       "3           21182             0.0        1  \n",
       "4               0             0.0        0  "
      ]
     },
     "execution_count": 11,
     "metadata": {},
     "output_type": "execute_result"
    }
   ],
   "source": [
    "df.head()"
   ]
  },
  {
   "cell_type": "code",
   "execution_count": 39,
   "id": "cdf20366",
   "metadata": {},
   "outputs": [
    {
     "data": {
      "text/plain": [
       "array([[<Axes: title={'center': 'Step'}>,\n",
       "        <Axes: title={'center': 'Amount'}>,\n",
       "        <Axes: title={'center': 'nameOrig'}>],\n",
       "       [<Axes: title={'center': 'oldbalabce'}>,\n",
       "        <Axes: title={'center': 'newbalance'}>,\n",
       "        <Axes: title={'center': 'nameDest'}>],\n",
       "       [<Axes: title={'center': 'oldbalanceDest'}>,\n",
       "        <Axes: title={'center': 'newbalanceDest'}>,\n",
       "        <Axes: title={'center': 'isFraud'}>]], dtype=object)"
      ]
     },
     "execution_count": 39,
     "metadata": {},
     "output_type": "execute_result"
    },
    {
     "data": {
      "image/png": "[encoded data removed]",
      "text/plain": [
       "<Figure size 1200x600 with 9 Axes>"
      ]
     },
     "metadata": {},
     "output_type": "display_data"
    }
   ],
   "source": [
    "df.hist(figsize=(12,6))"
   ]
  },
  {
   "cell_type": "code",
   "execution_count": 40,
   "id": "c8a9249d",
   "metadata": {},
   "outputs": [
    {
     "name": "stdout",
     "output_type": "stream",
     "text": [
      "   Step   Amount    nameOrig  oldbalabce  newbalance    nameDest  \\\n",
      "0     1  9839.64  1231006815    170136.0   160296.36  1979787155   \n",
      "1     1  1864.28  1666544295     21249.0    19384.72  2044282225   \n",
      "2     1   181.00  1305486145       181.0        0.00   553264065   \n",
      "\n",
      "   oldbalanceDest  newbalanceDest  \n",
      "0               0             0.0  \n",
      "1               0             0.0  \n",
      "2               0             0.0  \n"
     ]
    }
   ],
   "source": [
    "x=df.iloc[:,:-1]\n",
    "y=df.iloc[:,-1:].values\n",
    "\n",
    "print(x.head(3))\n"
   ]
  },
  {
   "cell_type": "code",
   "execution_count": 41,
   "id": "8ce235a9",
   "metadata": {},
   "outputs": [
    {
     "data": {
      "text/html": [
       "<div>\n",
       "<style scoped>\n",
       "    .dataframe tbody tr th:only-of-type {\n",
       "        vertical-align: middle;\n",
       "    }\n",
       "\n",
       "    .dataframe tbody tr th {\n",
       "        vertical-align: top;\n",
       "    }\n",
       "\n",
       "    .dataframe thead th {\n",
       "        text-align: right;\n",
       "    }\n",
       "</style>\n",
       "<table border=\"1\" class=\"dataframe\">\n",
       "  <thead>\n",
       "    <tr style=\"text-align: right;\">\n",
       "      <th></th>\n",
       "      <th>Step</th>\n",
       "      <th>Amount</th>\n",
       "      <th>nameOrig</th>\n",
       "      <th>oldbalabce</th>\n",
       "      <th>newbalance</th>\n",
       "      <th>nameDest</th>\n",
       "      <th>oldbalanceDest</th>\n",
       "      <th>newbalanceDest</th>\n",
       "    </tr>\n",
       "  </thead>\n",
       "  <tbody>\n",
       "    <tr>\n",
       "      <th>0</th>\n",
       "      <td>1</td>\n",
       "      <td>9839.64</td>\n",
       "      <td>1231006815</td>\n",
       "      <td>170136.0</td>\n",
       "      <td>160296.36</td>\n",
       "      <td>1979787155</td>\n",
       "      <td>0</td>\n",
       "      <td>0.0</td>\n",
       "    </tr>\n",
       "    <tr>\n",
       "      <th>1</th>\n",
       "      <td>1</td>\n",
       "      <td>1864.28</td>\n",
       "      <td>1666544295</td>\n",
       "      <td>21249.0</td>\n",
       "      <td>19384.72</td>\n",
       "      <td>2044282225</td>\n",
       "      <td>0</td>\n",
       "      <td>0.0</td>\n",
       "    </tr>\n",
       "    <tr>\n",
       "      <th>2</th>\n",
       "      <td>1</td>\n",
       "      <td>181.00</td>\n",
       "      <td>1305486145</td>\n",
       "      <td>181.0</td>\n",
       "      <td>0.00</td>\n",
       "      <td>553264065</td>\n",
       "      <td>0</td>\n",
       "      <td>0.0</td>\n",
       "    </tr>\n",
       "  </tbody>\n",
       "</table>\n",
       "</div>"
      ],
      "text/plain": [
       "   Step   Amount    nameOrig  oldbalabce  newbalance    nameDest  \\\n",
       "0     1  9839.64  1231006815    170136.0   160296.36  1979787155   \n",
       "1     1  1864.28  1666544295     21249.0    19384.72  2044282225   \n",
       "2     1   181.00  1305486145       181.0        0.00   553264065   \n",
       "\n",
       "   oldbalanceDest  newbalanceDest  \n",
       "0               0             0.0  \n",
       "1               0             0.0  \n",
       "2               0             0.0  "
      ]
     },
     "execution_count": 41,
     "metadata": {},
     "output_type": "execute_result"
    }
   ],
   "source": [
    "x.head(3)"
   ]
  },
  {
   "cell_type": "code",
   "execution_count": 42,
   "id": "2c9d6f73",
   "metadata": {},
   "outputs": [
    {
     "data": {
      "text/plain": [
       "array([[0],\n",
       "       [0],\n",
       "       [1],\n",
       "       [1],\n",
       "       [0],\n",
       "       [0],\n",
       "       [0],\n",
       "       [0],\n",
       "       [0],\n",
       "       [0],\n",
       "       [0],\n",
       "       [0],\n",
       "       [0],\n",
       "       [0],\n",
       "       [0],\n",
       "       [0],\n",
       "       [0],\n",
       "       [0],\n",
       "       [0],\n",
       "       [0]], dtype=int64)"
      ]
     },
     "execution_count": 42,
     "metadata": {},
     "output_type": "execute_result"
    }
   ],
   "source": [
    "y"
   ]
  },
  {
   "cell_type": "code",
   "execution_count": 43,
   "id": "c74e6570",
   "metadata": {},
   "outputs": [
    {
     "name": "stdout",
     "output_type": "stream",
     "text": [
      "*************Training Data Shape***************\n",
      "\n",
      "Training data-X- Shape:\t (15, 8)\n",
      "\n",
      "Training data-y- Shape:\t (15, 1)\n",
      "\n",
      "**************Testing Data Shape****************\n",
      "\n",
      "Testing data(x-Input) Shape:\t (5, 8)\n",
      "\n",
      "Testing data (y-Outcome) Shape:\t (5, 1)\n"
     ]
    }
   ],
   "source": [
    "xtrain,xtest,ytrain, ytest=train_test_split(x,y, test_size=.25, random_state=22)\n",
    "print('*************Training Data Shape***************\\n')\n",
    "print('Training data-X- Shape:\\t',xtrain.shape)\n",
    "print()\n",
    "print('Training data-y- Shape:\\t' ,ytrain.shape)\n",
    "print()\n",
    "print('**************Testing Data Shape****************\\n')\n",
    "print('Testing data(x-Input) Shape:\\t',xtest.shape)\n",
    "print()\n",
    "print('Testing data (y-Outcome) Shape:\\t',ytest.shape)"
   ]
  },
  {
   "cell_type": "code",
   "execution_count": 44,
   "id": "eef43b5c",
   "metadata": {},
   "outputs": [
    {
     "name": "stdout",
     "output_type": "stream",
     "text": [
      "Training the model\n",
      "\n",
      "[LibLinear]Predicted Label for the input samples: \n",
      " [0 0 0 1 0]\n",
      "\n",
      "Testing is completed\n",
      "\n",
      "Testing samples are: \t 5\n"
     ]
    },
    {
     "name": "stderr",
     "output_type": "stream",
     "text": [
      "C:\\Users\\Samanta Patil\\anaconda3\\Lib\\site-packages\\sklearn\\utils\\validation.py:1184: DataConversionWarning: A column-vector y was passed when a 1d array was expected. Please change the shape of y to (n_samples, ), for example using ravel().\n",
      "  y = column_or_1d(y, warn=True)\n"
     ]
    }
   ],
   "source": [
    "#invoke the Log reg algorithm from sklearn\n",
    "\n",
    "log_reg=LogisticRegression(solver='liblinear', verbose=2)\n",
    "\n",
    "#Train the model\n",
    "print('Training the model\\n')\n",
    "log_reg.fit(xtrain, ytrain)\n",
    "\n",
    "#Test the model\n",
    "\n",
    "ypred=log_reg.predict(xtest)\n",
    "print('Predicted Label for the input samples: \\n',ypred)\n",
    "print()\n",
    "print('Testing is completed\\n')\n",
    "print('Testing samples are: \\t', len(ypred))"
   ]
  },
  {
   "cell_type": "code",
   "execution_count": 46,
   "id": "d16805a5",
   "metadata": {},
   "outputs": [
    {
     "name": "stdout",
     "output_type": "stream",
     "text": [
      "**********Performance Measures for Logistic Regression Classification***********\n",
      "\n",
      "Accuracy Score: \t\n",
      " 1.0\n",
      "\n",
      "================================================================================\n",
      "Confusion Matrix:\n",
      " [[4 0]\n",
      " [0 1]]\n",
      "\n",
      "================================================================================\n",
      "Classification Report: \n",
      "               precision    recall  f1-score   support\n",
      "\n",
      "           0       1.00      1.00      1.00         4\n",
      "           1       1.00      1.00      1.00         1\n",
      "\n",
      "    accuracy                           1.00         5\n",
      "   macro avg       1.00      1.00      1.00         5\n",
      "weighted avg       1.00      1.00      1.00         5\n",
      "\n",
      "================================================================================\n"
     ]
    }
   ],
   "source": [
    "from sklearn.metrics import accuracy_score\n",
    "from sklearn.metrics import confusion_matrix\n",
    "from sklearn.metrics import classification_report\n",
    "\n",
    "print('**********Performance Measures for Logistic Regression Classification***********\\n')\n",
    "print('Accuracy Score: \\t\\n',accuracy_score (ytest,ypred))\n",
    "print()\n",
    "print('='*80)\n",
    "print('Confusion Matrix:\\n',confusion_matrix(ytest,ypred))\n",
    "print()\n",
    "print('='*80)\n",
    "print('Classification Report: \\n',classification_report (ytest,ypred))\n",
    "print('='*80)"
   ]
  },
  {
   "cell_type": "code",
   "execution_count": null,
   "id": "c454d435",
   "metadata": {},
   "outputs": [],
   "source": []
  }
 ],
 "metadata": {
  "kernelspec": {
   "display_name": "Python 3 (ipykernel)",
   "language": "python",
   "name": "python3"
  },
  "language_info": {
   "codemirror_mode": {
    "name": "ipython",
    "version": 3
   },
   "file_extension": ".py",
   "mimetype": "text/x-python",
   "name": "python",
   "nbconvert_exporter": "python",
   "pygments_lexer": "ipython3",
   "version": "3.11.4"
  }
 },
 "nbformat": 4,
 "nbformat_minor": 5
}
