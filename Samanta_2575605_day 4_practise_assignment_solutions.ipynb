{
 "cells": [
  {
   "cell_type": "markdown",
   "id": "4f4da31e",
   "metadata": {},
   "source": [
    "1.Write a Python program with Exception handling to input marks for five subjects Physics, Chemistry, Biology,\n",
    "Mathematics, and Computer. Calculate the percentage and grade according to the following:\n",
    "    i) Percentage >= 90%: Grade A\n",
    "    ii) Percentage >= 80% Grade B\n",
    "    iii) Percentage >= 70% Grade C\n",
    "    iv) Percentage >= 60% Grade D\n",
    "    v) Percentage >= 40% Grade E\n",
    "    vi) Percentage <= 40% Grade F"
   ]
  },
  {
   "cell_type": "code",
   "execution_count": 1,
   "id": "ecdc2051",
   "metadata": {},
   "outputs": [
    {
     "name": "stdout",
     "output_type": "stream",
     "text": [
      "Enter Physics marks: 88\n",
      "Enter Chemistry marks: 86\n",
      "Enter Biology marks: 92\n",
      "Enter Mathematics marks: 95\n",
      "Enter Computer marks: 90\n",
      "Total Marks: 451.0\n",
      "Percentage: 90.20%\n",
      "Grade: A\n"
     ]
    }
   ],
   "source": [
    "try:\n",
    "    \n",
    "    physics = float(input(\"Enter Physics marks: \"))\n",
    "    chemistry = float(input(\"Enter Chemistry marks: \"))\n",
    "    biology = float(input(\"Enter Biology marks: \"))\n",
    "    mathematics = float(input(\"Enter Mathematics marks: \"))\n",
    "    computer = float(input(\"Enter Computer marks: \"))\n",
    "\n",
    "    total_marks = physics + chemistry + biology + mathematics + computer\n",
    "    percentage = (total_marks / 500) * 100\n",
    "\n",
    "    if percentage >= 90:\n",
    "        grade = \"A\"\n",
    "    elif percentage >= 80:\n",
    "        grade = \"B\"\n",
    "    elif percentage >= 70:\n",
    "        grade = \"C\"\n",
    "    elif percentage >= 60:\n",
    "        grade = \"D\"\n",
    "    elif percentage >= 40:\n",
    "        grade = \"E\"\n",
    "    else:\n",
    "        grade = \"F\"\n",
    "\n",
    "    print(f\"Total Marks: {total_marks}\")\n",
    "    print(f\"Percentage: {percentage:.2f}%\")\n",
    "    print(f\"Grade: {grade}\")\n",
    "\n",
    "except ValueError:\n",
    "    print(\"Invalid input. Please enter numeric marks for each subject.\")\n",
    "except Exception as e:\n",
    "    print(f\"An error occurred: {str(e)}\")"
   ]
  },
  {
   "cell_type": "markdown",
   "id": "931cee93",
   "metadata": {},
   "source": [
    "2.Write a Python program with exception handling to input electricity unit charges and calculate the total electricity \n",
    "bill according to the given condition: \n",
    "    i) For the first 50 units Rs. 0.50/unit.\n",
    "    ii) For the next 100 units Rs. 0.75/unit.\n",
    "    iii) For the next 100 units Rs. 1.20/unit. \n",
    "    iv) For units above Rs. 250 Rs. 1.50/unit.\n",
    "    v) An additional surcharge of 20% is added to the bill."
   ]
  },
  {
   "cell_type": "code",
   "execution_count": 9,
   "id": "0cd2db3f",
   "metadata": {},
   "outputs": [
    {
     "name": "stdout",
     "output_type": "stream",
     "text": [
      "Enter electricity unit charges: 246\n",
      "Total electricity bill: Rs. 258.24\n"
     ]
    }
   ],
   "source": [
    "try:\n",
    "   \n",
    "    units = float(input(\"Enter electricity unit charges: \"))\n",
    "\n",
    "    if units < 0:\n",
    "        raise ValueError(\"Units cannot be negative.\")\n",
    "\n",
    "    total_bill = 0.0\n",
    "\n",
    "    if units <= 50:\n",
    "        total_bill = units * 0.50\n",
    "    elif units <= 150:\n",
    "        total_bill = 50 * 0.50 + (units - 50) * 0.75\n",
    "    elif units <= 250:\n",
    "        total_bill = 50 * 0.50 + 100 * 0.75 + (units - 150) * 1.20\n",
    "    else:\n",
    "        total_bill = 50 * 0.50 + 100 * 0.75 + 100 * 1.20 + (units - 250) * 1.50\n",
    "\n",
    "    total_bill += total_bill * 0.20\n",
    "\n",
    "    print(f\"Total electricity bill: Rs. {total_bill:.2f}\")\n",
    "\n",
    "except ValueError as e:\n",
    "    print(f\"Error: {e}\")\n",
    "except Exception as e:\n",
    "    print(f\"An unexpected error occurred: {e}\")"
   ]
  },
  {
   "cell_type": "markdown",
   "id": "818351eb",
   "metadata": {},
   "source": [
    "3.Write a Python program with exception handling to input the week number and print the weekend."
   ]
  },
  {
   "cell_type": "code",
   "execution_count": 3,
   "id": "eceb32a9",
   "metadata": {},
   "outputs": [
    {
     "name": "stdout",
     "output_type": "stream",
     "text": [
      "Enter the week number: 54\n",
      "Error: Week number should be between 1 and 52. Please enter a valid week number.\n"
     ]
    }
   ],
   "source": [
    "try:\n",
    "    week_number = int(input(\"Enter the week number: \"))\n",
    "    \n",
    "    if week_number < 1 or week_number > 52:\n",
    "        raise ValueError(\"Week number should be between 1 and 52\")\n",
    "    \n",
    "    # Assuming a standard week starts on Monday\n",
    "    # Calculate the day number for Saturday and Sunday\n",
    "    saturday = (week_number - 1) * 7 + 6\n",
    "    sunday = (week_number - 1) * 7 + 7\n",
    "    \n",
    "    print(f\"Weekend for week {week_number} is: \")\n",
    "    print(f\"Saturday: Day {saturday}\")\n",
    "    print(f\"Sunday: Day {sunday}\")\n",
    "\n",
    "except ValueError as ve:\n",
    "    print(f\"Error: {ve}. Please enter a valid week number.\")\n",
    "except Exception as e:\n",
    "    print(f\"An error occurred: {e}\")"
   ]
  },
  {
   "cell_type": "markdown",
   "id": "a1b62fc3",
   "metadata": {},
   "source": [
    "4.Write a Python program to implement word count using command line arguments.\n",
    "i) Create a text document \"apple.txt\" which contains text for wordcount.\n",
    "ii) Create a wordcount program which calls the \"apple.txt\" document by opening the file.\n",
    "iii) If the word is present again in the \"apple.txt\", the wordcount is incremented by 1 unit all the words are counted\n",
    "in the document. \n",
    "iv) Close the file.\n",
    "v) Create a command.py program which imports the wordcount.py program.\n",
    "vi) Count the number of words using command line arguments. \n",
    "vii) Print each word and its count."
   ]
  },
  {
   "cell_type": "code",
   "execution_count": null,
   "id": "270d6339",
   "metadata": {},
   "outputs": [],
   "source": [
    "# wordcount.py\n",
    "\n",
    "def count_words(filename):\n",
    "    word_count = {}\n",
    "    with open(filename, 'r') as file:\n",
    "        for line in file:\n",
    "            words = line.split()\n",
    "            for word in words:\n",
    "                word = word.strip()\n",
    "                if word:\n",
    "                    if word in word_count:\n",
    "                        word_count[word] += 1\n",
    "                    else:\n",
    "                        word_count[word] = 1\n",
    "    return word_count\n",
    "\n",
    "if __name__ == \"__main__\":\n",
    "    import sys\n",
    "    if len(sys.argv) != 2:\n",
    "        print(\"Usage: python wordcount.py apple.txt\")\n",
    "    else:\n",
    "        filename = sys.argv[1]\n",
    "        word_count = count_words(filename)\n",
    "        for word, count in word_count.items():\n",
    "            print(f\"{word}: {count}\")\n",
    "            \n",
    "      # command.py\n",
    "\n",
    "import sys\n",
    "from wordcount import count_words\n",
    "\n",
    "if len(sys.argv) != 2:\n",
    "    print(\"Usage: python command.py apple.txt\")\n",
    "else:\n",
    "    filename = sys.argv[1]\n",
    "    word_count = count_words(filename)\n",
    "    for word, count in word_count.items():\n",
    "        print(f\"{word}: {count}\")\n",
    "      "
   ]
  },
  {
   "cell_type": "markdown",
   "id": "a6ef060e",
   "metadata": {},
   "source": [
    "5.Write a Python program for finding the most frequent words in the text read for a file. \n",
    "i) Initially open the text file in the read mode. \n",
    "ii) Make all the letters in the document into lowercase letters and split the words in each line.\n",
    "iii) Get the words in an order.\n",
    "iv) Sort the words for finding the most frequent words in the file. \n",
    "v) Print the most frequent words in the file."
   ]
  },
  {
   "cell_type": "code",
   "execution_count": null,
   "id": "39a258f9",
   "metadata": {},
   "outputs": [],
   "source": [
    "# Open the text file in read mode\n",
    "with open('dprob5.py', 'r') as file:\n",
    "    # Read the content of the file\n",
    "    text = file.read()\n",
    "\n",
    "# Convert all letters to lowercase and split the words\n",
    "words = text.lower().split()\n",
    "\n",
    "# Create a dictionary to store word frequencies\n",
    "word_count = {}\n",
    "\n",
    "# Count the frequency of each word\n",
    "for word in words:\n",
    "    word_count[word] = word_count.get(word, 0) + 1\n",
    "\n",
    "# Sort the words by frequency in descending order\n",
    "sorted_words = sorted(word_count.items(), key=lambda x: x[1], reverse=True)\n",
    "\n",
    "# Print the most frequent words\n",
    "print(\"The most frequent words in the file are:\")\n",
    "for word, frequency in sorted_words[:10]:  # Change 10 to the desired number of words to display\n",
    "    print(f\"{word}: {frequency} times\")\n",
    "\n",
    "\n"
   ]
  },
  {
   "cell_type": "markdown",
   "id": "8101f5e2",
   "metadata": {},
   "source": [
    "6.File Processing with Command Line Arguments Scenario You are developing a command line unity that processes text files.\n",
    "Users can specify input and output file path as a command line argument. Your program should handle exceptions gracefully.\n",
    "i) Design a Python program that takes two command-lines arguments: the input file path and the output file path.\n",
    "Ensure that the program checks if both arguments are provided and that the input file exists. \n",
    "ii) Implement error handling to deal with scenarios such as missing input files, invalid file paths, or permission issues \n",
    "when writing to the output file.\n",
    "iii) If an error occurs during the file processing, display a user-friendly error message and exit the program with a\n",
    "non-zero exit code. \n",
    "iv) Write test cases that cover various scenarios, including providing valid and invalid file paths as command-line arguments"
   ]
  },
  {
   "cell_type": "code",
   "execution_count": null,
   "id": "a524873f",
   "metadata": {},
   "outputs": [],
   "source": [
    "import sys\n",
    "\n",
    "def process_text_file(input_file_path, output_file_path):\n",
    "    try:\n",
    "        # Check if both input and output file paths are provided\n",
    "        if not input_file_path or not output_file_path:\n",
    "            raise ValueError(\"Both input and output file paths are required.\")\n",
    "        \n",
    "        # Check if the input file exists\n",
    "        try:\n",
    "            with open(input_file_path, 'r') as input_file:\n",
    "                data = input_file.read()\n",
    "        except FileNotFoundError:\n",
    "            raise FileNotFoundError(f\"Input file '{input_file_path}' not found.\")\n",
    "        \n",
    "        # Perform text processing here (you can modify 'data' as needed)\n",
    "        \n",
    "        # Write the processed data to the output file\n",
    "        with open(output_file_path, 'w') as output_file:\n",
    "            output_file.write(data)\n",
    "        \n",
    "        print(f\"File processing complete. Output written to '{output_file_path}'\")\n",
    "    except Exception as e:\n",
    "        print(f\"Error: {str(e)}\")\n",
    "        sys.exit(1)\n",
    "\n",
    "if __name__ == \"__main__\":\n",
    "    if len(sys.argv) != 3:\n",
    "        print(\"Usage: python program.py <input_file_path> <output_file_path>\")\n",
    "        sys.exit(1)\n",
    "    \n",
    "    input_file_path = sys.argv[1]\n",
    "    output_file_path = sys.argv[2]\n",
    "    \n",
    "    process_text_file(input_file_path, output_file_path)"
   ]
  },
  {
   "cell_type": "code",
   "execution_count": null,
   "id": "251ec194",
   "metadata": {},
   "outputs": [],
   "source": []
  }
 ],
 "metadata": {
  "kernelspec": {
   "display_name": "Python 3 (ipykernel)",
   "language": "python",
   "name": "python3"
  },
  "language_info": {
   "codemirror_mode": {
    "name": "ipython",
    "version": 3
   },
   "file_extension": ".py",
   "mimetype": "text/x-python",
   "name": "python",
   "nbconvert_exporter": "python",
   "pygments_lexer": "ipython3",
   "version": "3.11.4"
  }
 },
 "nbformat": 4,
 "nbformat_minor": 5
}
