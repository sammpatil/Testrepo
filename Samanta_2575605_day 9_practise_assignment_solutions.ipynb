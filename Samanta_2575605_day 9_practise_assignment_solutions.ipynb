{
 "cells": [
  {
   "cell_type": "code",
   "execution_count": null,
   "id": "95dca127",
   "metadata": {},
   "outputs": [],
   "source": [
    "1.Create a 3x3x3 array with random values using numpy in Python."
   ]
  },
  {
   "cell_type": "code",
   "execution_count": 1,
   "id": "bf0bbad0",
   "metadata": {},
   "outputs": [
    {
     "name": "stdout",
     "output_type": "stream",
     "text": [
      "[[[5.62513520e-01 8.03437316e-02 9.61608038e-01]\n",
      "  [5.24925669e-01 9.90876280e-01 1.35095023e-01]\n",
      "  [8.78715419e-01 6.59461487e-04 6.00628338e-01]]\n",
      "\n",
      " [[3.34848314e-01 9.38626437e-01 4.16537618e-01]\n",
      "  [9.15512074e-01 5.53124810e-01 8.39661001e-01]\n",
      "  [8.49239058e-01 5.42782195e-01 7.10099081e-01]]\n",
      "\n",
      " [[9.70723326e-01 9.19785146e-01 9.71314583e-01]\n",
      "  [1.05069758e-01 4.28706077e-01 5.06574873e-01]\n",
      "  [3.34353063e-01 5.15991811e-01 5.80453988e-01]]]\n"
     ]
    }
   ],
   "source": [
    "import numpy as np\n",
    "\n",
    "random_array = np.random.rand(3, 3, 3)\n",
    "\n",
    "print(random_array)"
   ]
  },
  {
   "cell_type": "code",
   "execution_count": null,
   "id": "4f870cbd",
   "metadata": {},
   "outputs": [],
   "source": [
    "2.Create a 5x5 matrix with values 1, 2, 3, 4 just below the diagonal using numpy in python."
   ]
  },
  {
   "cell_type": "code",
   "execution_count": 2,
   "id": "aa8f0a66",
   "metadata": {},
   "outputs": [
    {
     "name": "stdout",
     "output_type": "stream",
     "text": [
      "[[0. 0. 0. 0. 0.]\n",
      " [1. 0. 0. 0. 0.]\n",
      " [0. 2. 0. 0. 0.]\n",
      " [0. 0. 3. 0. 0.]\n",
      " [0. 0. 0. 4. 0.]]\n"
     ]
    }
   ],
   "source": [
    "import numpy as np\n",
    "\n",
    "matrix = np.zeros((5, 5))\n",
    "\n",
    "for i in range(1, 5):\n",
    "    matrix[i, i - 1] = i\n",
    "\n",
    "print(matrix)"
   ]
  },
  {
   "cell_type": "code",
   "execution_count": null,
   "id": "ba2d4fe0",
   "metadata": {},
   "outputs": [],
   "source": [
    "3.You can create an 8x8 matrix filled with a checkerboard pattern using NumPy in Python like this:"
   ]
  },
  {
   "cell_type": "code",
   "execution_count": 3,
   "id": "05e51671",
   "metadata": {},
   "outputs": [
    {
     "name": "stdout",
     "output_type": "stream",
     "text": [
      "[[0 1 0 1 0 1 0 1]\n",
      " [1 0 1 0 1 0 1 0]\n",
      " [0 1 0 1 0 1 0 1]\n",
      " [1 0 1 0 1 0 1 0]\n",
      " [0 1 0 1 0 1 0 1]\n",
      " [1 0 1 0 1 0 1 0]\n",
      " [0 1 0 1 0 1 0 1]\n",
      " [1 0 1 0 1 0 1 0]]\n"
     ]
    }
   ],
   "source": [
    "import numpy as np\n",
    "\n",
    "matrix = np.zeros((8, 8), dtype=int)\n",
    "\n",
    "matrix[1::2, ::2] = 1\n",
    "matrix[::2, 1::2] = 1\n",
    "\n",
    "print(matrix)"
   ]
  },
  {
   "cell_type": "code",
   "execution_count": null,
   "id": "82a28785",
   "metadata": {},
   "outputs": [],
   "source": [
    "4.Normalize a 5 × 5 random matrix using numpy in Python."
   ]
  },
  {
   "cell_type": "code",
   "execution_count": 4,
   "id": "6d384143",
   "metadata": {},
   "outputs": [
    {
     "name": "stdout",
     "output_type": "stream",
     "text": [
      "Random Matrix:\n",
      "[[0.9304676  0.71469539 0.76997904 0.0462923  0.76326771]\n",
      " [0.21495729 0.1113909  0.49648484 0.68920469 0.05043509]\n",
      " [0.1166578  0.00421898 0.66989987 0.66256249 0.4396174 ]\n",
      " [0.07977604 0.4615104  0.80847105 0.62270095 0.82284989]\n",
      " [0.95427867 0.86762169 0.08049999 0.56591591 0.5065277 ]]\n",
      "\n",
      "Normalized Matrix:\n",
      "[[ 1.39122792  0.69708065  0.87493023 -1.45319707  0.85333964]\n",
      " [-0.91059547 -1.24377242 -0.00491084  0.61507613 -1.43986954]\n",
      " [-1.22682862 -1.58854849  0.55297181  0.52936719 -0.18785552]\n",
      " [-1.34547863 -0.11742491  0.99876047  0.4011311   1.04501773]\n",
      " [ 1.46782904  1.18905029 -1.34314964  0.21845152  0.02739743]]\n"
     ]
    }
   ],
   "source": [
    "import numpy as np\n",
    "\n",
    "random_matrix = np.random.rand(5, 5)\n",
    "\n",
    "mean_value = np.mean(random_matrix)\n",
    "std_deviation = np.std(random_matrix)\n",
    "\n",
    "normalized_matrix = (random_matrix - mean_value) / std_deviation\n",
    "\n",
    "print(\"Random Matrix:\")\n",
    "print(random_matrix)\n",
    "print(\"\\nNormalized Matrix:\")\n",
    "print(normalized_matrix)"
   ]
  },
  {
   "cell_type": "code",
   "execution_count": null,
   "id": "2b17d9d2",
   "metadata": {},
   "outputs": [],
   "source": [
    "5.How to find common values between two arrays in Numpy in Python?"
   ]
  },
  {
   "cell_type": "code",
   "execution_count": 6,
   "id": "1dcefded",
   "metadata": {},
   "outputs": [
    {
     "name": "stdout",
     "output_type": "stream",
     "text": [
      "Common Values: [3 4 5]\n"
     ]
    }
   ],
   "source": [
    "import numpy as np\n",
    "\n",
    "array1 = np.array([1, 2, 3, 4, 5])\n",
    "array2 = np.array([3, 4, 5, 6, 7])\n",
    "\n",
    "common_values = np.intersect1d(array1, array2)\n",
    "\n",
    "print(\"Common Values:\", common_values)"
   ]
  },
  {
   "cell_type": "code",
   "execution_count": null,
   "id": "6df07db4",
   "metadata": {},
   "outputs": [],
   "source": [
    "6.How to get the dates of  yesterday,today and tomorrow ?"
   ]
  },
  {
   "cell_type": "code",
   "execution_count": 7,
   "id": "06b44d45",
   "metadata": {},
   "outputs": [
    {
     "name": "stdout",
     "output_type": "stream",
     "text": [
      "Dates as NumPy array: [datetime.date(2023, 9, 20) datetime.date(2023, 9, 21)\n",
      " datetime.date(2023, 9, 22)]\n"
     ]
    }
   ],
   "source": [
    "import numpy as np\n",
    "from datetime import datetime, timedelta\n",
    "\n",
    "today = datetime.today().date()\n",
    "\n",
    "yesterday = today - timedelta(days=1)\n",
    "tomorrow = today + timedelta(days=1)\n",
    "\n",
    "dates = np.array([yesterday, today, tomorrow])\n",
    "\n",
    "print(\"Dates as NumPy array:\", dates)"
   ]
  },
  {
   "cell_type": "code",
   "execution_count": null,
   "id": "9ad84fba",
   "metadata": {},
   "outputs": [],
   "source": [
    "7.Consider two random arrays A and B, check if they are equal"
   ]
  },
  {
   "cell_type": "code",
   "execution_count": 8,
   "id": "6298f9b8",
   "metadata": {},
   "outputs": [
    {
     "name": "stdout",
     "output_type": "stream",
     "text": [
      "Arrays A and B are equal.\n"
     ]
    }
   ],
   "source": [
    "\n",
    "A = np.array([1, 2, 3])\n",
    "B = np.array([1, 2, 3])\n",
    "\n",
    "if np.array_equal(A, B):\n",
    "    print(\"Arrays A and B are equal.\")\n",
    "else:\n",
    "    print(\"Arrays A and B are not equal.\")"
   ]
  },
  {
   "cell_type": "code",
   "execution_count": null,
   "id": "c994ca32",
   "metadata": {},
   "outputs": [],
   "source": [
    "8.Create a random vector of size 10 and replace the maximum value by 0"
   ]
  },
  {
   "cell_type": "code",
   "execution_count": 9,
   "id": "cf2ec610",
   "metadata": {},
   "outputs": [
    {
     "name": "stdout",
     "output_type": "stream",
     "text": [
      "[0.80800271 0.79941363 0.1911972  0.72576958 0.70769237 0.\n",
      " 0.82100507 0.39402816 0.54388765 0.00929025]\n"
     ]
    }
   ],
   "source": [
    "import numpy as np\n",
    "\n",
    "random_vector = np.random.rand(10)\n",
    "\n",
    "max_index = np.argmax(random_vector)\n",
    "\n",
    "random_vector[max_index] = 0\n",
    "\n",
    "print(random_vector)"
   ]
  },
  {
   "cell_type": "code",
   "execution_count": null,
   "id": "5e254360",
   "metadata": {},
   "outputs": [],
   "source": [
    "9.How to print all the values of an array"
   ]
  },
  {
   "cell_type": "code",
   "execution_count": 10,
   "id": "db1d54c4",
   "metadata": {},
   "outputs": [
    {
     "name": "stdout",
     "output_type": "stream",
     "text": [
      "1\n",
      "2\n",
      "3\n",
      "4\n",
      "5\n",
      "6\n",
      "7\n",
      "8\n",
      "9\n"
     ]
    }
   ],
   "source": [
    "\n",
    "arr_2d = np.array([[1, 2, 3],\n",
    "                   [4, 5, 6],\n",
    "                   [7, 8, 9]])\n",
    "\n",
    "for row in arr_2d:\n",
    "    for val in row:\n",
    "        print(val)"
   ]
  },
  {
   "cell_type": "code",
   "execution_count": null,
   "id": "4f377f29",
   "metadata": {},
   "outputs": [],
   "source": [
    "10.Subtract the mean of each row of a matrix"
   ]
  },
  {
   "cell_type": "code",
   "execution_count": 11,
   "id": "305ea219",
   "metadata": {},
   "outputs": [
    {
     "name": "stdout",
     "output_type": "stream",
     "text": [
      "[[-1.  0.  1.]\n",
      " [-1.  0.  1.]\n",
      " [-1.  0.  1.]]\n"
     ]
    }
   ],
   "source": [
    "import numpy as np\n",
    "\n",
    "matrix = np.array([[1, 2, 3],\n",
    "                   [4, 5, 6],\n",
    "                   [7, 8, 9]])\n",
    "\n",
    "row_means = np.mean(matrix, axis=1, keepdims=True)\n",
    "\n",
    "matrix_minus_mean = matrix - row_means\n",
    "\n",
    "print(matrix_minus_mean)"
   ]
  },
  {
   "cell_type": "code",
   "execution_count": null,
   "id": "879d2b30",
   "metadata": {},
   "outputs": [],
   "source": [
    "11.Consider a given vector. How to add one to each element indexed by a second vector(be\n",
    "careful with repeated indices)?"
   ]
  },
  {
   "cell_type": "code",
   "execution_count": 12,
   "id": "361926ea",
   "metadata": {},
   "outputs": [
    {
     "name": "stdout",
     "output_type": "stream",
     "text": [
      "[2 2 4 5 5]\n"
     ]
    }
   ],
   "source": [
    "import numpy as np\n",
    "\n",
    "initial_vector = np.array([1, 2, 3, 4, 5])\n",
    "\n",
    "indices = np.array([0, 2, 3])\n",
    "\n",
    "result_vector = initial_vector.copy()\n",
    "\n",
    "result_vector[indices] += 1\n",
    "\n",
    "print(result_vector)"
   ]
  },
  {
   "cell_type": "code",
   "execution_count": null,
   "id": "aaa6082a",
   "metadata": {},
   "outputs": [],
   "source": [
    "12.How to get a Diagonal of Dot product ?"
   ]
  },
  {
   "cell_type": "code",
   "execution_count": 13,
   "id": "a943b88b",
   "metadata": {},
   "outputs": [
    {
     "name": "stdout",
     "output_type": "stream",
     "text": [
      "[30 69 90]\n"
     ]
    }
   ],
   "source": [
    "import numpy as np\n",
    "\n",
    "A = np.array([[1, 2, 3],\n",
    "              [4, 5, 6],\n",
    "              [7, 8, 9]])\n",
    "\n",
    "B = np.array([[9, 8, 7],\n",
    "              [6, 5, 4],\n",
    "              [3, 2, 1]])\n",
    "\n",
    "dot_product = np.dot(A, B)\n",
    "\n",
    "diagonal = np.diagonal(dot_product)\n",
    "\n",
    "print(diagonal)"
   ]
  },
  {
   "cell_type": "code",
   "execution_count": null,
   "id": "20a321ba",
   "metadata": {},
   "outputs": [],
   "source": [
    "13.How to Find the Most Frequent Value in an Array?"
   ]
  },
  {
   "cell_type": "code",
   "execution_count": 20,
   "id": "6d899fc6",
   "metadata": {},
   "outputs": [
    {
     "name": "stdout",
     "output_type": "stream",
     "text": [
      "The most frequent value is 0 with 1 occurrences.\n"
     ]
    }
   ],
   "source": [
    "import numpy as np\n",
    "\n",
    "my_array = np.array([0,10,50])\n",
    "\n",
    "unique_values, counts = np.unique(my_array, return_counts=True)\n",
    "\n",
    "most_frequent_index = np.argmax(counts)\n",
    "\n",
    "most_frequent_value = unique_values[most_frequent_index]\n",
    "\n",
    "print(f\"The most frequent value is {most_frequent_value} with {counts[most_frequent_index]} occurrences.\")\n"
   ]
  },
  {
   "cell_type": "code",
   "execution_count": null,
   "id": "bace2b84",
   "metadata": {},
   "outputs": [],
   "source": [
    "14.How to get the n-largest values of an array?"
   ]
  },
  {
   "cell_type": "code",
   "execution_count": 15,
   "id": "03665982",
   "metadata": {},
   "outputs": [
    {
     "name": "stdout",
     "output_type": "stream",
     "text": [
      "[5 7 8]\n"
     ]
    }
   ],
   "source": [
    "import numpy as np\n",
    "\n",
    "arr = np.array([5, 2, 8, 1, 7, 3])\n",
    "\n",
    "n = 3\n",
    "\n",
    "n_largest = np.partition(arr, -n)[-n:]\n",
    "\n",
    "print(n_largest)"
   ]
  },
  {
   "cell_type": "code",
   "execution_count": null,
   "id": "1e52224a",
   "metadata": {},
   "outputs": [],
   "source": [
    "15.How to Create a Record Array from a Regular Array?"
   ]
  },
  {
   "cell_type": "code",
   "execution_count": 17,
   "id": "1bed9fe4",
   "metadata": {},
   "outputs": [
    {
     "name": "stdout",
     "output_type": "stream",
     "text": [
      "Record Array:\n",
      "[(1,) (2,) (3,) (4,) (5,)]\n",
      "Accessing 'my_column': [1 2 3 4 5]\n"
     ]
    }
   ],
   "source": [
    "import numpy as np\n",
    "\n",
    "regular_array = np.array([1, 2, 3, 4, 5])\n",
    "\n",
    "record_array = np.rec.array(regular_array, dtype=[('my_column', int)])\n",
    "\n",
    "print(\"Record Array:\")\n",
    "print(record_array)\n",
    "print(\"Accessing 'my_column':\", record_array.my_column)"
   ]
  },
  {
   "cell_type": "code",
   "execution_count": null,
   "id": "1adcb5d7",
   "metadata": {},
   "outputs": [],
   "source": [
    "16.How to swap two rows of an array ?"
   ]
  },
  {
   "cell_type": "code",
   "execution_count": 18,
   "id": "a06db9b2",
   "metadata": {},
   "outputs": [
    {
     "name": "stdout",
     "output_type": "stream",
     "text": [
      "[[7 8 9]\n",
      " [4 5 6]\n",
      " [1 2 3]]\n"
     ]
    }
   ],
   "source": [
    "import numpy as np\n",
    "\n",
    "array = np.array([[1, 2, 3],\n",
    "                  [4, 5, 6],\n",
    "                  [7, 8, 9]])\n",
    "\n",
    "array[[0, 2]] = array[[2, 0]]\n",
    "\n",
    "print(array)"
   ]
  },
  {
   "cell_type": "code",
   "execution_count": null,
   "id": "d27a35d9",
   "metadata": {},
   "outputs": [],
   "source": [
    "17. Write Python code to reshape to the next dimension of numPy array."
   ]
  },
  {
   "cell_type": "code",
   "execution_count": 23,
   "id": "7199f630",
   "metadata": {},
   "outputs": [
    {
     "name": "stdout",
     "output_type": "stream",
     "text": [
      "Original Array:\n",
      "[[1 2]\n",
      " [3 4]\n",
      " [5 6]]\n",
      "\n",
      "Reshaped Array:\n",
      "[[1 2 3]\n",
      " [4 5 6]]\n"
     ]
    }
   ],
   "source": [
    "import numpy as np\n",
    "\n",
    "original_array = np.array([[1, 2], [3, 4], [5, 6]])\n",
    "\n",
    "reshaped_array = original_array.reshape(-1, original_array.shape[0])\n",
    "\n",
    "print(\"Original Array:\")\n",
    "print(original_array)\n",
    "\n",
    "print(\"\\nReshaped Array:\")\n",
    "print(reshaped_array)"
   ]
  },
  {
   "cell_type": "code",
   "execution_count": null,
   "id": "3d8f76f9",
   "metadata": {},
   "outputs": [],
   "source": []
  },
  {
   "cell_type": "code",
   "execution_count": null,
   "id": "d6ed224b",
   "metadata": {},
   "outputs": [],
   "source": []
  },
  {
   "cell_type": "code",
   "execution_count": 1,
   "id": "8a4cc7b9",
   "metadata": {},
   "outputs": [],
   "source": [
    "import numpy as np\n",
    "\n",
    "olympic_country = np.array(['GBR', 'China', 'RUS', 'US', 'KOR', 'JPN', 'GER'])\n",
    "olympic_country_gold = np.array([29, 38, 24, 46, 13, 7, 11])\n",
    "olympic_country_silver = np.array([17, 28, 25, 28, 8, 14, 11])\n",
    "olympic_country_bronze = np.array([19, 22, 32, 29, 7, 17, 14])"
   ]
  },
  {
   "cell_type": "code",
   "execution_count": null,
   "id": "f0d705fd",
   "metadata": {},
   "outputs": [],
   "source": [
    "1. Find Country index with max gold"
   ]
  },
  {
   "cell_type": "code",
   "execution_count": 2,
   "id": "748b88ab",
   "metadata": {},
   "outputs": [
    {
     "name": "stdout",
     "output_type": "stream",
     "text": [
      "The country with the maximum gold medals is US at index 3.\n"
     ]
    }
   ],
   "source": [
    "import numpy as np\n",
    "\n",
    "olympic_country = np.array(['GBR', 'Chine', 'RUS', 'US', 'KOR, JPN', 'GER'])\n",
    "olympic_country_gold = np.array([29, 38, 24, 46, 13, 7, 11])\n",
    "\n",
    "max_gold_index = np.argmax(olympic_country_gold)\n",
    "\n",
    "country_with_max_gold = olympic_country[max_gold_index]\n",
    "\n",
    "print(f\"The country with the maximum gold medals is {country_with_max_gold} at index \n",
    "      {max_gold_index}.\")"
   ]
  },
  {
   "cell_type": "code",
   "execution_count": null,
   "id": "6dab4e5c",
   "metadata": {},
   "outputs": [],
   "source": [
    "2. Country with Max Gold"
   ]
  },
  {
   "cell_type": "code",
   "execution_count": 3,
   "id": "849ec20c",
   "metadata": {},
   "outputs": [
    {
     "name": "stdout",
     "output_type": "stream",
     "text": [
      "Country with the most gold medals: US\n"
     ]
    }
   ],
   "source": [
    "import numpy as np\n",
    "\n",
    "olympic_country = np.array(['GBR', 'China', 'RUS', 'US', 'KOR', 'JPN', 'GER'])\n",
    "olympic_country_gold = np.array([29, 38, 24, 46, 13, 7, 11])\n",
    "\n",
    "max_gold_index = np.argmax(olympic_country_gold)\n",
    "\n",
    "country_with_max_gold = olympic_country[max_gold_index]\n",
    "\n",
    "print(\"Country with the most gold medals:\", country_with_max_gold)"
   ]
  },
  {
   "cell_type": "code",
   "execution_count": null,
   "id": "00e74f01",
   "metadata": {},
   "outputs": [],
   "source": [
    "3. Find Countries with More than 20 Gold"
   ]
  },
  {
   "cell_type": "code",
   "execution_count": 4,
   "id": "223cbdbd",
   "metadata": {},
   "outputs": [
    {
     "name": "stdout",
     "output_type": "stream",
     "text": [
      "Countries with more than 20 gold medals: ['GBR' 'China' 'RUS' 'US']\n"
     ]
    }
   ],
   "source": [
    "import numpy as np\n",
    "\n",
    "olympic_country = np.array(['GBR', 'China', 'RUS', 'US', 'KOR', 'JPN', 'GER'])\n",
    "olympic_country_gold = np.array([29, 38, 24, 46, 13, 7, 11])\n",
    "\n",
    "mask = olympic_country_gold > 20\n",
    "\n",
    "countries_with_more_than_20_gold = olympic_country[mask]\n",
    "\n",
    "print(\"Countries with more than 20 gold medals:\", countries_with_more_than_20_gold)"
   ]
  },
  {
   "cell_type": "code",
   "execution_count": null,
   "id": "28ccd3c9",
   "metadata": {},
   "outputs": [],
   "source": [
    "4. Evaluate the dataset and print the medal:\n",
    "\n",
    "1. print each country name with number of gold medals\n",
    "\n",
    "2. print each country nale with total number of medals"
   ]
  },
  {
   "cell_type": "code",
   "execution_count": 5,
   "id": "94c71ca8",
   "metadata": {},
   "outputs": [
    {
     "name": "stdout",
     "output_type": "stream",
     "text": [
      "Country: GBR, Gold Medals: 29, Total Medals: 65\n",
      "Country: China, Gold Medals: 38, Total Medals: 88\n",
      "Country: RUS, Gold Medals: 24, Total Medals: 81\n",
      "Country: US, Gold Medals: 46, Total Medals: 103\n",
      "Country: KOR, Gold Medals: 13, Total Medals: 28\n",
      "Country: JPN, Gold Medals: 7, Total Medals: 38\n",
      "Country: GER, Gold Medals: 11, Total Medals: 36\n"
     ]
    }
   ],
   "source": [
    "import numpy as np\n",
    "\n",
    "olympic_country = np.array(['GBR', 'China', 'RUS', 'US', 'KOR', 'JPN', 'GER'])\n",
    "olympic_country_gold = np.array([29, 38, 24, 46, 13, 7, 11])\n",
    "olympic_country_silver = np.array([17, 28, 25, 28, 8, 14, 11])\n",
    "olympic_country_bronze = np.array([19, 22, 32, 29, 7, 17, 14])\n",
    "\n",
    "for i in range(len(olympic_country)):\n",
    "    country = olympic_country[i]\n",
    "    gold = olympic_country_gold[i]\n",
    "    silver = olympic_country_silver[i]\n",
    "    bronze = olympic_country_bronze[i]\n",
    "    total_medals = gold + silver + bronze\n",
    "    print(f\"Country: {country}, Gold Medals: {gold}, Total Medals: {total_medals}\")"
   ]
  },
  {
   "cell_type": "code",
   "execution_count": null,
   "id": "7ee3d263",
   "metadata": {},
   "outputs": [],
   "source": []
  },
  {
   "cell_type": "code",
   "execution_count": null,
   "id": "674e1838",
   "metadata": {},
   "outputs": [],
   "source": []
  }
 ],
 "metadata": {
  "kernelspec": {
   "display_name": "Python 3 (ipykernel)",
   "language": "python",
   "name": "python3"
  },
  "language_info": {
   "codemirror_mode": {
    "name": "ipython",
    "version": 3
   },
   "file_extension": ".py",
   "mimetype": "text/x-python",
   "name": "python",
   "nbconvert_exporter": "python",
   "pygments_lexer": "ipython3",
   "version": "3.11.4"
  }
 },
 "nbformat": 4,
 "nbformat_minor": 5
}
