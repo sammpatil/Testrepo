{
  "nbformat": 4,
  "nbformat_minor": 0,
  "metadata": {
    "colab": {
      "provenance": []
    },
    "kernelspec": {
      "name": "python3",
      "display_name": "Python 3"
    },
    "language_info": {
      "name": "python"
    }
  },
  "cells": [
    {
      "cell_type": "code",
      "execution_count": null,
      "metadata": {
        "id": "1t3sfSWULevh"
      },
      "outputs": [],
      "source": []
    },
    {
      "cell_type": "code",
      "source": [
        "import nltk"
      ],
      "metadata": {
        "id": "tRrUEDFbMvoJ"
      },
      "execution_count": 38,
      "outputs": []
    },
    {
      "cell_type": "code",
      "source": [
        "nltk.download('punkt')"
      ],
      "metadata": {
        "colab": {
          "base_uri": "https://localhost:8080/"
        },
        "id": "B47a_8ZsMuu2",
        "outputId": "9cc5f871-867a-48de-ae18-ac2b917ab1e8"
      },
      "execution_count": 39,
      "outputs": [
        {
          "output_type": "stream",
          "name": "stderr",
          "text": [
            "[nltk_data] Downloading package punkt to /root/nltk_data...\n",
            "[nltk_data]   Package punkt is already up-to-date!\n"
          ]
        },
        {
          "output_type": "execute_result",
          "data": {
            "text/plain": [
              "True"
            ]
          },
          "metadata": {},
          "execution_count": 39
        }
      ]
    },
    {
      "cell_type": "code",
      "source": [
        "import nltk\n",
        "from nltk.corpus import words, stopwords\n",
        "from string import punctuation\n"
      ],
      "metadata": {
        "id": "6JqrFHL2LfUg"
      },
      "execution_count": 40,
      "outputs": []
    },
    {
      "cell_type": "code",
      "source": [
        "nltk.download('words')\n",
        "nltk.download('stopwords')"
      ],
      "metadata": {
        "colab": {
          "base_uri": "https://localhost:8080/"
        },
        "id": "Y7ywWjx1Lugd",
        "outputId": "760a8756-93a9-4b78-cf69-80ea8ef8481a"
      },
      "execution_count": 41,
      "outputs": [
        {
          "output_type": "stream",
          "name": "stderr",
          "text": [
            "[nltk_data] Downloading package words to /root/nltk_data...\n",
            "[nltk_data]   Package words is already up-to-date!\n",
            "[nltk_data] Downloading package stopwords to /root/nltk_data...\n",
            "[nltk_data]   Package stopwords is already up-to-date!\n"
          ]
        },
        {
          "output_type": "execute_result",
          "data": {
            "text/plain": [
              "True"
            ]
          },
          "metadata": {},
          "execution_count": 41
        }
      ]
    },
    {
      "cell_type": "code",
      "source": [
        "def get_valid_words():\n",
        "    return set(words.words())"
      ],
      "metadata": {
        "id": "zt7_qWk5Lx84"
      },
      "execution_count": 42,
      "outputs": []
    },
    {
      "cell_type": "code",
      "source": [
        "def normalize_casing(term):\n",
        "    return term.lower()"
      ],
      "metadata": {
        "id": "DotzcuVQL11E"
      },
      "execution_count": 43,
      "outputs": []
    },
    {
      "cell_type": "code",
      "source": [
        "def create_unique_list(terms):\n",
        "    return list(set(terms))\n"
      ],
      "metadata": {
        "id": "fHAcRIZwL5CV"
      },
      "execution_count": 44,
      "outputs": []
    },
    {
      "cell_type": "code",
      "source": [
        "def get_stop_words():\n",
        "    nltk_stopwords = set(stopwords.words('english'))\n",
        "    punctuation_set = set(punctuation)\n",
        "    stop_words = nltk_stopwords.union(punctuation_set)\n",
        "    return stop_words"
      ],
      "metadata": {
        "id": "x8nVGObsMAT1"
      },
      "execution_count": 63,
      "outputs": []
    },
    {
      "cell_type": "code",
      "source": [
        "def get_correct_term(target_term, valid_words, max_entries=20000):\n",
        "    edit_distances = {}\n",
        "    for word in list(valid_words)[:max_entries]:\n",
        "        edit_distances[word] = nltk.edit_distance(target_term, word)\n",
        "        sorted_distances = sorted(edit_distances.items(), key=lambda x: x[1])\n",
        "    return sorted_distances[0][0]"
      ],
      "metadata": {
        "id": "QKdZmhfFMDS8"
      },
      "execution_count": 64,
      "outputs": []
    },
    {
      "cell_type": "code",
      "source": [
        "def spelling_correction(sentence, valid_words_set, stop_words_set):\n",
        "    tokenized_sentence = nltk.word_tokenize(sentence.lower())\n",
        "    corrected_sentence = []\n",
        "\n",
        "    for term in tokenized_sentence:\n",
        "        if term in valid_words_set:\n",
        "            corrected_sentence.append(term)\n",
        "        elif term not in stop_words_set:\n",
        "            corrected_term = get_correct_term(term, valid_words_set)\n",
        "            corrected_sentence.append(corrected_term)\n",
        "\n",
        "    return ' '.join(corrected_sentence)"
      ],
      "metadata": {
        "id": "LGvrxWbyMGQo"
      },
      "execution_count": 65,
      "outputs": []
    },
    {
      "cell_type": "code",
      "source": [
        "# Task 1\n",
        "valid_words_set = get_valid_words()"
      ],
      "metadata": {
        "id": "UlLzH1bPMMVI"
      },
      "execution_count": 66,
      "outputs": []
    },
    {
      "cell_type": "code",
      "source": [
        "# Task 2\n",
        "print(list(valid_words_set)[:20])"
      ],
      "metadata": {
        "colab": {
          "base_uri": "https://localhost:8080/"
        },
        "id": "PItrbMOXMPsR",
        "outputId": "bd5ca23d-756e-483a-9b8b-642480e8a9a7"
      },
      "execution_count": 67,
      "outputs": [
        {
          "output_type": "stream",
          "name": "stdout",
          "text": [
            "['bivoluminous', 'drassid', 'halberd', 'strictness', 'decylenic', 'acinaces', 'Architeuthis', 'disproval', 'nonrenunciation', 'scrapper', 'portman', 'quadrioxalate', 'cinnamonlike', 'nonadministrative', 'gablatores', 'dozed', 'deputational', 'Erotylidae', 'hygrophanous', 'Nataraja']\n"
          ]
        }
      ]
    },
    {
      "cell_type": "code",
      "source": [
        "# Task 3\n",
        "normalized_valid_words = create_unique_list([normalize_casing(word) for word in valid_words_set])\n"
      ],
      "metadata": {
        "id": "d8Sx6eCdMU7l"
      },
      "execution_count": 68,
      "outputs": []
    },
    {
      "cell_type": "code",
      "source": [
        "# Task 4\n",
        "print(normalized_valid_words[:20])"
      ],
      "metadata": {
        "colab": {
          "base_uri": "https://localhost:8080/"
        },
        "id": "B4vq6Q2qMcNG",
        "outputId": "6b69f073-d629-4818-db44-364e743fa82b"
      },
      "execution_count": 69,
      "outputs": [
        {
          "output_type": "stream",
          "name": "stdout",
          "text": [
            "['bivoluminous', 'drassid', 'halberd', 'strictness', 'decylenic', 'acinaces', 'disproval', 'nonrenunciation', 'scrapper', 'portman', 'quadrioxalate', 'nonadministrative', 'cinnamonlike', 'gablatores', 'dozed', 'deputational', 'hygrophanous', 'shabunder', 'uneath', 'bocca']\n"
          ]
        }
      ]
    },
    {
      "cell_type": "code",
      "source": [
        "# Task 5\n",
        "stop_words_set = get_stop_words()\n"
      ],
      "metadata": {
        "id": "3Xxdz_slMfoZ"
      },
      "execution_count": 70,
      "outputs": []
    },
    {
      "cell_type": "code",
      "source": [
        "# Task 6\n",
        "example_correction = get_correct_term('committee', valid_words_set)\n",
        "print(f\"Corrected term for 'committee': {example_correction}\")\n"
      ],
      "metadata": {
        "colab": {
          "base_uri": "https://localhost:8080/"
        },
        "id": "6flbzCyoMi45",
        "outputId": "62bdf44a-811d-471a-8b5f-4dda86447e35"
      },
      "execution_count": 71,
      "outputs": [
        {
          "output_type": "stream",
          "name": "stdout",
          "text": [
            "Corrected term for 'committee': admittee\n"
          ]
        }
      ]
    },
    {
      "cell_type": "code",
      "source": [
        "# Task 7\n",
        "valid_words_set = set(valid_words_set)"
      ],
      "metadata": {
        "id": "bYL5KCxDMl9N"
      },
      "execution_count": 72,
      "outputs": []
    },
    {
      "cell_type": "code",
      "source": [
        "# Task 8\n",
        "def execute_spelling_correction(input_sentence):\n",
        "    return spelling_correction(input_sentence, valid_words_set, stop_words_set)"
      ],
      "metadata": {
        "id": "LAX0Ur0AMoXq"
      },
      "execution_count": 73,
      "outputs": []
    },
    {
      "cell_type": "code",
      "source": [
        "# Task 9\n",
        "input_sentence = \"The new abacos is great\"\n",
        "output_sentence = execute_spelling_correction(input_sentence)\n",
        "print(\"Input Sentence:\", input_sentence)\n",
        "print(\"Output Sentence:\", output_sentence)\n"
      ],
      "metadata": {
        "colab": {
          "base_uri": "https://localhost:8080/"
        },
        "id": "lX8Bs6PaMqlW",
        "outputId": "950f1d44-7cec-413e-d43d-66fa32648c5e"
      },
      "execution_count": 74,
      "outputs": [
        {
          "output_type": "stream",
          "name": "stdout",
          "text": [
            "Input Sentence: The new abacos is great\n",
            "Output Sentence: the new abacus is great\n"
          ]
        }
      ]
    }
  ]
}