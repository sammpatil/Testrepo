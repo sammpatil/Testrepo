{
 "cells": [
  {
   "cell_type": "markdown",
   "id": "413e0d69",
   "metadata": {},
   "source": [
    "1. Write a python function that copies a file reading and writing up to 50 characters at a time.\n"
   ]
  },
  {
   "cell_type": "code",
   "execution_count": 6,
   "id": "3720ec4a",
   "metadata": {},
   "outputs": [
    {
     "name": "stdout",
     "output_type": "stream",
     "text": [
      "File copy successful.\n"
     ]
    }
   ],
   "source": [
    "import os\n",
    "\n",
    "# Define file paths\n",
    "source_file_path = 'source.txt'\n",
    "destination_file_path = 'destination.txt'\n",
    "\n",
    "# Create source.txt with some content\n",
    "with open(source_file_path, 'w') as source_file:\n",
    "    source_file.write(\"This is the source data that I want to copy.\")\n",
    "\n",
    "# Ensure the destination.txt file exists (create it if it doesn't)\n",
    "if not os.path.exists(destination_file_path):\n",
    "    with open(destination_file_path, 'w') as destination_file:\n",
    "        pass\n",
    "\n",
    "def copy_file(source_file_path, destination_file_path):\n",
    "    try:\n",
    "        with open(source_file_path, 'rb') as source_file, open(destination_file_path, 'wb') as destination_file:\n",
    "            while True:\n",
    "                data = source_file.read(50)\n",
    "                if not data:\n",
    "                    break\n",
    "                destination_file.write(data)\n",
    "        print(\"File copy successful.\")\n",
    "    except FileNotFoundError:\n",
    "        print(\"Source file not found.\")\n",
    "    except Exception as e:\n",
    "        print(f\"An error occurred: {str(e)}\")\n",
    "\n",
    "# Example usage:\n",
    "copy_file(source_file_path, destination_file_path)"
   ]
  },
  {
   "cell_type": "markdown",
   "id": "0c438a36",
   "metadata": {},
   "source": [
    "2. Print all numbers present in the text file and print the number of blank spaces in that file."
   ]
  },
  {
   "cell_type": "code",
   "execution_count": 10,
   "id": "c4804344",
   "metadata": {},
   "outputs": [
    {
     "name": "stdout",
     "output_type": "stream",
     "text": [
      "Numbers in the file: 191791274051583121261130704201131\n",
      "Number of blank spaces: 151\n"
     ]
    }
   ],
   "source": [
    "source_file_path =  ('name.txt')\n",
    "def program(source_file_path):\n",
    "    try:\n",
    "        with open(file_path, 'r') as file:\n",
    "            text = file.read()\n",
    "            numbers = []\n",
    "            spaces_count = 0\n",
    "            \n",
    "            for character in text:\n",
    "                if character.isdigit():\n",
    "                    numbers.append(character)\n",
    "                elif character.isspace():\n",
    "                    spaces_count += 1\n",
    "            numbers_str = ''.join(numbers)\n",
    "            print(\"Numbers in the file:\", numbers_str)\n",
    "            print(\"Number of blank spaces:\", spaces_count)\n",
    "    \n",
    "    except FileNotFoundError:\n",
    "        print(\"File not found.\")\n",
    "    except Exception as e:\n",
    "        print(f\"An error occurred: {str(e)}\")\n",
    "        \n",
    "file_path = 'name.txt'  \n",
    "program(file_path)"
   ]
  },
  {
   "cell_type": "markdown",
   "id": "35782d22",
   "metadata": {},
   "source": [
    "3.Write a function called sed that takes as arguments a pattern string, a replacement string, and two filenames;\n",
    "it should read the first file and write the contents into the second file (creating it if necessary). If the pattern\n",
    "string appears anywhere in the file, it should be replaced with the replacement string. If an error occurs while opening,\n",
    "reading, writing, or closing files, your program should catch the exception, print an error message, and exit."
   ]
  },
  {
   "cell_type": "code",
   "execution_count": 8,
   "id": "a4ed5477",
   "metadata": {},
   "outputs": [
    {
     "name": "stdout",
     "output_type": "stream",
     "text": [
      "File 'python.txt' processed successfully. Output written to 'pythonnew.txt'.\n"
     ]
    }
   ],
   "source": [
    "def sed(pattern, replacement, input_file, output_file):\n",
    "    try:\n",
    "        # Open the input file for reading\n",
    "        with open(input_file, 'r') as infile:\n",
    "            # Read the contents of the input file\n",
    "            file_contents = infile.read()\n",
    "\n",
    "        # Replace the pattern with the replacement string\n",
    "        modified_contents = file_contents.replace(pattern, replacement)\n",
    "\n",
    "        # Open the output file for writing\n",
    "        with open(output_file, 'w') as outfile:\n",
    "            # Write the modified contents to the output file\n",
    "            outfile.write(modified_contents)\n",
    "\n",
    "    except FileNotFoundError:\n",
    "        print(f\"Error: One or both of the specified files not found.\")\n",
    "    except Exception as e:\n",
    "        print(f\"An error occurred: {str(e)}\")\n",
    "    else:\n",
    "        print(f\"File '{input_file}' processed successfully. Output written to '{output_file}'.\")\n",
    "\n",
    "sed(\"old_text\", \"new_text\", \"python.txt\", \"pythonnew.txt\")\n"
   ]
  },
  {
   "cell_type": "code",
   "execution_count": 11,
   "id": "176be240",
   "metadata": {},
   "outputs": [
    {
     "data": {
      "text/plain": [
       "'Python Command line arguments\\nThe Python supports the programs that can be run on the command line, complete with command line arguments. It is the input parameter that needs to be passed to the script when executing them.\\n\\nIt means to interact with a command-line interface for the scripts.\\n\\nIt provides a getopt module, in which command line arguments and options can be parsed.'"
      ]
     },
     "execution_count": 11,
     "metadata": {},
     "output_type": "execute_result"
    }
   ],
   "source": [
    "f=open('pythonnew.txt','r')\n",
    "f.read()"
   ]
  },
  {
   "cell_type": "markdown",
   "id": "ae5fbd1a",
   "metadata": {},
   "source": [
    "4 Log File Analysis: You have a log file containing records of user activities on a website. Each line in the file represents\n",
    "    a log entry with details like timestamp, user ID, and action performed. Your task is to analyze this log file.\n",
    "\n",
    "a. Write Python code to read the log file and extract specific information, such as the number of unique users or\n",
    "the most common action.\n",
    "\n",
    "b. How would you handle large log files efficiently without loading the entire file into memory?"
   ]
  },
  {
   "cell_type": "code",
   "execution_count": 12,
   "id": "8a23f673",
   "metadata": {},
   "outputs": [],
   "source": [
    "def parse_log_file(log_file_path):\n",
    "    \n",
    "    log_entries_by_date = {}\n",
    "    \n",
    "    with open(log_file_path,'r') as log_file:\n",
    "        for line in log_file:\n",
    "            parts = line.strip().split(' ',1)\n",
    "            if len(parts)==2:\n",
    "                timestamp, message=parts\n",
    "                date=timestamp[:10]\n",
    "                if date in log_entries_by_date:\n",
    "                    log_entries_by_date[date].append(message)\n",
    "                else:\n",
    "                    log_entries_by_date[date]=[message]\n",
    "                    \n",
    "                return log_entries_by_date\n",
    "            \n",
    "def analyze_log_data(log_entries_by_date):\n",
    "    for date, entries in log_entries_by_date.items():\n",
    "        print(f\"Date: {date}\")\n",
    "        print(f\"Total Entries: {len(entries)}\")\n",
    "        print(\"Simple Entreis:\")\n",
    "        for i, entry in enumerate(entries[:5], start=1):\n",
    "            print(f\"{i}. {entry}\")\n",
    "            print(\"-------\")\n",
    "            "
   ]
  },
  {
   "cell_type": "code",
   "execution_count": 13,
   "id": "c2448b1a",
   "metadata": {},
   "outputs": [
    {
     "name": "stdout",
     "output_type": "stream",
     "text": [
      "Date: [2023-09-0\n",
      "Total Entries: 1\n",
      "Simple Entreis:\n",
      "1. 21:51:29] Executing bootstrap tasks\n",
      "-------\n"
     ]
    }
   ],
   "source": [
    "if __name__ == \"__main__\":\n",
    "    log_file_path='govi.log' \n",
    "    log_entries_by_date = parse_log_file(log_file_path)\n",
    "    analyze_log_data(log_entries_by_date)"
   ]
  },
  {
   "cell_type": "markdown",
   "id": "01a3bda1",
   "metadata": {},
   "source": [
    "5Text File Search and Replace: You have a text file with a large amount of text, and you want to search for \n",
    "    specific words or phrases and replace them with new content.\n",
    "\n",
    "a. Write Python code to search for and replace text within a text file.\n",
    "\n",
    "b. How would you handle cases where you need to perform multiple replacements in a single pass?"
   ]
  },
  {
   "cell_type": "code",
   "execution_count": 12,
   "id": "ab326eec",
   "metadata": {},
   "outputs": [
    {
     "name": "stdout",
     "output_type": "stream",
     "text": [
      "Replacement complete. Check pythonnew.txt for the updated content\n"
     ]
    }
   ],
   "source": [
    "def search_Text(input_file, output_file, search_text, replace_text):\n",
    "    \n",
    "        with open(input_file, 'r') as infile, open(output_file, 'w') as outfile:\n",
    "            for line in infile:\n",
    "                # Replace occurrences of search_text with replace_text in each line\n",
    "                modified_line = line.replace(search_text, replace_text)\n",
    "                outfile.write(modified_line)\n",
    "        print(\"Replacement complete. Check {} for the updated content\".format(output_file))\n",
    "\n",
    "\n",
    "search_text = \"old_word\"\n",
    "replace_text = \"new_word\"\n",
    "input_file = \"input5a.txt\"\n",
    "output_file = \"output5a.txt\"\n",
    "\n",
    "search_Text(\"python.txt\", \"pythonnew.txt\", 'born', 'inborn') \n",
    "\n"
   ]
  },
  {
   "cell_type": "code",
   "execution_count": 13,
   "id": "6f3f39e1",
   "metadata": {},
   "outputs": [
    {
     "name": "stdout",
     "output_type": "stream",
     "text": [
      "Enter text to replace the existing contents:I am from Karnataka\n",
      "Text successfully replaced\n"
     ]
    }
   ],
   "source": [
    "# Python program to replace text in a file\n",
    "s = input(\"Enter text to replace the existing contents:\")\n",
    "f = open(\"python.txt\", \"r+\")\n",
    " \n",
    "# file.txt is an example here,\n",
    "# it should be replaced with the file name\n",
    "# r+ mode opens the file in read and write mode\n",
    "f.truncate(0)\n",
    "f.write(s)\n",
    "f.close()\n",
    "print(\"Text successfully replaced\")"
   ]
  },
  {
   "cell_type": "markdown",
   "id": "cc6c2820",
   "metadata": {},
   "source": [
    "6. Write a Python script that concatenates the contents of multiple text files into a single output file.\n",
    "Allow the user to specify the input files and the output file."
   ]
  },
  {
   "cell_type": "code",
   "execution_count": 1,
   "id": "a6335904",
   "metadata": {},
   "outputs": [
    {
     "name": "stdout",
     "output_type": "stream",
     "text": [
      "Enter the path of an input text file (or 'done' to finish): input_files.txt\n",
      "Enter the path of an input text file (or 'done' to finish): done\n",
      "Enter the path of the output text file: output.txt\n",
      "Successfully concatenated 1 files into output.txt\n"
     ]
    }
   ],
   "source": [
    "# Function to concatenate multiple text files into a single output file\n",
    "def concatenate_text_files(input_files, output_file):\n",
    "    try:\n",
    "        with open(output_file, 'w') as output:\n",
    "            for input_file in input_files:\n",
    "                with open(input_file, 'r') as file:\n",
    "                    output.write(file.read() + \"\\n\")\n",
    "        print(f\"Successfully concatenated {len(input_files)} files into {output_file}\")\n",
    "    except Exception as e:\n",
    "        print(f\"An error occurred: {str(e)}\")\n",
    "\n",
    "# Input files and output file paths\n",
    "input_files = []\n",
    "while True:\n",
    "    file_path = input(\"Enter the path of an input text file (or 'done' to finish): \")\n",
    "    if file_path.lower() == 'done':\n",
    "        break\n",
    "    input_files.append(file_path)\n",
    "\n",
    "output_file = input(\"Enter the path of the output text file: \")\n",
    "\n",
    "# Concatenate the input files into the output file\n",
    "concatenate_text_files(input_files, output_file)"
   ]
  },
  {
   "cell_type": "markdown",
   "id": "24a57b75",
   "metadata": {},
   "source": [
    "7.You are given a text file named input.txt containing a list of words, one word per line. Your task is to create\n",
    "a Python program that reads the contents of input.txt, processes the words, and writes the result to an output file \n",
    "named output.txt.\n",
    "\n",
    "a. The program should perform the following operations:\n",
    "\n",
    "i. Read the words from input.txt.\n",
    "\n",
    "ii. For each word in the input file, calculate the length of the word and store it in a dictionary where the word \n",
    "is the key, and the length is the value.\n",
    "\n",
    "iii. Write the word-length dictionary to output.txt in the following format:\n",
    "\n",
    "Word 1 : Length 1\n",
    "Word 2 : Length 2\n",
    "...\n",
    "\n",
    "Iv)Close both input and output files properly.\n",
    "\n",
    "v) Write Python code to accomplish this task. Ensure proper error handling for file operations.\n",
    "\n",
    "Sample Input(\"input.txt')\n",
    " apple \n",
    "Banana\n",
    "Cherry \n",
    "Date \n",
    "\n",
    "Sample output ( 'output.txt') \n",
    " Apple : 5 \n",
    "banana : 6\n",
    "Cherry : 6\n",
    "date : 4"
   ]
  },
  {
   "cell_type": "code",
   "execution_count": 12,
   "id": "928185ef",
   "metadata": {},
   "outputs": [
    {
     "name": "stdout",
     "output_type": "stream",
     "text": [
      "Processing completed. Check 'output.txt' for results.\n"
     ]
    }
   ],
   "source": [
    "# Define the input and output file names\n",
    "input_file_name = 'input.txt'\n",
    "output_file_name = 'output.txt'\n",
    "\n",
    "try:\n",
    "    # Step 1: Open input.txt for reading\n",
    "    with open(input_file_name, 'r') as input_file:\n",
    "        word_length_dict = {}  # Step 2: Create an empty dictionary\n",
    "\n",
    "        # Step 3: Loop through each line in the input file\n",
    "        for line in input_file:\n",
    "            word = line.strip()  # Step 4: Strip leading/trailing whitespace\n",
    "            length = len(word)   # Calculate the length of the word\n",
    "\n",
    "            # Step 5: Add the word and its length to the dictionary\n",
    "            word_length_dict[word] = length\n",
    "\n",
    "    # Step 6: Open output.txt for writing\n",
    "    with open(output_file_name, 'w') as output_file:\n",
    "        # Step 7: Write the word-length dictionary to the output file\n",
    "        for word, length in word_length_dict.items():\n",
    "            output_file.write(f\"{word}: {length}\\n\")\n",
    "\n",
    "    print(\"Processing completed. Check 'output.txt' for results.\")\n",
    "\n",
    "except FileNotFoundError:\n",
    "    print(f\"Error: {input_file_name} not found.\")\n",
    "except Exception as e:\n",
    "    print(f\"An error occurred: {str(e)}\")"
   ]
  },
  {
   "cell_type": "markdown",
   "id": "d701e4fc",
   "metadata": {},
   "source": [
    "8.Assume that you are developing a student gradebook system for a school. The system should allow teachers \n",
    "to input student grades for various subjects, store the data in files, and provide students with the ability \n",
    "to view their grades.\n",
    "\n",
    "Design a Python program that accomplishes the following tasks:\n",
    "\n",
    "i. Teachers should be able to input grades for students in different subjects.\n",
    "\n",
    "ii. Store the student grade data in separate text files for each subject.\n",
    "\n",
    "iii. Students should be able to view their grades for each subject.\n",
    "\n",
    "iv. Implement error handling for file operations, such as file not found or permission issues\n"
   ]
  },
  {
   "cell_type": "code",
   "execution_count": 3,
   "id": "30c1266c",
   "metadata": {},
   "outputs": [
    {
     "name": "stdout",
     "output_type": "stream",
     "text": [
      "\n",
      "Student Gradebook System\n",
      "1. Input Grades\n",
      "2. View Grades\n",
      "3. Exit\n",
      "Enter your choice (1/2/3): 1\n",
      "Enter the subject: english\n",
      "Enter student name: john\n",
      "Enter english grade for john: 86\n",
      "Grade for john in english has been recorded.\n",
      "\n",
      "Student Gradebook System\n",
      "1. Input Grades\n",
      "2. View Grades\n",
      "3. Exit\n",
      "Enter your choice (1/2/3): 2\n",
      "Enter the subject: kannada\n",
      "Grades for kannada:\n",
      "ray: 1\n",
      "\n",
      "Student Gradebook System\n",
      "1. Input Grades\n",
      "2. View Grades\n",
      "3. Exit\n",
      "Enter your choice (1/2/3): 3\n",
      "Goodbye!\n"
     ]
    }
   ],
   "source": [
    "import os\n",
    "\n",
    "# Function to input and store student grades for a subject\n",
    "def input_grades(subject):\n",
    "    try:\n",
    "        file_name = f\"{subject}.txt\"\n",
    "        with open(file_name, \"a\") as file:\n",
    "            student_name = input(\"Enter student name: \")\n",
    "            grade = input(f\"Enter {subject} grade for {student_name}: \")\n",
    "            file.write(f\"{student_name}: {grade}\\n\")\n",
    "        print(f\"Grade for {student_name} in {subject} has been recorded.\")\n",
    "    except IOError as e:\n",
    "        print(f\"Error: {e}\")\n",
    "\n",
    "# Function to view student grades for a subject\n",
    "def view_grades(subject):\n",
    "    try:\n",
    "        file_name = f\"{subject}.txt\"\n",
    "        if not os.path.exists(file_name):\n",
    "            print(f\"No grades recorded for {subject} yet.\")\n",
    "            return\n",
    "\n",
    "        with open(file_name, \"r\") as file:\n",
    "            print(f\"Grades for {subject}:\")\n",
    "            for line in file:\n",
    "                print(line.strip())\n",
    "    except IOError as e:\n",
    "        print(f\"Error: {e}\")\n",
    "\n",
    "# Main program loop\n",
    "while True:\n",
    "    print(\"\\nStudent Gradebook System\")\n",
    "    print(\"1. Input Grades\")\n",
    "    print(\"2. View Grades\")\n",
    "    print(\"3. Exit\")\n",
    "\n",
    "    choice = input(\"Enter your choice (1/2/3): \")\n",
    "\n",
    "    if choice == \"1\":\n",
    "        subject = input(\"Enter the subject: \")\n",
    "        input_grades(subject)\n",
    "    elif choice == \"2\":\n",
    "        subject = input(\"Enter the subject: \")\n",
    "        view_grades(subject)\n",
    "    elif choice == \"3\":\n",
    "        break\n",
    "    else:\n",
    "        print(\"Invalid choice. Please enter 1, 2, or 3.\")\n",
    "\n",
    "print(\"Goodbye!\")"
   ]
  },
  {
   "cell_type": "code",
   "execution_count": null,
   "id": "2a06ef76",
   "metadata": {},
   "outputs": [],
   "source": []
  }
 ],
 "metadata": {
  "kernelspec": {
   "display_name": "Python 3 (ipykernel)",
   "language": "python",
   "name": "python3"
  },
  "language_info": {
   "codemirror_mode": {
    "name": "ipython",
    "version": 3
   },
   "file_extension": ".py",
   "mimetype": "text/x-python",
   "name": "python",
   "nbconvert_exporter": "python",
   "pygments_lexer": "ipython3",
   "version": "3.11.4"
  }
 },
 "nbformat": 4,
 "nbformat_minor": 5
}
