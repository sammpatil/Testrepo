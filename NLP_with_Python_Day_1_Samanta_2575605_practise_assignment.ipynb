{
 "cells": [
  {
   "cell_type": "code",
   "execution_count": null,
   "metadata": {
    "id": "LHfj-S5crF8g"
   },
   "outputs": [],
   "source": [
    "1. What is the purpose of text preprocessing in NLP, and why is it essential before analysis?"
   ]
  },
  {
   "cell_type": "markdown",
   "metadata": {},
   "source": [
    "Natural Language Processing (NLP) is a branch of Data Science which deals with Text data.\n",
    "Apart from numerical data, Text data is available to a great extent which is used to analyze\n",
    "and solve business problems. But before using the data for analysis or prediction, processing the \n",
    "data is important.\n",
    "To prepare the text data for the model building we perform text preprocessing.\n",
    "It is the very first step of NLP projects. Some of the preprocessing steps are:\n",
    "Removing punctuations like . , ! $( ) * % @\n",
    "Removing URLs\n",
    "Removing Stop words\n",
    "Lower casing\n",
    "Tokenization\n",
    "Stemming\n",
    "Lemmatization\n",
    "Text preprocessing is essential before analysis in Natural Language Processing (NLP) for\n",
    "several reasons:\n",
    "    1.Noise Reduction\n",
    "    2.Consistency\n",
    "    3.Normalization\n",
    "    4.Vectorization\n",
    "In summary, text preprocessing is a crucial step before analysis in NLP as it prepares the raw \n",
    "text data for effective modeling, reduces noise, and ensures that the language is represented\n",
    "in a consistent and meaningful way, ultimately leading to more accurate and interpretable results.\n"
   ]
  },
  {
   "cell_type": "code",
   "execution_count": null,
   "metadata": {},
   "outputs": [],
   "source": [
    "2. Describe tokenization in NLP and explain its significance in text processing."
   ]
  },
  {
   "cell_type": "markdown",
   "metadata": {},
   "source": [
    "Tokenization in Natural Language Processing (NLP) is the process of breaking down a text\n",
    "into individual units called tokens. These tokens can be words, phrases, or other meaningful\n",
    "elements, depending on the level of granularity required.\n",
    "Significance:\n",
    "1. Text Preprocessing: Tokenization is a crucial step in text preprocessing. It helps convert raw \n",
    "    text into a format that can be easily fed into NLP models for analysis.\n",
    "2. Feature Extraction: Tokens serve as the features for NLP models. Analyzing and understanding\n",
    "    the relationships between tokens enables the extraction of meaningful features from the text.\n",
    "3. Language Understanding: Breaking text into tokens aids in understanding the structure and \n",
    "    semantics of a language. It allows for the examination of word order, context, and relationships \n",
    "    between different elements in the text.\n",
    "4. Text Analysis: Tokenization facilitates various text analysis tasks such as sentiment analysis,\n",
    "    part-of-speech tagging, named entity recognition, and more. By isolating individual units, NLP\n",
    "    models can better grasp the meaning of the text.\n",
    "5. Reducing Dimensionality: It helps in reducing the dimensionality of the data by representing \n",
    "    text as a sequence of tokens. This is important for efficient processing and model training.\n",
    "\n",
    "Overall, tokenization plays a fundamental role in preparing textual data for NLP applications,\n",
    "enabling machines to understand, interpret, and derive insights from human language."
   ]
  },
  {
   "cell_type": "code",
   "execution_count": 1,
   "metadata": {
    "id": "G9TMf_4YrI3w"
   },
   "outputs": [],
   "source": [
    "import nltk"
   ]
  },
  {
   "cell_type": "code",
   "execution_count": 2,
   "metadata": {
    "colab": {
     "base_uri": "https://localhost:8080/"
    },
    "id": "6TdikwGArUQ4",
    "outputId": "3f343aa4-99bc-4e61-e9f9-204fab83127d"
   },
   "outputs": [
    {
     "name": "stderr",
     "output_type": "stream",
     "text": [
      "[nltk_data] Downloading package punkt to /root/nltk_data...\n",
      "[nltk_data]   Unzipping tokenizers/punkt.zip.\n"
     ]
    },
    {
     "data": {
      "text/plain": [
       "True"
      ]
     },
     "execution_count": 2,
     "metadata": {},
     "output_type": "execute_result"
    }
   ],
   "source": [
    "nltk.download('punkt')"
   ]
  },
  {
   "cell_type": "code",
   "execution_count": 3,
   "metadata": {
    "colab": {
     "base_uri": "https://localhost:8080/"
    },
    "id": "9TYzDwBmrcab",
    "outputId": "bc2fcc57-5138-4bfb-feb4-9e66960b50fa"
   },
   "outputs": [
    {
     "name": "stdout",
     "output_type": "stream",
     "text": [
      "Original text:\n",
      "====================================================================================================\n",
      "Puneeth Rajkumar known as Appu was an Indian actor, philanthropist, playback singer, television presenter and producer,\n",
      " who worked in Kannada cinema. He was the youngest son of actor and matinee idol Dr. Rajkumar.\n",
      "Puneeth was nicknamed \"Power Star\" by media and fans.\n",
      "====================================================================================================\n",
      "\n",
      "After Sentence Tokenization:\n",
      " ['Puneeth Rajkumar known as Appu was an Indian actor, philanthropist, playback singer, television presenter and producer,\\n who worked in Kannada cinema.', 'He was the youngest son of actor and matinee idol Dr. Rajkumar.', 'Puneeth was nicknamed \"Power Star\" by media and fans.']\n",
      "====================================================================================================\n",
      "No.of Sentences:\t 3\n"
     ]
    }
   ],
   "source": [
    "#Sentence Tokenization\n",
    "from nltk.tokenize import sent_tokenize\n",
    "text=\"\"\"Puneeth Rajkumar known as Appu was an Indian actor, philanthropist, playback singer, television presenter and producer,\n",
    " who worked in Kannada cinema. He was the youngest son of actor and matinee idol Dr. Rajkumar.\n",
    "Puneeth was nicknamed \"Power Star\" by media and fans.\"\"\"\n",
    "print('Original text:')\n",
    "print('='*100)\n",
    "print(text)\n",
    "print('='*100)\n",
    "print()\n",
    "tokenised_sent=sent_tokenize(text)\n",
    "print('After Sentence Tokenization:\\n',tokenised_sent)\n",
    "print('='*100)\n",
    "print('No.of Sentences:\\t',len(tokenised_sent))\n"
   ]
  },
  {
   "cell_type": "code",
   "execution_count": 4,
   "metadata": {
    "colab": {
     "base_uri": "https://localhost:8080/"
    },
    "id": "VD7AXdlQrhQs",
    "outputId": "7cb1ce13-bda4-4b1b-d24c-ecbca31059dd"
   },
   "outputs": [
    {
     "name": "stdout",
     "output_type": "stream",
     "text": [
      "Original text:\n",
      "====================================================================================================\n",
      "Puneeth Rajkumar known as Appu was an Indian actor, philanthropist, playback singer, television presenter and producer,\n",
      " who worked in Kannada cinema. He was the youngest son of actor and matinee idol Dr. Rajkumar.\n",
      "Puneeth was nicknamed \"Power Star\" by media and fans.\n",
      "====================================================================================================\n",
      "\n",
      "After word Tokenization:\n",
      " ['Puneeth', 'Rajkumar', 'known', 'as', 'Appu', 'was', 'an', 'Indian', 'actor', ',', 'philanthropist', ',', 'playback', 'singer', ',', 'television', 'presenter', 'and', 'producer', ',', 'who', 'worked', 'in', 'Kannada', 'cinema', '.', 'He', 'was', 'the', 'youngest', 'son', 'of', 'actor', 'and', 'matinee', 'idol', 'Dr.', 'Rajkumar', '.', 'Puneeth', 'was', 'nicknamed', '``', 'Power', 'Star', \"''\", 'by', 'media', 'and', 'fans', '.']\n",
      "====================================================================================================\n",
      "No.of words:\t 51\n",
      "====================================================================================================\n",
      "word :  Puneeth & Length : 7\n",
      "word :  Rajkumar & Length : 8\n",
      "word :  known & Length : 5\n",
      "word :  as & Length : 2\n",
      "word :  Appu & Length : 4\n",
      "word :  was & Length : 3\n",
      "word :  an & Length : 2\n",
      "word :  Indian & Length : 6\n",
      "word :  actor & Length : 5\n",
      "word :  , & Length : 1\n",
      "word :  philanthropist & Length : 14\n",
      "word :  , & Length : 1\n",
      "word :  playback & Length : 8\n",
      "word :  singer & Length : 6\n",
      "word :  , & Length : 1\n",
      "word :  television & Length : 10\n",
      "word :  presenter & Length : 9\n",
      "word :  and & Length : 3\n",
      "word :  producer & Length : 8\n",
      "word :  , & Length : 1\n",
      "word :  who & Length : 3\n",
      "word :  worked & Length : 6\n",
      "word :  in & Length : 2\n",
      "word :  Kannada & Length : 7\n",
      "word :  cinema & Length : 6\n",
      "word :  . & Length : 1\n",
      "word :  He & Length : 2\n",
      "word :  was & Length : 3\n",
      "word :  the & Length : 3\n",
      "word :  youngest & Length : 8\n",
      "word :  son & Length : 3\n",
      "word :  of & Length : 2\n",
      "word :  actor & Length : 5\n",
      "word :  and & Length : 3\n",
      "word :  matinee & Length : 7\n",
      "word :  idol & Length : 4\n",
      "word :  Dr. & Length : 3\n",
      "word :  Rajkumar & Length : 8\n",
      "word :  . & Length : 1\n",
      "word :  Puneeth & Length : 7\n",
      "word :  was & Length : 3\n",
      "word :  nicknamed & Length : 9\n",
      "word :  `` & Length : 2\n",
      "word :  Power & Length : 5\n",
      "word :  Star & Length : 4\n",
      "word :  '' & Length : 2\n",
      "word :  by & Length : 2\n",
      "word :  media & Length : 5\n",
      "word :  and & Length : 3\n",
      "word :  fans & Length : 4\n",
      "word :  . & Length : 1\n"
     ]
    }
   ],
   "source": [
    "#Word Tokenization\n",
    "from nltk.tokenize import word_tokenize\n",
    "print('Original text:')\n",
    "print('='*100)\n",
    "print(text)\n",
    "print('='*100)\n",
    "print()\n",
    "token_word=word_tokenize(text)\n",
    "print('After word Tokenization:\\n',token_word)\n",
    "print('='*100)\n",
    "print('No.of words:\\t',len(token_word))\n",
    "print('='*100)\n",
    "for i in token_word:\n",
    "print('word : ',i,'&','Length :',len(i))"
   ]
  },
  {
   "cell_type": "code",
   "execution_count": null,
   "metadata": {},
   "outputs": [],
   "source": [
    "3. What are the differences between stemming and lemmatization in NLP? When would you \n",
    "choose one over the other?"
   ]
  },
  {
   "cell_type": "markdown",
   "metadata": {},
   "source": [
    "Stemming just removes or stems the last few characters of a word, often leading to incorrect meanings and spelling. \n",
    "Lemmatization considers the context and converts the word to its meaningful base form, which is called Lemma. Sometimes, \n",
    "the same word can have multiple different Lemmas. We should identify the Part of Speech (POS) tag for the word in that \n",
    "specific context. Here are the examples to illustrate all the differences and use cases:\n",
    "If you lemmatize the word 'Caring', it would return 'Care'. If you stem, it would return 'Car' and this is erroneous.\n",
    "If you lemmatize the word 'Stripes' in verb context, it would return 'Strip'. If you lemmatize it in noun context, \n",
    "it would return 'Stripe'. If you just stem it, it would just return 'Strip'.\n",
    "You would get same results whether you lemmatize or stem words such as walking, running, swimming... to walk, run, swim etc.\n",
    "Lemmatization is computationally expensive since it involves look-up tables and what not. If you have large dataset and \n",
    "performance is an issue, go with Stemming. Remember you can also add your own rules to Stemming. If accuracy is paramount \n",
    "and dataset isn't humongous, go with Lemmatization."
   ]
  },
  {
   "cell_type": "code",
   "execution_count": 5,
   "metadata": {
    "colab": {
     "base_uri": "https://localhost:8080/"
    },
    "id": "qmQ2yXXBrnBJ",
    "outputId": "78fffbb8-b897-4079-fb56-61999a6cbfde"
   },
   "outputs": [
    {
     "name": "stdout",
     "output_type": "stream",
     "text": [
      "<class 'nltk.probability.FreqDist'>\n",
      "<FreqDist with 39 samples and 51 outcomes>\n"
     ]
    }
   ],
   "source": [
    "from nltk.probability import FreqDist\n",
    "freq_dist=FreqDist(token_word)\n",
    "print(type(freq_dist))\n",
    "print(freq_dist)"
   ]
  },
  {
   "cell_type": "code",
   "execution_count": 6,
   "metadata": {
    "colab": {
     "base_uri": "https://localhost:8080/"
    },
    "id": "WWqMGHM2rp00",
    "outputId": "ca96f770-1adb-4ea7-e451-ec60b0925da7"
   },
   "outputs": [
    {
     "data": {
      "text/plain": [
       "[(',', 4),\n",
       " ('was', 3),\n",
       " ('and', 3),\n",
       " ('.', 3),\n",
       " ('Puneeth', 2),\n",
       " ('Rajkumar', 2),\n",
       " ('actor', 2),\n",
       " ('known', 1),\n",
       " ('as', 1),\n",
       " ('Appu', 1),\n",
       " ('an', 1),\n",
       " ('Indian', 1),\n",
       " ('philanthropist', 1),\n",
       " ('playback', 1),\n",
       " ('singer', 1),\n",
       " ('television', 1),\n",
       " ('presenter', 1),\n",
       " ('producer', 1),\n",
       " ('who', 1),\n",
       " ('worked', 1),\n",
       " ('in', 1),\n",
       " ('Kannada', 1),\n",
       " ('cinema', 1),\n",
       " ('He', 1),\n",
       " ('the', 1),\n",
       " ('youngest', 1),\n",
       " ('son', 1),\n",
       " ('of', 1),\n",
       " ('matinee', 1),\n",
       " ('idol', 1),\n",
       " ('Dr.', 1),\n",
       " ('nicknamed', 1),\n",
       " ('``', 1),\n",
       " ('Power', 1),\n",
       " ('Star', 1),\n",
       " (\"''\", 1),\n",
       " ('by', 1),\n",
       " ('media', 1),\n",
       " ('fans', 1)]"
      ]
     },
     "execution_count": 6,
     "metadata": {},
     "output_type": "execute_result"
    }
   ],
   "source": [
    "freq_dist.most_common()"
   ]
  },
  {
   "cell_type": "code",
   "execution_count": 7,
   "metadata": {
    "colab": {
     "base_uri": "https://localhost:8080/",
     "height": 532
    },
    "id": "-Dn0GBCzruj0",
    "outputId": "2fad12e7-b5aa-4fe6-90ec-8792b9aeb8f1"
   },
   "outputs": [
    {
     "data": {
      "image/png": "[encoded data removed]",
      "text/plain": [
       "<Figure size 640x480 with 1 Axes>"
      ]
     },
     "metadata": {},
     "output_type": "display_data"
    }
   ],
   "source": [
    "import matplotlib.pyplot as plt\n",
    "freq_dist.plot(27,cumulative=False)\n",
    "plt.show()"
   ]
  },
  {
   "cell_type": "code",
   "execution_count": 8,
   "metadata": {
    "colab": {
     "base_uri": "https://localhost:8080/"
    },
    "id": "P6LxEDUMrzbM",
    "outputId": "ea22e43d-e952-4366-c331-8238ffb79204"
   },
   "outputs": [
    {
     "name": "stderr",
     "output_type": "stream",
     "text": [
      "[nltk_data] Downloading package stopwords to /root/nltk_data...\n",
      "[nltk_data]   Unzipping corpora/stopwords.zip.\n"
     ]
    },
    {
     "data": {
      "text/plain": [
       "True"
      ]
     },
     "execution_count": 8,
     "metadata": {},
     "output_type": "execute_result"
    }
   ],
   "source": [
    "nltk.download('stopwords')"
   ]
  },
  {
   "cell_type": "code",
   "execution_count": 9,
   "metadata": {
    "colab": {
     "base_uri": "https://localhost:8080/"
    },
    "id": "V72gt_eUr3Yh",
    "outputId": "91e2a215-7699-45a8-ed26-d92b3300e464"
   },
   "outputs": [
    {
     "name": "stdout",
     "output_type": "stream",
     "text": [
      "Total No.of Stopwords:\t 179\n",
      "====================================================================================================\n",
      "The Stop words are:\n",
      "\n",
      "{'out', 'why', 'no', \"shan't\", 'while', 'more', \"doesn't\", \"isn't\", 'she', 'are', 'ain', 'll', 'won', 'is', 'ours', 'if', 'in', 'of', 'mightn', \"mustn't\", 'couldn', 's', 'themselves', 'not', 'down', 'than', 'whom', 'until', 'the', 'at', 'doesn', 'again', 'under', 'me', 'most', 'herself', 'all', 'weren', 'where', 'yourselves', 'having', 'isn', 'been', 'yourself', 'shan', 'didn', \"won't\", 'for', 'up', \"hasn't\", 'y', \"haven't\", 'what', \"wouldn't\", \"needn't\", \"shouldn't\", 'during', \"you've\", 'there', \"you're\", 'to', 'd', 'but', 'myself', 'own', 'wasn', 'himself', 'when', 'before', 'do', \"she's\", 'my', 'above', 'because', 'after', 'being', \"should've\", 'hers', 'so', 'mustn', 'his', 'over', 'her', 'needn', 'with', 'we', 'you', 'just', 'as', 'our', 'any', 'on', \"didn't\", 'hadn', 'once', 'am', 'few', 'same', 'and', 'don', 'doing', 'an', 'this', 'then', 'here', 'nor', 'will', 'should', 'itself', 'through', 'further', 'ma', \"that'll\", 'that', 'such', 'these', 'shouldn', \"wasn't\", 'them', 'below', 'too', 'or', 'hasn', 'they', \"you'll\", 'it', 'both', 't', 'how', 'now', 'haven', 'has', \"it's\", \"don't\", 'o', 'a', 'theirs', 'can', 'about', 'its', \"mightn't\", 'did', 'he', 'each', 'some', 'from', 'other', \"aren't\", 'be', 'those', \"hadn't\", 'into', 'by', 'ourselves', 'i', 'aren', 'wouldn', 'was', 'have', 've', 'him', 'only', 'very', 'their', 'm', 'which', 're', \"couldn't\", \"weren't\", 'had', 'between', 'who', 'off', \"you'd\", 'were', 'does', 'your', 'yours', 'against'}\n"
     ]
    }
   ],
   "source": [
    "from nltk.corpus import stopwords\n",
    "stop_words=set(stopwords.words('english'))\n",
    "print('Total No.of Stopwords:\\t',len(stop_words))\n",
    "print('='*100)\n",
    "print('The Stop words are:\\n')\n",
    "print(stop_words)\n"
   ]
  },
  {
   "cell_type": "code",
   "execution_count": 11,
   "metadata": {
    "colab": {
     "base_uri": "https://localhost:8080/"
    },
    "id": "7DaRbI89r-Do",
    "outputId": "c726fb3c-6c9c-47cc-e230-b9849dcc140a"
   },
   "outputs": [
    {
     "name": "stdout",
     "output_type": "stream",
     "text": [
      "Length of words:\t 51\n",
      "----------------------------------------------------------------------------------------------------\n",
      "Tokenized words-with stopwords:\n",
      "\n",
      "\t ['Puneeth', 'Rajkumar', 'known', 'as', 'Appu', 'was', 'an', 'Indian', 'actor', ',', 'philanthropist', ',', 'playback', 'singer', ',', 'television', 'presenter', 'and', 'producer', ',', 'who', 'worked', 'in', 'Kannada', 'cinema', '.', 'He', 'was', 'the', 'youngest', 'son', 'of', 'actor', 'and', 'matinee', 'idol', 'Dr.', 'Rajkumar', '.', 'Puneeth', 'was', 'nicknamed', '``', 'Power', 'Star', \"''\", 'by', 'media', 'and', 'fans', '.']\n",
      "====================================================================================================\n",
      "Length after Remove stopwords:\t 38\n",
      "----------------------------------------------------------------------------------------------------\n",
      "\n",
      " After Removing stopwords- words are:\n",
      "\t ['Puneeth', 'Rajkumar', 'known', 'Appu', 'Indian', 'actor', ',', 'philanthropist', ',', 'playback', 'singer', ',', 'television', 'presenter', 'producer', ',', 'worked', 'Kannada', 'cinema', '.', 'He', 'youngest', 'son', 'actor', 'matinee', 'idol', 'Dr.', 'Rajkumar', '.', 'Puneeth', 'nicknamed', '``', 'Power', 'Star', \"''\", 'media', 'fans', '.']\n"
     ]
    }
   ],
   "source": [
    "#Removing stopwords\n",
    "\n",
    "filtered_tokens=[]\n",
    "for w in token_word:\n",
    "    if w not in stop_words:\n",
    "        filtered_tokens.append(w)\n",
    "print('Length of words:\\t',len(token_word))\n",
    "print('-'*100)\n",
    "print('Tokenized words-with stopwords:\\n\\n\\t',token_word)\n",
    "print('='*100)\n",
    "print('Length after Remove stopwords:\\t',len(filtered_tokens))\n",
    "print('-'*100)\n",
    "print('\\n After Removing stopwords- words are:\\n\\t',filtered_tokens)"
   ]
  },
  {
   "cell_type": "code",
   "execution_count": 12,
   "metadata": {
    "colab": {
     "base_uri": "https://localhost:8080/"
    },
    "id": "KWwStBHPsRvp",
    "outputId": "b0454804-365f-4890-a1ba-646d563820e5"
   },
   "outputs": [
    {
     "name": "stdout",
     "output_type": "stream",
     "text": [
      "Length of words:\t 38\n",
      "----------------------------------------------------------------------------------------------------\n",
      "Filtered words:\n",
      "\n",
      "\t ['Puneeth', 'Rajkumar', 'known', 'Appu', 'Indian', 'actor', ',', 'philanthropist', ',', 'playback', 'singer', ',', 'television', 'presenter', 'producer', ',', 'worked', 'Kannada', 'cinema', '.', 'He', 'youngest', 'son', 'actor', 'matinee', 'idol', 'Dr.', 'Rajkumar', '.', 'Puneeth', 'nicknamed', '``', 'Power', 'Star', \"''\", 'media', 'fans', '.']\n",
      "====================================================================================================\n",
      "Length after Stemmer:\t 38\n",
      "----------------------------------------------------------------------------------------------------\n",
      "\n",
      " After Stemming- words are:\n",
      "\t ['puneeth', 'rajkumar', 'known', 'appu', 'indian', 'actor', ',', 'philanthropist', ',', 'playback', 'singer', ',', 'televis', 'present', 'produc', ',', 'work', 'kannada', 'cinema', '.', 'he', 'youngest', 'son', 'actor', 'matine', 'idol', 'dr.', 'rajkumar', '.', 'puneeth', 'nicknam', '``', 'power', 'star', \"''\", 'media', 'fan', '.']\n"
     ]
    }
   ],
   "source": [
    "#Stemming\n",
    "from nltk.stem import PorterStemmer\n",
    "ps=PorterStemmer()\n",
    "stemmed_words=[]\n",
    "for w in filtered_tokens:\n",
    "    stemmed_words.append(ps.stem(w))\n",
    "\n",
    "print('Length of words:\\t',len(filtered_tokens))\n",
    "print('-'*100)\n",
    "print('Filtered words:\\n\\n\\t',filtered_tokens)\n",
    "print('='*100)\n",
    "print('Length after Stemmer:\\t',len(stemmed_words))\n",
    "print('-'*100)\n",
    "print('\\n After Stemming- words are:\\n\\t',stemmed_words)\n",
    "\n"
   ]
  },
  {
   "cell_type": "code",
   "execution_count": 13,
   "metadata": {
    "colab": {
     "base_uri": "https://localhost:8080/"
    },
    "id": "Tly1-UyXsnEX",
    "outputId": "254dfb34-6a35-45de-835c-597218b217ec"
   },
   "outputs": [
    {
     "name": "stdout",
     "output_type": "stream",
     "text": [
      "['likes', ',', 'likely', ',', 'liking']\n"
     ]
    }
   ],
   "source": [
    "st='likes,likely,liking'\n",
    "st_words=word_tokenize(st)\n",
    "print(st_words)"
   ]
  },
  {
   "cell_type": "code",
   "execution_count": 14,
   "metadata": {
    "colab": {
     "base_uri": "https://localhost:8080/"
    },
    "id": "bmHvJZfDstuh",
    "outputId": "606f19f7-e0c6-4fe7-a1c4-b791f346bf6d"
   },
   "outputs": [
    {
     "name": "stdout",
     "output_type": "stream",
     "text": [
      "Length of words:\t 5\n",
      "----------------------------------------------------------------------------------------------------\n",
      "Filtered words:\n",
      "\n",
      "\t ['likes', ',', 'likely', ',', 'liking']\n",
      "====================================================================================================\n",
      "Length after Stemmer:\t 5\n",
      "----------------------------------------------------------------------------------------------------\n",
      "\n",
      " After Stemming- words are:\n",
      "\t ['like', ',', 'like', ',', 'like']\n"
     ]
    }
   ],
   "source": [
    "from nltk.stem import PorterStemmer\n",
    "ps=PorterStemmer()\n",
    "stemmed_words=[]\n",
    "for w in st_words:\n",
    "    stemmed_words.append(ps.stem(w))\n",
    "\n",
    "print('Length of words:\\t',len(st_words))\n",
    "print('-'*100)\n",
    "print('Filtered words:\\n\\n\\t',st_words)\n",
    "print('='*100)\n",
    "print('Length after Stemmer:\\t',len(stemmed_words))\n",
    "print('-'*100)\n",
    "print('\\n After Stemming- words are:\\n\\t',stemmed_words)\n"
   ]
  },
  {
   "cell_type": "code",
   "execution_count": 15,
   "metadata": {
    "colab": {
     "base_uri": "https://localhost:8080/"
    },
    "id": "rhADG9f8syt9",
    "outputId": "7973e770-5aa2-40e5-9d4d-518a22084184"
   },
   "outputs": [
    {
     "name": "stderr",
     "output_type": "stream",
     "text": [
      "[nltk_data] Downloading package wordnet to /root/nltk_data...\n"
     ]
    },
    {
     "data": {
      "text/plain": [
       "True"
      ]
     },
     "execution_count": 15,
     "metadata": {},
     "output_type": "execute_result"
    }
   ],
   "source": [
    "\n",
    "nltk.download('wordnet')\n"
   ]
  },
  {
   "cell_type": "code",
   "execution_count": 16,
   "metadata": {
    "colab": {
     "base_uri": "https://localhost:8080/"
    },
    "id": "f2uHgh79s7Xl",
    "outputId": "e170c2e5-da1e-452c-d0bc-c33dcb1f9770"
   },
   "outputs": [
    {
     "name": "stdout",
     "output_type": "stream",
     "text": [
      "Enter a sentences:\n",
      "\n",
      "\tworks changed programs retrieved studying\n",
      "====================================================================================================\n",
      "Tokens of word:\n",
      " ['works', 'changed', 'programs', 'retrieved', 'studying']\n",
      "Length: \t 5\n",
      "****************************************************************************************************\n",
      "----------------------------------------------------------------------------------------------------\n",
      "Original text:\n",
      " works changed programs retrieved studying\n",
      "====================================================================================================\n",
      "Lemmatized words:\n",
      " ['work', 'change', 'program', 'retrieve', 'study']\n"
     ]
    }
   ],
   "source": [
    "#Lemmatization\n",
    "from nltk.stem import WordNetLemmatizer\n",
    "#Initialize the wordnet lemmatizer\n",
    "lemma=WordNetLemmatizer()\n",
    "#prompt to take input string\n",
    "text=input('Enter a sentences:\\n\\n\\t')\n",
    "#split as word tokens\n",
    "words=word_tokenize(text)\n",
    "print('='*100)\n",
    "print('Tokens of word:\\n',words)\n",
    "print('Length: \\t',len(words))\n",
    "print('*'*100)\n",
    "#Apply Lemmatization to each word\n",
    "lemma_words=[lemma.lemmatize(word,pos='v') for word in words ]\n",
    "print('-'*100)\n",
    "print('Original text:\\n',text)\n",
    "print('='*100)\n",
    "print('Lemmatized words:\\n',lemma_words)\n"
   ]
  },
  {
   "cell_type": "code",
   "execution_count": null,
   "metadata": {
    "id": "fI2R7yNcx8kT"
   },
   "outputs": [],
   "source": [
    "4. Explain the concept of stop words and their role in text preprocessing. How do they impact\n",
    "NLP tasks?"
   ]
  },
  {
   "cell_type": "markdown",
   "metadata": {
    "id": "9A0cv289w3w_"
   },
   "source": [
    "Stop words are common words in a language that are often removed during the preprocessing of natural language\n",
    "text data before analysis. These words are typically high-frequency words that, while necessary for the structure of a\n",
    "language, do not contribute much to the overall meaning of a document. Examples of stop words in English include “the,”\n",
    "“and,” “is,” “of,” etc\n",
    "Role in Text NLP Tasks:\n",
    "1.Noise Reduction\n",
    "2.Efficiency:\n",
    "3.Focus on Content Words\n",
    "Impact:\n",
    "1.Improved Precision: Removing stop words can improve the precision of models. Without the interference of common words,\n",
    "algorithms can concentrate on the essential terms that carry more weight in determining the meaning of a document.\n",
    "2.Reduced Dimensionality: Stop words often contribute to the high dimensionality of text data. Removing them reduces\n",
    "thenumber of features, making the data more manageable and potentially improving the performance of models.\n",
    "3.Enhanced Interpretability: The absence of stop words can make the processed text more interpretable.\n",
    "The remaining words are likely to be more meaningful, providing clearer insights into the content."
   ]
  },
  {
   "cell_type": "code",
   "execution_count": null,
   "metadata": {
    "id": "pqvTrcFsvYg2"
   },
   "outputs": [],
   "source": [
    "5.How does the process of removing punctuation contribute to text preprocessing in NLP?\n",
    "What are its benefits?"
   ]
  },
  {
   "cell_type": "markdown",
   "metadata": {
    "id": "N8Uv_eYbxBOG"
   },
   "source": [
    "Removing punctuation in text preprocessing for NLP helps simplify the data by eliminating non-essential characters. This aids in creating\n",
    "a cleaner and more consistent input for models, as punctuation often doesnot carry significant semantic meaning and can introduce noise.\n",
    " The benefits include improved model efficiency, reduced dimensionality, and increased accuracy in tasks like sentiment analysis or text\n",
    " classification."
   ]
  },
  {
   "cell_type": "code",
   "execution_count": null,
   "metadata": {
    "id": "dKpCgdTVx0Ai"
   },
   "outputs": [],
   "source": [
    "Filter out Punctuation"
   ]
  },
  {
   "cell_type": "code",
   "execution_count": 17,
   "metadata": {
    "id": "mRWdhnT2vbqz"
   },
   "outputs": [],
   "source": [
    "import nltk\n",
    "from nltk import pos_tag"
   ]
  },
  {
   "cell_type": "code",
   "execution_count": 18,
   "metadata": {
    "colab": {
     "base_uri": "https://localhost:8080/"
    },
    "id": "QEqsUTsgvhqG",
    "outputId": "6280037b-951c-4a61-a327-adce259c65a9"
   },
   "outputs": [
    {
     "name": "stdout",
     "output_type": "stream",
     "text": [
      "Enter a sentences:\n",
      "\n",
      "\tPuneeth Rajkumar known as Appu was an Indian actor, philanthropist, playback singer, television presenter and producer,  who worked in Kannada cinema. He was the youngest son of actor and matinee idol Dr. Rajkumar. Puneeth was nicknamed \"Power Star\" by media and fans.\n",
      "====================================================================================================\n",
      "Length: \t 51\n",
      "Tokens of word:\n",
      " ['Puneeth', 'Rajkumar', 'known', 'as', 'Appu', 'was', 'an', 'Indian', 'actor', ',', 'philanthropist', ',', 'playback', 'singer', ',', 'television', 'presenter', 'and', 'producer', ',', 'who', 'worked', 'in', 'Kannada', 'cinema', '.', 'He', 'was', 'the', 'youngest', 'son', 'of', 'actor', 'and', 'matinee', 'idol', 'Dr.', 'Rajkumar', '.', 'Puneeth', 'was', 'nicknamed', '``', 'Power', 'Star', \"''\", 'by', 'media', 'and', 'fans', '.']\n",
      "****************************************************************************************************\n",
      "----------------------------------------------------------------------------------------------------\n",
      "Original text:\n",
      " Puneeth Rajkumar known as Appu was an Indian actor, philanthropist, playback singer, television presenter and producer,  who worked in Kannada cinema. He was the youngest son of actor and matinee idol Dr. Rajkumar. Puneeth was nicknamed \"Power Star\" by media and fans.\n",
      "====================================================================================================\n",
      "After Removing Punctuation:\n",
      "\n",
      "['Puneeth', 'Rajkumar', 'known', 'as', 'Appu', 'was', 'an', 'Indian', 'actor', 'philanthropist', 'playback', 'singer', 'television', 'presenter', 'and', 'producer', 'who', 'worked', 'in', 'Kannada', 'cinema', 'He', 'was', 'the', 'youngest', 'son', 'of', 'actor', 'and', 'matinee', 'idol', 'Rajkumar', 'Puneeth', 'was', 'nicknamed', 'Power', 'Star', 'by', 'media', 'and', 'fans'] 41\n"
     ]
    }
   ],
   "source": [
    "#prompt to take input string\n",
    "text=input('Enter a sentences:\\n\\n\\t')\n",
    "#split as word tokens\n",
    "tokens=word_tokenize(text)\n",
    "print('='*100)\n",
    "print('Length: \\t',len(tokens))\n",
    "print('Tokens of word:\\n',tokens)\n",
    "print('*'*100)\n",
    "#Remove all tokens that are not alphabetic\n",
    "words=[word for word in tokens if word.isalpha()]\n",
    "print('-'*100)\n",
    "print('Original text:\\n',text)\n",
    "print('='*100)\n",
    "print('After Removing Punctuation:\\n')\n",
    "print(words,len(words))\n"
   ]
  },
  {
   "cell_type": "code",
   "execution_count": null,
   "metadata": {
    "id": "K07xmB2jw-kr"
   },
   "outputs": [],
   "source": [
    "6. Discuss the importance of lowercase conversion in text preprocessing. Why is it a\n",
    "common step in NLP tasks?"
   ]
  },
  {
   "cell_type": "markdown",
   "metadata": {
    "id": "k_S9-i8HyHiP"
   },
   "source": [
    "Lowercase conversion is a common step in text preprocessing for Natural Language Processing (NLP) tasks.\n",
    "It is a simple yet effective form of text preprocessing that can help improve the consistency of expected output and reduce the complexity of the problem at hand.\n",
    "\n",
    "The importance of lowercase conversion lies in the fact that it helps to maintain the consistency flow during NLP tasks and text mining .\n",
    "It is applicable to most text mining and NLP problems and can help in cases where the dataset is not very large .\n",
    "Lowercasing ALL text data is one of the simplest and most effective forms of text preprocessing .\n",
    "In conclusion, lowercase conversion is an important step in text preprocessing for NLP tasks.\n",
    "It helps to maintain consistency and reduce complexity, making it easier to analyze and extract meaningful information from text data."
   ]
  },
  {
   "cell_type": "code",
   "execution_count": null,
   "metadata": {
    "id": "IvBEatw3zSvr"
   },
   "outputs": [],
   "source": [
    "7. Explain the term \"vectorization\" concerning text data. How does techniques like\n",
    "CountVectorizer contribute to text preprocessing in NLP?"
   ]
  },
  {
   "cell_type": "markdown",
   "metadata": {
    "id": "oufphUtB0lnf"
   },
   "source": [
    "Word Embeddings or Word vectorization is a methodology in NLP to map words or phrases from vocabulary to a corresponding vector of real\n",
    "numbers which used to find word predictions, word similarities/semantics. The process of converting words into numbers are called\n",
    "Vectorization. Techniques like CountVectorizer and TfidfVectorizer contribute to text preprocessing in NLP through the following:\n",
    "1.CountVectorizer 2.TfidfVectorizer Contributions to Text Preprocessing: •Numerical Representation: These vectorization techniques\n",
    "transform the text into numerical representations, enabling the application of mathematical models. •Feature Extraction: They convert\n",
    "words into features, allowing models to operate on a structured set of inputs. •Dimensionality Reduction: Vectorization can help\n",
    "manage the high dimensionality of text data, making it suitable for machine learning algorithms. In summary, vectorization techniques\n",
    "like CountVectorizer and TfidfVectorizer play a pivotal role in text preprocessing for NLP, converting raw text data into a format\n",
    "suitable for machine learning models, allowing efficient analysis and extraction of meaningful patterns."
   ]
  },
  {
   "cell_type": "code",
   "execution_count": 20,
   "metadata": {
    "colab": {
     "base_uri": "https://localhost:8080/"
    },
    "id": "dTF4Bw7GzXt2",
    "outputId": "3789b90c-d9da-4c0f-be14-7450cf6376fb"
   },
   "outputs": [
    {
     "name": "stdout",
     "output_type": "stream",
     "text": [
      "Text paragraph please:\n",
      "\n",
      "\tIn this method we’ll use loops to iterate through and form the series up to the integer input N as the range. To print the series up to the Nth term we start a loop from 2 to the Nth term as 0 and 1 are the seed values for forming the series. \n",
      "Sentences as tokens:\n",
      "In this method we’ll use loops to iterate through and form the series up to the integer input N as the range.\n",
      "To print the series up to the Nth term we start a loop from 2 to the Nth term as 0 and 1 are the seed values for forming the series.\n",
      "Feature names:\n",
      " ['and' 'are' 'as' 'for' 'form' 'forming' 'from' 'in' 'input' 'integer'\n",
      " 'iterate' 'll' 'loop' 'loops' 'method' 'nth' 'print' 'range' 'seed'\n",
      " 'series' 'start' 'term' 'the' 'this' 'through' 'to' 'up' 'use' 'values'\n",
      " 'we']\n",
      "====================================================================================================\n",
      "Token Counts Matrix:\n",
      "[[1 0 1 0 1 0 0 1 1 1 1 1 0 1 1 0 0 1 0 1 0 0 3 1 1 2 1 1 0 1]\n",
      " [1 1 1 1 0 1 1 0 0 0 0 0 1 0 0 2 1 0 1 2 1 2 5 0 0 3 1 0 1 1]]\n"
     ]
    }
   ],
   "source": [
    "import numpy as np\n",
    "from sklearn.feature_extraction.text import CountVectorizer\n",
    "documents=input('Text paragraph please:\\n\\n\\t')\n",
    "sent_tokens=sent_tokenize(documents)\n",
    "print('Sentences as tokens:')\n",
    "for sent in sent_tokens:\n",
    "    print(sent)\n",
    "\n",
    "#Initialize countvectorizer\n",
    "vector=CountVectorizer()\n",
    "#Fit and transform the documents\n",
    "x=vector.fit_transform(sent_tokens)\n",
    "#get the feature names (words)\n",
    "feature_names=vector.get_feature_names_out()\n",
    "#Display the matrix of token counts\n",
    "print('Feature names:\\n',feature_names)\n",
    "print('='*100)\n",
    "print('Token Counts Matrix:')\n",
    "print(x.toarray())"
   ]
  },
  {
   "cell_type": "code",
   "execution_count": null,
   "metadata": {
    "id": "vch6yTzF2WZ8"
   },
   "outputs": [],
   "source": [
    "8. Describe the concept of normalization in NLP. Provide examples of normalization\n",
    "techniques used in text preprocessing.\n"
   ]
  },
  {
   "cell_type": "markdown",
   "metadata": {
    "id": "CCVrcFWz2bD7"
   },
   "source": [
    "1. Lowercasing:\n",
    "   Example: Converting all letters to lowercase. \"Hello\" becomes \"hello.\"\n",
    "\n",
    "2. Tokenization:\n",
    "   Example: Breaking text into individual words or tokens. \"Natural language processing\" becomes [\"Natural\", \"language\", \"processing\"].\n",
    "\n",
    "3. Stemming:\n",
    "   Example: Reducing words to their root or base form. \"Running\" becomes \"run.\"\n",
    "\n",
    "4. Lemmatization:\n",
    "   Example: Similar to stemming but considers the context to bring words to their base form. \"Better\" becomes \"good.\"\n",
    "\n",
    "5. Removing Stop Words:\n",
    "   Example: Eliminating common words like \"the,\" \"and,\" or \"is\" that don't contribute much to the meaning.\n",
    "\n",
    "6. Handling Contractions:\n",
    "   Example: Expanding contractions like \"can't\" to \"cannot.\"\n",
    "\n",
    "7. Removing Special Characters and Numbers:\n",
    "   Example: Eliminating punctuation, symbols, and numerical characters.\n",
    "\n",
    "8. Handling Acronyms and Abbreviations:\n",
    "   Example: Expanding or converting acronyms like \"NLP\" to \"Natural Language Processing.\""
   ]
  },
  {
   "cell_type": "code",
   "execution_count": null,
   "metadata": {},
   "outputs": [],
   "source": []
  }
 ],
 "metadata": {
  "colab": {
   "provenance": []
  },
  "kernelspec": {
   "display_name": "Python 3 (ipykernel)",
   "language": "python",
   "name": "python3"
  },
  "language_info": {
   "codemirror_mode": {
    "name": "ipython",
    "version": 3
   },
   "file_extension": ".py",
   "mimetype": "text/x-python",
   "name": "python",
   "nbconvert_exporter": "python",
   "pygments_lexer": "ipython3",
   "version": "3.11.4"
  }
 },
 "nbformat": 4,
 "nbformat_minor": 1
}
