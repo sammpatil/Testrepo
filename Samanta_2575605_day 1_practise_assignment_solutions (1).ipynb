{
 "cells": [
  {
   "cell_type": "markdown",
   "id": "c6b41eaf",
   "metadata": {},
   "source": [
    "1. Manipulate using a list.\n",
    "i) To add new elements to the end of the list\n",
    "ii) To reverse elements in the list\n",
    "iii) To dislpay the same list of elements multiple times\n",
    "iv) To concatenate two list\n",
    "v) To sort the elements in the list in assending order"
   ]
  },
  {
   "cell_type": "code",
   "execution_count": null,
   "id": "0979b0b9",
   "metadata": {},
   "outputs": [],
   "source": [
    "lst=[2, 4, 6, 8, 'abc']\n",
    "lst \n"
   ]
  },
  {
   "cell_type": "code",
   "execution_count": 62,
   "id": "50c9f062",
   "metadata": {},
   "outputs": [
    {
     "name": "stdout",
     "output_type": "stream",
     "text": [
      "After added - lists elements are:\n",
      " [65, 45, 36, 33, 10, 2, 10, 11, 12, 13]\n"
     ]
    },
    {
     "data": {
      "text/plain": [
       "[65, 45, 36, 33, 10, 2, 10, 11, 12, 13]"
      ]
     },
     "execution_count": 62,
     "metadata": {},
     "output_type": "execute_result"
    }
   ],
   "source": [
    "#i) To add new elements to the end of the list\n",
    "lst.append(10)  #append is used to add single elements at the end of the list\n",
    "lst\n",
    "\n",
    "#to add multiple elements-extent\n",
    "\n",
    "lst.extend([11,12,13])\n",
    "print('After added - lists elements are:\\n', lst)\n",
    "lst"
   ]
  },
  {
   "cell_type": "code",
   "execution_count": 57,
   "id": "9cd01fa3",
   "metadata": {},
   "outputs": [
    {
     "name": "stdout",
     "output_type": "stream",
     "text": [
      "After added - lists elements are:\n",
      " [2, 10, 33, 36, 45, 65]\n"
     ]
    },
    {
     "data": {
      "text/plain": [
       "[2, 10, 33, 36, 45, 65]"
      ]
     },
     "execution_count": 57,
     "metadata": {},
     "output_type": "execute_result"
    }
   ],
   "source": [
    "print('After added - lists elements are:\\n', lst)\n",
    "lst"
   ]
  },
  {
   "cell_type": "code",
   "execution_count": 58,
   "id": "85dcb7aa",
   "metadata": {},
   "outputs": [
    {
     "data": {
      "text/plain": [
       "[65, 45, 36, 33, 10, 2]"
      ]
     },
     "execution_count": 58,
     "metadata": {},
     "output_type": "execute_result"
    }
   ],
   "source": [
    "#ii) To reverse elements in the list\n",
    "\n",
    "lst.reverse()\n",
    "lst\n",
    "lst"
   ]
  },
  {
   "cell_type": "code",
   "execution_count": 73,
   "id": "8380f76e",
   "metadata": {},
   "outputs": [
    {
     "data": {
      "text/plain": [
       "[7, 9, 11, 7, 9, 11, 7, 9, 11]"
      ]
     },
     "execution_count": 73,
     "metadata": {},
     "output_type": "execute_result"
    }
   ],
   "source": [
    "#iii) To dislpay the same list of elements multiple times\n",
    "\n",
    "lst=[7, 9, 11]\n",
    "lst*3"
   ]
  },
  {
   "cell_type": "code",
   "execution_count": 83,
   "id": "927d2a7f",
   "metadata": {},
   "outputs": [
    {
     "data": {
      "text/plain": [
       "[1, 2, 3, 5, 6, 7]"
      ]
     },
     "execution_count": 83,
     "metadata": {},
     "output_type": "execute_result"
    }
   ],
   "source": [
    "#iv) To concatenate two list\n",
    "\n",
    "lst1= [1, 2, 3]\n",
    "lst2= [5, 6, 7]\n",
    "res= lst1 + lst2\n",
    "res\n"
   ]
  },
  {
   "cell_type": "code",
   "execution_count": 65,
   "id": "e969ee2b",
   "metadata": {},
   "outputs": [
    {
     "data": {
      "text/plain": [
       "[36, 33, 45, 65, 2, 10]"
      ]
     },
     "execution_count": 65,
     "metadata": {},
     "output_type": "execute_result"
    }
   ],
   "source": [
    "#v) To sort the elements in the list in assending order\n",
    "\n",
    "lst=[36, 33, 45, 65, 2, 10]\n",
    "lst"
   ]
  },
  {
   "cell_type": "code",
   "execution_count": 36,
   "id": "5f7c99f2",
   "metadata": {},
   "outputs": [
    {
     "data": {
      "text/plain": [
       "[2, 10, 33, 36, 45, 65]"
      ]
     },
     "execution_count": 36,
     "metadata": {},
     "output_type": "execute_result"
    }
   ],
   "source": [
    "lst.sort()\n",
    "lst"
   ]
  },
  {
   "cell_type": "markdown",
   "id": "d842e3f8",
   "metadata": {},
   "source": [
    "2. Write a python program to do in the tuples\n",
    "i) Manipulate using tuples.\n",
    "ii) To add new elements to the end of the tuples\n",
    "iii) To reverse elements in the list\n",
    "iv) To display the elements of the same tuple multiple times.\n",
    "v) To concatenate two tuples\n",
    "vi) To sort the elements in the tuple in ascending order"
   ]
  },
  {
   "cell_type": "code",
   "execution_count": 39,
   "id": "4246aa68",
   "metadata": {},
   "outputs": [],
   "source": [
    "tup=(12, 33.23, 'John')"
   ]
  },
  {
   "cell_type": "code",
   "execution_count": 41,
   "id": "25eafb4e",
   "metadata": {},
   "outputs": [
    {
     "data": {
      "text/plain": [
       "(12, 33.23, 'John')"
      ]
     },
     "execution_count": 41,
     "metadata": {},
     "output_type": "execute_result"
    }
   ],
   "source": [
    "#i) Manipulate using tuples\n",
    "tup"
   ]
  },
  {
   "cell_type": "code",
   "execution_count": 51,
   "id": "f9a555eb",
   "metadata": {},
   "outputs": [],
   "source": [
    "#ii) To add new elements to the end of the tuples\n",
    "\n",
    "#we cannot add a new element to the tuple because tuple is immutable "
   ]
  },
  {
   "cell_type": "code",
   "execution_count": 70,
   "id": "aa411543",
   "metadata": {},
   "outputs": [
    {
     "name": "stdout",
     "output_type": "stream",
     "text": [
      "(4, 3, 2, 1)\n"
     ]
    },
    {
     "data": {
      "text/plain": [
       "(4, 3, 2, 1)"
      ]
     },
     "execution_count": 70,
     "metadata": {},
     "output_type": "execute_result"
    }
   ],
   "source": [
    "#iii) To reverse elements in the list\n",
    "\n",
    "tup=(1, 2, 3, 4)\n",
    "reversed_tup=tup[::-1]\n",
    "print(reversed_tup)\n",
    "reversed_tup"
   ]
  },
  {
   "cell_type": "code",
   "execution_count": 74,
   "id": "222e2bb7",
   "metadata": {},
   "outputs": [
    {
     "data": {
      "text/plain": [
       "(3, 5, 7, 3, 5, 7, 3, 5, 7)"
      ]
     },
     "execution_count": 74,
     "metadata": {},
     "output_type": "execute_result"
    }
   ],
   "source": [
    "#iv) To display the elements of the same tuple multiple times.\n",
    "\n",
    "tup=(3, 5, 7)\n",
    "tup*3"
   ]
  },
  {
   "cell_type": "code",
   "execution_count": 80,
   "id": "1be7a07b",
   "metadata": {},
   "outputs": [
    {
     "data": {
      "text/plain": [
       "(15, 64, 34, 1, 7, 9, 12)"
      ]
     },
     "execution_count": 80,
     "metadata": {},
     "output_type": "execute_result"
    }
   ],
   "source": [
    "#v) To concatenate two tuples\n",
    "\n",
    "tup1=(15, 64, 34)\n",
    "tup2=(1, 7, 9, 12)\n",
    "res= tup1 + tup2\n",
    "res\n"
   ]
  },
  {
   "cell_type": "code",
   "execution_count": 87,
   "id": "747c2101",
   "metadata": {},
   "outputs": [],
   "source": [
    "#vi) To sort the elements in the tuple in ascending order\n",
    "\n",
    "#we cannot sort the elementsin the tuple in ascending order because tuple is immutable "
   ]
  },
  {
   "cell_type": "markdown",
   "id": "119ea78c",
   "metadata": {},
   "source": [
    "3. Write a python program to implement the following using list\n",
    "i) Create a list with integers(minimum 10 numbers)\n",
    "ii) How to display the last number in the list\n",
    "iii) Command for displaying the values from the list[0:4]\n",
    "iv) Command for displaying the values from the list[2:]\n",
    "v) Command for displaying the values from the list[:6]\n"
   ]
  },
  {
   "cell_type": "code",
   "execution_count": 90,
   "id": "9e6f30af",
   "metadata": {},
   "outputs": [
    {
     "data": {
      "text/plain": [
       "[1, 3, 5, 7, 9, 11, 13, 15, 17, 19]"
      ]
     },
     "execution_count": 90,
     "metadata": {},
     "output_type": "execute_result"
    }
   ],
   "source": [
    "#i) Create a list with integers(minimum 10 numbers)\n",
    "\n",
    "list=[1, 3, 5, 7, 9, 11, 13, 15, 17, 19]\n",
    "list"
   ]
  },
  {
   "cell_type": "code",
   "execution_count": 91,
   "id": "87472feb",
   "metadata": {},
   "outputs": [
    {
     "data": {
      "text/plain": [
       "19"
      ]
     },
     "execution_count": 91,
     "metadata": {},
     "output_type": "execute_result"
    }
   ],
   "source": [
    "#ii) How to display the last number in the list\n",
    "\n",
    "list[9]"
   ]
  },
  {
   "cell_type": "code",
   "execution_count": 92,
   "id": "73d9352b",
   "metadata": {},
   "outputs": [
    {
     "data": {
      "text/plain": [
       "[1, 3, 5, 7]"
      ]
     },
     "execution_count": 92,
     "metadata": {},
     "output_type": "execute_result"
    }
   ],
   "source": [
    "#iii) Command for displaying the values from the list[0:4]\n",
    "\n",
    "list[0:4]"
   ]
  },
  {
   "cell_type": "code",
   "execution_count": 93,
   "id": "28ce735d",
   "metadata": {},
   "outputs": [
    {
     "data": {
      "text/plain": [
       "[5, 7, 9, 11, 13, 15, 17, 19]"
      ]
     },
     "execution_count": 93,
     "metadata": {},
     "output_type": "execute_result"
    }
   ],
   "source": [
    "#iv) Command for displaying the values from the list[2:]\n",
    "\n",
    "list[2:]"
   ]
  },
  {
   "cell_type": "code",
   "execution_count": 94,
   "id": "c8155103",
   "metadata": {},
   "outputs": [
    {
     "data": {
      "text/plain": [
       "[1, 3, 5, 7, 9, 11]"
      ]
     },
     "execution_count": 94,
     "metadata": {},
     "output_type": "execute_result"
    }
   ],
   "source": [
    "#v) Command for displaying the values from the list[:6]\n",
    "\n",
    "list[:6]"
   ]
  },
  {
   "cell_type": "markdown",
   "id": "f549c038",
   "metadata": {},
   "source": [
    "4. Write a Python program: tuple1 = (10, 50, 20, 40, 30)\n",
    "i) To display the elements 10 to 50 from tuple1\n",
    "ii) To dispaly the length of a tuple1\n",
    "iii) To find the minimum element from tuple1\n",
    "iv) To add all elements in the tuple1\n",
    "v) To display the same tuple1 multiple times"
   ]
  },
  {
   "cell_type": "code",
   "execution_count": 96,
   "id": "aedb8a8d",
   "metadata": {},
   "outputs": [
    {
     "data": {
      "text/plain": [
       "(10, 50, 20, 40, 30)"
      ]
     },
     "execution_count": 96,
     "metadata": {},
     "output_type": "execute_result"
    }
   ],
   "source": [
    "tuple1 = (10, 50, 20, 40, 30)\n",
    "tuple1"
   ]
  },
  {
   "cell_type": "code",
   "execution_count": 113,
   "id": "99ea8e7b",
   "metadata": {},
   "outputs": [
    {
     "data": {
      "text/plain": [
       "(10, 50)"
      ]
     },
     "execution_count": 113,
     "metadata": {},
     "output_type": "execute_result"
    }
   ],
   "source": [
    "#i) To display the elements 10 to 50 from tuple1\n",
    "\n",
    "tuple1[0:2]"
   ]
  },
  {
   "cell_type": "code",
   "execution_count": 114,
   "id": "9214bc7f",
   "metadata": {},
   "outputs": [
    {
     "data": {
      "text/plain": [
       "5"
      ]
     },
     "execution_count": 114,
     "metadata": {},
     "output_type": "execute_result"
    }
   ],
   "source": [
    "#ii) To dispaly the length of a tuple1\n",
    "\n",
    "len(tuple1)"
   ]
  },
  {
   "cell_type": "code",
   "execution_count": 119,
   "id": "a8ad1f16",
   "metadata": {},
   "outputs": [
    {
     "data": {
      "text/plain": [
       "10"
      ]
     },
     "execution_count": 119,
     "metadata": {},
     "output_type": "execute_result"
    }
   ],
   "source": [
    "#iii) To find the minimum element from tuple1\n",
    "\n",
    "min(tuple1)\n"
   ]
  },
  {
   "cell_type": "code",
   "execution_count": 121,
   "id": "8e2ad4e1",
   "metadata": {},
   "outputs": [
    {
     "data": {
      "text/plain": [
       "150"
      ]
     },
     "execution_count": 121,
     "metadata": {},
     "output_type": "execute_result"
    }
   ],
   "source": [
    "#iv) To add all elements in the tuple1\n",
    "\n",
    "sum(tuple1)"
   ]
  },
  {
   "cell_type": "code",
   "execution_count": 122,
   "id": "1803192b",
   "metadata": {},
   "outputs": [
    {
     "data": {
      "text/plain": [
       "(10, 50, 20, 40, 30, 10, 50, 20, 40, 30, 10, 50, 20, 40, 30)"
      ]
     },
     "execution_count": 122,
     "metadata": {},
     "output_type": "execute_result"
    }
   ],
   "source": [
    "#v) To display the same tuple1 multiple times\n",
    "\n",
    "tuple1*3"
   ]
  },
  {
   "cell_type": "markdown",
   "id": "7467c3ff",
   "metadata": {},
   "source": [
    "5. Write a python program\n",
    "i) To calculate the length of a string\n",
    "ii) To reverse words in a string\n",
    "iii) To display the same string multiplate times\n",
    "iv) To concatenate two strings\n",
    "v) Str1=\"South India\", using string slicing to display \"India\""
   ]
  },
  {
   "cell_type": "code",
   "execution_count": 1,
   "id": "c652916f",
   "metadata": {},
   "outputs": [
    {
     "data": {
      "text/plain": [
       "'South India'"
      ]
     },
     "execution_count": 1,
     "metadata": {},
     "output_type": "execute_result"
    }
   ],
   "source": [
    "Str1=\"South India\"\n",
    "Str1"
   ]
  },
  {
   "cell_type": "code",
   "execution_count": 124,
   "id": "4b704cb2",
   "metadata": {},
   "outputs": [
    {
     "data": {
      "text/plain": [
       "11"
      ]
     },
     "execution_count": 124,
     "metadata": {},
     "output_type": "execute_result"
    }
   ],
   "source": [
    "#i) To calculate the length of a string\n",
    "\n",
    "len(Str1)"
   ]
  },
  {
   "cell_type": "code",
   "execution_count": 5,
   "id": "27404174",
   "metadata": {},
   "outputs": [
    {
     "name": "stdout",
     "output_type": "stream",
     "text": [
      "aidnI htuoS\n"
     ]
    },
    {
     "data": {
      "text/plain": [
       "'aidnI htuoS'"
      ]
     },
     "execution_count": 5,
     "metadata": {},
     "output_type": "execute_result"
    }
   ],
   "source": [
    "#ii) To reverse words in a string\n",
    "\n",
    "Str1=\"South India\"\n",
    "reversed_Str1=Str1[::-1]\n",
    "print(reversed_Str1)\n",
    "reversed_Str1\n"
   ]
  },
  {
   "cell_type": "code",
   "execution_count": 8,
   "id": "02e4037d",
   "metadata": {},
   "outputs": [
    {
     "data": {
      "text/plain": [
       "'South IndiaSouth IndiaSouth IndiaSouth IndiaSouth India'"
      ]
     },
     "execution_count": 8,
     "metadata": {},
     "output_type": "execute_result"
    }
   ],
   "source": [
    "#iii) To display the same string multiplate times\n",
    "\n",
    "Str1*5"
   ]
  },
  {
   "cell_type": "code",
   "execution_count": 10,
   "id": "dc3b1cc6",
   "metadata": {},
   "outputs": [
    {
     "data": {
      "text/plain": [
       "'South IndiaIndia'"
      ]
     },
     "execution_count": 10,
     "metadata": {},
     "output_type": "execute_result"
    }
   ],
   "source": [
    "#iv) To concatenate two strings\n",
    "\n",
    "Str1=\"South India\"\n",
    "Str2=\"India\"\n",
    "res = Str1 + Str2\n",
    "res"
   ]
  },
  {
   "cell_type": "code",
   "execution_count": 12,
   "id": "0d4a68f0",
   "metadata": {},
   "outputs": [
    {
     "data": {
      "text/plain": [
       "'India'"
      ]
     },
     "execution_count": 12,
     "metadata": {},
     "output_type": "execute_result"
    }
   ],
   "source": [
    "#v) Str1=\"South India\", using string slicing to display \"India\"\n",
    "\n",
    "Str1=\"South India\"\n",
    "Str1[6:]"
   ]
  },
  {
   "cell_type": "markdown",
   "id": "24e4d002",
   "metadata": {},
   "source": [
    "6. Perform the following :\n",
    "i) Creating the Directory\n",
    "ii) Accessing values and keys in the directory\n",
    "iii) Updating the directory using a function\n",
    "iv) Clear and delete the directory values"
   ]
  },
  {
   "cell_type": "code",
   "execution_count": 13,
   "id": "5d7b3218",
   "metadata": {},
   "outputs": [],
   "source": [
    "#i) Creating the Directory\n",
    "\n",
    "student={'f_name':'Rahul','l_name':'Kulkarni','class':'8','city':'Mudhol'}\n"
   ]
  },
  {
   "cell_type": "code",
   "execution_count": 15,
   "id": "24399d75",
   "metadata": {},
   "outputs": [
    {
     "data": {
      "text/plain": [
       "{'f_name': 'Rahul', 'l_name': 'Kulkarni', 'class': '8', 'city': 'Mudhol'}"
      ]
     },
     "execution_count": 15,
     "metadata": {},
     "output_type": "execute_result"
    }
   ],
   "source": [
    "student"
   ]
  },
  {
   "cell_type": "code",
   "execution_count": 18,
   "id": "1fabbcea",
   "metadata": {},
   "outputs": [
    {
     "data": {
      "text/plain": [
       "dict_values(['Rahul', 'Kulkarni', '8', 'Mudhol'])"
      ]
     },
     "execution_count": 18,
     "metadata": {},
     "output_type": "execute_result"
    }
   ],
   "source": [
    "#ii) Accessing values and keys in the directory\n",
    "\n",
    "student.values()"
   ]
  },
  {
   "cell_type": "code",
   "execution_count": 19,
   "id": "5f11446d",
   "metadata": {},
   "outputs": [
    {
     "data": {
      "text/plain": [
       "dict_keys(['f_name', 'l_name', 'class', 'city'])"
      ]
     },
     "execution_count": 19,
     "metadata": {},
     "output_type": "execute_result"
    }
   ],
   "source": [
    "student.keys()"
   ]
  },
  {
   "cell_type": "code",
   "execution_count": 21,
   "id": "3d6612fd",
   "metadata": {},
   "outputs": [
    {
     "data": {
      "text/plain": [
       "{'f_name': 'Rahul', 'l_name': 'Kulkarni', 'class': 7, 'city': 'Mudhol'}"
      ]
     },
     "execution_count": 21,
     "metadata": {},
     "output_type": "execute_result"
    }
   ],
   "source": [
    "#iii) Updating the directory using a function\n",
    "\n",
    "student.update({'class': 7})\n",
    "student"
   ]
  },
  {
   "cell_type": "code",
   "execution_count": 34,
   "id": "06e82e5b",
   "metadata": {},
   "outputs": [
    {
     "data": {
      "text/plain": [
       "'Mudhol'"
      ]
     },
     "execution_count": 34,
     "metadata": {},
     "output_type": "execute_result"
    }
   ],
   "source": [
    "#iv) Clear and delete the directory values\n",
    "\n",
    "student.pop('city')\n"
   ]
  },
  {
   "cell_type": "markdown",
   "id": "a6ea955d",
   "metadata": {},
   "source": [
    "7. Python program to insert a number to any position in the list"
   ]
  },
  {
   "cell_type": "code",
   "execution_count": 37,
   "id": "e7bccdf8",
   "metadata": {},
   "outputs": [
    {
     "data": {
      "text/plain": [
       "[2, 4, 6, 8, 10]"
      ]
     },
     "execution_count": 37,
     "metadata": {},
     "output_type": "execute_result"
    }
   ],
   "source": [
    "list=[2, 4 , 6, 8, 10]\n",
    "list"
   ]
  },
  {
   "cell_type": "code",
   "execution_count": 42,
   "id": "3e1da163",
   "metadata": {},
   "outputs": [
    {
     "data": {
      "text/plain": [
       "[2, 4, 5, 5, 6, 5, 8, 10, 3, 3]"
      ]
     },
     "execution_count": 42,
     "metadata": {},
     "output_type": "execute_result"
    }
   ],
   "source": [
    "list.insert(2, 5)\n",
    "list"
   ]
  },
  {
   "cell_type": "markdown",
   "id": "4225ad5d",
   "metadata": {},
   "source": [
    "8. Python program to delete an element from a list by index"
   ]
  },
  {
   "cell_type": "code",
   "execution_count": 43,
   "id": "110b6836",
   "metadata": {},
   "outputs": [],
   "source": [
    "list=[1, 2, 3, 4, 5]"
   ]
  },
  {
   "cell_type": "code",
   "execution_count": 44,
   "id": "3ec3bd32",
   "metadata": {},
   "outputs": [
    {
     "data": {
      "text/plain": [
       "[1, 2, 3, 4, 5]"
      ]
     },
     "execution_count": 44,
     "metadata": {},
     "output_type": "execute_result"
    }
   ],
   "source": [
    "list"
   ]
  },
  {
   "cell_type": "code",
   "execution_count": 45,
   "id": "74443f6c",
   "metadata": {},
   "outputs": [
    {
     "data": {
      "text/plain": [
       "3"
      ]
     },
     "execution_count": 45,
     "metadata": {},
     "output_type": "execute_result"
    }
   ],
   "source": [
    "list.pop(2)"
   ]
  },
  {
   "cell_type": "code",
   "execution_count": 46,
   "id": "7379e7e1",
   "metadata": {},
   "outputs": [
    {
     "data": {
      "text/plain": [
       "[1, 2, 4, 5]"
      ]
     },
     "execution_count": 46,
     "metadata": {},
     "output_type": "execute_result"
    }
   ],
   "source": [
    "list"
   ]
  },
  {
   "cell_type": "markdown",
   "id": "b72bb16d",
   "metadata": {},
   "source": [
    "9. Write a program to display a number from 1 to 100"
   ]
  },
  {
   "cell_type": "code",
   "execution_count": 48,
   "id": "ce742b22",
   "metadata": {},
   "outputs": [
    {
     "name": "stdout",
     "output_type": "stream",
     "text": [
      "1 2 3 4 5 6 7 8 9 10 11 12 13 14 15 16 17 18 19 20 21 22 23 24 25 26 27 28 29 30 31 32 33 34 35 36 37 38 39 40 41 42 43 44 45 46 47 48 49 50 51 52 53 54 55 56 57 58 59 60 61 62 63 64 65 66 67 68 69 70 71 72 73 74 75 76 77 78 79 80 81 82 83 84 85 86 87 88 89 90 91 92 93 94 95 96 97 98 99 100 "
     ]
    }
   ],
   "source": [
    "for i in range(1,101):\n",
    "    print(i,end=\" \")"
   ]
  },
  {
   "cell_type": "markdown",
   "id": "63ddcc93",
   "metadata": {},
   "source": [
    "10. Write a Python program to find the sum of all items in a tuble"
   ]
  },
  {
   "cell_type": "code",
   "execution_count": 49,
   "id": "1acbacfa",
   "metadata": {},
   "outputs": [],
   "source": [
    "tup=(4,5,6,7,8)"
   ]
  },
  {
   "cell_type": "code",
   "execution_count": 50,
   "id": "161af129",
   "metadata": {},
   "outputs": [
    {
     "data": {
      "text/plain": [
       "(4, 5, 6, 7, 8)"
      ]
     },
     "execution_count": 50,
     "metadata": {},
     "output_type": "execute_result"
    }
   ],
   "source": [
    "tup"
   ]
  },
  {
   "cell_type": "code",
   "execution_count": 52,
   "id": "8fe1b986",
   "metadata": {},
   "outputs": [
    {
     "name": "stdout",
     "output_type": "stream",
     "text": [
      "The sum of tuple elements is30.0\n"
     ]
    }
   ],
   "source": [
    "import math \n",
    "r=math.fsum(tup)\n",
    "print(\"The sum of tuple elements is\" + str(r))"
   ]
  },
  {
   "cell_type": "markdown",
   "id": "3a4e0c88",
   "metadata": {},
   "source": [
    "11.Create a directory containing three lambda function square,cube and square root \n",
    "i) Eg dict = {'Square':function for squaring,'cube':function for cube,'Squareroot':function for square root} \n",
    "ii) Pass the values (input from the user) to the functions in the directory respectively \n",
    "iii) Then add the outputs of each function and print it"
   ]
  },
  {
   "cell_type": "code",
   "execution_count": 28,
   "id": "c8af34e4",
   "metadata": {},
   "outputs": [
    {
     "name": "stdout",
     "output_type": "stream",
     "text": [
      "Enter a number: 4\n",
      "Square: 16.0\n",
      "Cube: 64.0\n",
      "Square Root: 2.0\n",
      "Sum of results: 82.0\n"
     ]
    }
   ],
   "source": [
    "square = lambda x: x**2\n",
    "cube = lambda x: x**3\n",
    "square_root = lambda x: x**0.5\n",
    "\n",
    "num = float(input(\"Enter a number: \"))\n",
    "\n",
    "print(f'Square: {square(num)}')\n",
    "print(f'Cube: {cube(num)}')\n",
    "print(f'Square Root: {square_root(num)}')\n",
    "\n",
    "result = square(num) + cube(num) + square_root(num)\n",
    "print(f'Sum of results: {result}')"
   ]
  },
  {
   "cell_type": "markdown",
   "id": "50af03ba",
   "metadata": {},
   "source": [
    "12. A list of words is given. Find the words from the list that have their second character in uppercase.\n",
    "ls=['hello','Dear','hOw','ARe','You']"
   ]
  },
  {
   "cell_type": "code",
   "execution_count": 70,
   "id": "08fe9d92",
   "metadata": {},
   "outputs": [
    {
     "name": "stdout",
     "output_type": "stream",
     "text": [
      "['hOw', 'ARe']\n"
     ]
    }
   ],
   "source": [
    "ls=['hello','Dear','hOw','ARe','You']\n",
    "result = [word for word in ls \n",
    "          if len(word) >= 2 and word[1].isupper()]\n",
    "print(result)\n"
   ]
  },
  {
   "cell_type": "markdown",
   "id": "10143c9f",
   "metadata": {},
   "source": [
    "13.A directory of names and their weights on earth is given. Find how much they will weigh on the moon.(Use map \n",
    "and lambda functions) Formula : wMoon=(wEarth*GMoon)/GEarth i #Weight of people in kg WeightOnEarth= {'John':45, \n",
    "'Shelly':65, 'Marry:35} ii) #Gravitational force on the Moon:1.622m/s² GMoon=1.622 iii) # Gravitational force on \n",
    "the Earth: 9.81m/s² GEarth=9.81"
   ]
  },
  {
   "cell_type": "code",
   "execution_count": 34,
   "id": "9febc0c3",
   "metadata": {},
   "outputs": [
    {
     "name": "stdout",
     "output_type": "stream",
     "text": [
      "{'John': 7.440366972477065, 'Shelly': 10.747196738022426, 'Marry': 5.786952089704383}\n"
     ]
    }
   ],
   "source": [
    "\n",
    "WeightOnEarth = {'John': 45, 'Shelly': 65, 'Marry': 35}\n",
    "\n",
    "GMoon = 1.622\n",
    "\n",
    "GEarth = 9.81\n",
    "\n",
    "WeightOnMoon = list(map(lambda wEarth: (wEarth * GMoon) / GEarth, WeightOnEarth.values()))\n",
    "\n",
    "WeightOnMoonDict = dict(zip(WeightOnEarth.keys(), WeightOnMoon))\n",
    "\n",
    "print(WeightOnMoonDict)"
   ]
  },
  {
   "cell_type": "markdown",
   "id": "46541547",
   "metadata": {},
   "source": [
    "# Control Statement"
   ]
  },
  {
   "cell_type": "markdown",
   "id": "8bca472a",
   "metadata": {},
   "source": [
    "1.Write a python program to find the first N Prime numbers"
   ]
  },
  {
   "cell_type": "code",
   "execution_count": 1,
   "id": "e8299efe",
   "metadata": {},
   "outputs": [
    {
     "name": "stdout",
     "output_type": "stream",
     "text": [
      "Enter N:11\n",
      "First 11 Prime numbers are:2 3 5 7 11 13 17 19 23 29 31\n"
     ]
    }
   ],
   "source": [
    "def Prime(n):  \n",
    "    for i in range(2,n//2+1):  \n",
    "        if(n%i==0):  \n",
    "            return(0)  \n",
    "    return(1)  \n",
    "  \n",
    "N=int(input(\"Enter N:\"))  \n",
    "i=2 \n",
    "lst=[] \n",
    "while(1):  \n",
    "    if(Prime(i)):  \n",
    "        lst.append(i) \n",
    "        if(len(lst)==N): \n",
    "            break \n",
    "    i+=1 \n",
    "print(\"First \"+str(N)+\" Prime numbers are:\",end=\"\") \n",
    "print(*lst)"
   ]
  },
  {
   "cell_type": "markdown",
   "id": "97b05be1",
   "metadata": {},
   "source": [
    "2.Write the python code that calculates the salary of an employee. Prompt the user to enter the Basic Salary, HRA,\n",
    "TA and DA. Add these components to calculate the Gross Salary. Also,deduct 10%of salary from the Gross Salary to be\n",
    "paid as tax and display gross minus tax as net salary."
   ]
  },
  {
   "cell_type": "code",
   "execution_count": 2,
   "id": "3674fad7",
   "metadata": {},
   "outputs": [
    {
     "name": "stdout",
     "output_type": "stream",
     "text": [
      "Enter Basic Salary: 5000\n",
      "Enter HRA: 1000\n",
      "Enter TA: 500\n",
      "Enter DA: 800\n",
      "Gross Salary: 7300.0\n",
      "Tax Deduction (10%): 730.0\n",
      "Net Salary: 6570.0\n"
     ]
    }
   ],
   "source": [
    "basic_salary = float(input(\"Enter Basic Salary: \"))\n",
    "hra = float(input(\"Enter HRA: \"))\n",
    "ta = float(input(\"Enter TA: \"))\n",
    "da = float(input(\"Enter DA: \"))\n",
    "\n",
    "gross_salary = basic_salary + hra + ta + da\n",
    "\n",
    "tax = 0.10 * gross_salary\n",
    "\n",
    "net_salary = gross_salary - tax\n",
    "\n",
    "print(f\"Gross Salary: {gross_salary}\")\n",
    "print(f\"Tax Deduction (10%): {tax}\")\n",
    "print(f\"Net Salary: {net_salary}\")"
   ]
  },
  {
   "cell_type": "markdown",
   "id": "2c68b725",
   "metadata": {},
   "source": [
    "3.Write a python program to search for a string in the given list"
   ]
  },
  {
   "cell_type": "code",
   "execution_count": 3,
   "id": "add4d3d8",
   "metadata": {},
   "outputs": [
    {
     "name": "stdout",
     "output_type": "stream",
     "text": [
      "gala is present in the list\n"
     ]
    }
   ],
   "source": [
    "l = [1, 2.0, 'have', 'a', 'gala', 'day']\n",
    "s = 'gala' \n",
    " \n",
    "if s in l:\n",
    "    print(f'{s} is present in the list')\n",
    "else:\n",
    "    print(f'{s} is not present in the list')"
   ]
  },
  {
   "cell_type": "markdown",
   "id": "52a703e7",
   "metadata": {},
   "source": [
    "4.Write a python function that accepts a string and calculate the number of upper case letters and lower case letters"
   ]
  },
  {
   "cell_type": "code",
   "execution_count": 4,
   "id": "5a59a211",
   "metadata": {},
   "outputs": [
    {
     "name": "stdout",
     "output_type": "stream",
     "text": [
      "Original String :  The quick Brown Fox\n",
      "No. of Upper case characters :  3\n",
      "No. of Lower case Characters :  13\n"
     ]
    }
   ],
   "source": [
    "def string_test(s):\n",
    "    d={\"UPPER_CASE\":0, \"LOWER_CASE\":0}\n",
    "    for c in s:\n",
    "        if c.isupper():\n",
    "           d[\"UPPER_CASE\"]+=1\n",
    "        elif c.islower():\n",
    "           d[\"LOWER_CASE\"]+=1\n",
    "        else:\n",
    "           pass\n",
    "    print (\"Original String : \", s)\n",
    "    print (\"No. of Upper case characters : \", d[\"UPPER_CASE\"])\n",
    "    print (\"No. of Lower case Characters : \", d[\"LOWER_CASE\"])\n",
    "    \n",
    "string_test('The quick Brown Fox')"
   ]
  },
  {
   "cell_type": "markdown",
   "id": "9d0c29ea",
   "metadata": {},
   "source": [
    "5.Write a python program to display the sum of odd numbers and even numbers that fall between 12 and 37"
   ]
  },
  {
   "cell_type": "code",
   "execution_count": 5,
   "id": "81d3e1d7",
   "metadata": {},
   "outputs": [
    {
     "name": "stdout",
     "output_type": "stream",
     "text": [
      "Sum of even numbers: 312\n",
      "Sum of odd numbers: 288\n"
     ]
    }
   ],
   "source": [
    "sum_even = 0\n",
    "sum_odd = 0\n",
    "\n",
    "for num in range(12, 37):\n",
    "   \n",
    "    if num % 2 == 0:\n",
    "        sum_even += num\n",
    "    else:\n",
    "        sum_odd += num\n",
    "\n",
    "print(\"Sum of even numbers:\", sum_even)\n",
    "print(\"Sum of odd numbers:\", sum_odd)"
   ]
  },
  {
   "cell_type": "markdown",
   "id": "b9e89bac",
   "metadata": {},
   "source": [
    "6.Write a python Program to print the table of any number."
   ]
  },
  {
   "cell_type": "code",
   "execution_count": 6,
   "id": "5850ae85",
   "metadata": {},
   "outputs": [
    {
     "name": "stdout",
     "output_type": "stream",
     "text": [
      "Enter the number to print the tables for:6\n",
      "6 x 1 = 6\n",
      "6 x 2 = 12\n",
      "6 x 3 = 18\n",
      "6 x 4 = 24\n",
      "6 x 5 = 30\n",
      "6 x 6 = 36\n",
      "6 x 7 = 42\n",
      "6 x 8 = 48\n",
      "6 x 9 = 54\n",
      "6 x 10 = 60\n"
     ]
    }
   ],
   "source": [
    "n=int(input(\"Enter the number to print the tables for:\"))\n",
    "for i in range(1,11):\n",
    "    print(n,\"x\",i,\"=\",n*i)"
   ]
  },
  {
   "cell_type": "markdown",
   "id": "073950c7",
   "metadata": {},
   "source": [
    "7.Write a Python program to sum the first 10 prime numbers"
   ]
  },
  {
   "cell_type": "code",
   "execution_count": 7,
   "id": "fe718708",
   "metadata": {},
   "outputs": [
    {
     "name": "stdout",
     "output_type": "stream",
     "text": [
      "17\n"
     ]
    }
   ],
   "source": [
    "def sumOfPrimes(n):\n",
    "    \n",
    "    prime = [True] * (n + 1)\n",
    "     \n",
    "    \n",
    "    p = 2\n",
    "    while p * p <= n:\n",
    "        \n",
    "        if prime[p] == True:\n",
    "            \n",
    "            i = p * 2\n",
    "            while i <= n:\n",
    "                prime[i] = False\n",
    "                i += p\n",
    "        p += 1   \n",
    "          \n",
    "    \n",
    "    sum = 0\n",
    "    for i in range (2, n + 1):\n",
    "        if(prime[i]):\n",
    "            sum += i\n",
    "    return sum\n",
    " \n",
    "n = 10\n",
    "print(sumOfPrimes(n))"
   ]
  },
  {
   "cell_type": "markdown",
   "id": "71f22f42",
   "metadata": {},
   "source": [
    "8.Write a python program to implement arithmetic operations using nested if statement"
   ]
  },
  {
   "cell_type": "code",
   "execution_count": 10,
   "id": "59fb47ec",
   "metadata": {},
   "outputs": [
    {
     "name": "stdout",
     "output_type": "stream",
     "text": [
      "Enter the first number: 6\n",
      "Enter the second number: 4\n",
      "Enter the operation (+, -, *, /): +\n",
      "Result: 10.0\n"
     ]
    }
   ],
   "source": [
    "num1 = float(input(\"Enter the first number: \"))\n",
    "num2 = float(input(\"Enter the second number: \"))\n",
    "operation = input(\"Enter the operation (+, -, *, /): \")\n",
    "\n",
    "\n",
    "result = 0\n",
    "\n",
    "if operation == \"+\":\n",
    "    result = num1 + num2\n",
    "elif operation == \"-\":\n",
    "    result = num1 - num2\n",
    "elif operation == \"*\":\n",
    "    result = num1 * num2\n",
    "elif operation == \"/\":\n",
    "    if num2 != 0: \n",
    "        result = num1 / num2\n",
    "    else:\n",
    "        print(\"Error: Division by zero\")\n",
    "else:\n",
    "    print(\"Invalid operation\")\n",
    "\n",
    "print(f\"Result: {result}\")"
   ]
  },
  {
   "cell_type": "markdown",
   "id": "a20f521e",
   "metadata": {},
   "source": [
    "11.Write a Python Program to Take the temperature in celcius and convert it to Fahrenheit."
   ]
  },
  {
   "cell_type": "code",
   "execution_count": 13,
   "id": "3aeb450d",
   "metadata": {},
   "outputs": [
    {
     "name": "stdout",
     "output_type": "stream",
     "text": [
      "Enter temperature in Celsius: 34\n",
      "34.0 degrees Celsius is equal to 93.2 degrees Fahrenheit\n"
     ]
    }
   ],
   "source": [
    "celsius = float(input(\"Enter temperature in Celsius: \"))\n",
    "\n",
    "fahrenheit = (celsius * 9/5) + 32\n",
    "\n",
    "print(f\"{celsius} degrees Celsius is equal to {fahrenheit} degrees Fahrenheit\")"
   ]
  },
  {
   "cell_type": "markdown",
   "id": "59f584a0",
   "metadata": {},
   "source": [
    "12.Write a python program to find a maximum and minimum number in a list without using an inbuilt function"
   ]
  },
  {
   "cell_type": "code",
   "execution_count": 14,
   "id": "c6ae52ee",
   "metadata": {},
   "outputs": [
    {
     "name": "stdout",
     "output_type": "stream",
     "text": [
      "(75, -5)\n"
     ]
    }
   ],
   "source": [
    "def max_min(data):\n",
    "  l = data[0]\n",
    "  s = data[0]\n",
    "  for num in data:\n",
    "    if num> l:\n",
    "      l = num\n",
    "    elif num< s:\n",
    "        s = num\n",
    "  return l, s\n",
    "\n",
    "print(max_min([0, 10, 15, 40, -5, 42, 17, 28, 75]))"
   ]
  },
  {
   "cell_type": "markdown",
   "id": "9eb6b05b",
   "metadata": {},
   "source": [
    "13.Write a Python Program to print out the number of seconds in 30 day month 30 days, 24 hours in a day, 60 mins per day, \n",
    "60 second per min."
   ]
  },
  {
   "cell_type": "code",
   "execution_count": 15,
   "id": "212d3372",
   "metadata": {},
   "outputs": [
    {
     "name": "stdout",
     "output_type": "stream",
     "text": [
      "The number of seconds in a 30-day month is: 2592000 seconds\n"
     ]
    }
   ],
   "source": [
    "days_in_month = 30\n",
    "hours_in_day = 24\n",
    "minutes_in_hour = 60\n",
    "seconds_in_minute = 60\n",
    "\n",
    "total_seconds = days_in_month * hours_in_day * minutes_in_hour * seconds_in_minute\n",
    "\n",
    "print(f\"The number of seconds in a 30-day month is: {total_seconds} seconds\")"
   ]
  },
  {
   "cell_type": "markdown",
   "id": "88dc01b6",
   "metadata": {},
   "source": [
    "14.Write a Python Program to print out the number of seconds in a year."
   ]
  },
  {
   "cell_type": "code",
   "execution_count": 16,
   "id": "c96dabe8",
   "metadata": {},
   "outputs": [
    {
     "name": "stdout",
     "output_type": "stream",
     "text": [
      "Number of seconds in a year = 31536000\n"
     ]
    }
   ],
   "source": [
    "days = 365\n",
    "hours = 24\n",
    "mins = 60\n",
    "secs = 60\n",
    "secsInYear = days * hours * mins * secs\n",
    "print(\"Number of seconds in a year =\", secsInYear)"
   ]
  },
  {
   "cell_type": "markdown",
   "id": "aa5987d7",
   "metadata": {},
   "source": [
    "15.A high speed train can travel at an avg speed of 150 mph, how long will it take a train travelling at this speed\n",
    "to travel from Londen to Glasgow which is 414 miles away."
   ]
  },
  {
   "cell_type": "code",
   "execution_count": 17,
   "id": "dd3102d1",
   "metadata": {},
   "outputs": [
    {
     "name": "stdout",
     "output_type": "stream",
     "text": [
      "It will take 2.76 hours to travel from London to Glasgow.\n"
     ]
    }
   ],
   "source": [
    "distance = 414  # miles\n",
    "speed = 150  # mph\n",
    "\n",
    "time = distance / speed\n",
    "print(f\"It will take {time} hours to travel from London to Glasgow.\")"
   ]
  },
  {
   "cell_type": "markdown",
   "id": "1f90ff6d",
   "metadata": {},
   "source": [
    "14.Write a Python Program that defines a variable called days_in_each_school_year and assign 192 to variable.\n",
    "The program should then print out the total hours that you spend in school from year 7 to year 11. if each day\n",
    "you spend 6 hours in school day_in_each_school_year = 192."
   ]
  },
  {
   "cell_type": "code",
   "execution_count": 18,
   "id": "4085397c",
   "metadata": {},
   "outputs": [
    {
     "name": "stdout",
     "output_type": "stream",
     "text": [
      "Total hours spent in school from year 7 to year 11: 5760\n"
     ]
    }
   ],
   "source": [
    "days_in_each_school_year = 192\n",
    "\n",
    "total_hours_in_school = (days_in_each_school_year * 5)  \n",
    "total_hours = total_hours_in_school * 6 \n",
    "\n",
    "print(\"Total hours spent in school from year 7 to year 11:\", total_hours)"
   ]
  },
  {
   "cell_type": "markdown",
   "id": "744eccc0",
   "metadata": {},
   "source": [
    "15.If the ages of Ram, Sam and Khan are input through the keyboard, write a python program to determine the eldest\n",
    "and the youngest of the three."
   ]
  },
  {
   "cell_type": "code",
   "execution_count": 20,
   "id": "759ec8e7",
   "metadata": {},
   "outputs": [
    {
     "name": "stdout",
     "output_type": "stream",
     "text": [
      "Enter Ram's age: 45\n",
      "Enter Sam's age: 23\n",
      "Enter Khan's age: 53\n",
      "The eldest among them is 53 years old.\n",
      "The youngest among them is 23 years old.\n"
     ]
    }
   ],
   "source": [
    "ram_age = int(input(\"Enter Ram's age: \"))\n",
    "sam_age = int(input(\"Enter Sam's age: \"))\n",
    "khan_age = int(input(\"Enter Khan's age: \"))\n",
    "\n",
    "eldest = max(ram_age, sam_age, khan_age)\n",
    "\n",
    "youngest = min(ram_age, sam_age, khan_age)\n",
    "\n",
    "print(f\"The eldest among them is {eldest} years old.\")\n",
    "print(f\"The youngest among them is {youngest} years old.\")"
   ]
  },
  {
   "cell_type": "markdown",
   "id": "58d75b16",
   "metadata": {},
   "source": [
    "16.Write a python program to rotate a list by the right n times with and without slicing technique.\n"
   ]
  },
  {
   "cell_type": "code",
   "execution_count": 21,
   "id": "3ce6290b",
   "metadata": {},
   "outputs": [
    {
     "name": "stdout",
     "output_type": "stream",
     "text": [
      "[4, 5, 1, 2, 3]\n",
      "[4, 5, 1, 2, 3]\n"
     ]
    }
   ],
   "source": [
    "def rotate_list_with_slicing(lst, n):\n",
    "    n = n % len(lst)  # Ensure n is within the range of list length\n",
    "    rotated_list = lst[-n:] + lst[:-n]\n",
    "    return rotated_list\n",
    "my_list = [1, 2, 3, 4, 5]\n",
    "rotation_count = 2\n",
    "result = rotate_list_with_slicing(my_list, rotation_count)\n",
    "print(result) \n",
    "[4, 5, 1, 2, 3]\n",
    "def rotate_list_without_slicing(lst, n):\n",
    "    n = n % len(lst)  # Ensure n is within the range of list length\n",
    "    rotated_list = [0] * len(lst)\n",
    "    for i in range(len(lst)):\n",
    "        rotated_list[(i + n) % len(lst)] = lst[i]\n",
    "    return rotated_list\n",
    "my_list = [1, 2, 3, 4, 5]\n",
    "rotation_count = 2\n",
    "result = rotate_list_without_slicing(my_list, rotation_count)\n",
    "print(result) "
   ]
  },
  {
   "cell_type": "markdown",
   "id": "2f89342c",
   "metadata": {},
   "source": [
    "17.Python program to print the patterns given below:\n",
    "    \n",
    "i)  1\n",
    "    1 1\n",
    "    1 2 1\n",
    "    1 3 3 1\n",
    "    1 4 6 4 1\n",
    "    1 5 10 10 5 1\n",
    "    1 6 15 20 15 6 1"
   ]
  },
  {
   "cell_type": "code",
   "execution_count": 24,
   "id": "0266446a",
   "metadata": {},
   "outputs": [
    {
     "name": "stdout",
     "output_type": "stream",
     "text": [
      "1 \n",
      "1 1 \n",
      "1 2 1 \n",
      "1 3 1 1 \n",
      "1 4 1 0 1 \n",
      "1 5 2 1 0 1 \n",
      "1 6 2 1 0 0 1 \n"
     ]
    }
   ],
   "source": [
    "def print_pattern(rows):\n",
    "    for i in range(0, rows):\n",
    "        for j in range(0, i + 1):\n",
    "            # Calculate the binomial coefficient (n choose k)\n",
    "            coefficient = 1\n",
    "            if j > 0 and j < i:\n",
    "                coefficient = coefficient * (i - j + 1) // j\n",
    "            print(coefficient, end=\" \")\n",
    "        print()\n",
    "        \n",
    "rows = 7\n",
    "print_pattern(rows)"
   ]
  },
  {
   "cell_type": "code",
   "execution_count": null,
   "id": "cee763be",
   "metadata": {},
   "outputs": [],
   "source": [
    "17 Python program to print the patterns given below:\n",
    "2   *\n",
    "    * *\n",
    "    * * *\n",
    "    * * * *\n",
    "    * * * * *"
   ]
  },
  {
   "cell_type": "code",
   "execution_count": 25,
   "id": "f3dc04b3",
   "metadata": {},
   "outputs": [
    {
     "name": "stdout",
     "output_type": "stream",
     "text": [
      "* \n",
      "* * \n",
      "* * * \n",
      "* * * * \n",
      "* * * * * \n"
     ]
    }
   ],
   "source": [
    "n = 5  # Number of rows you want\n",
    "\n",
    "for i in range(1, n + 1):\n",
    "    for j in range(i):\n",
    "        print(\"*\", end=\" \")\n",
    "    print()"
   ]
  },
  {
   "cell_type": "code",
   "execution_count": null,
   "id": "bd090573",
   "metadata": {},
   "outputs": [],
   "source": [
    "17 Python program to print the patterns given below:\n",
    "3               *\n",
    "               * *\n",
    "              * * *\n",
    "             * * * *\n",
    "            * * * * *\n",
    "           * * * * * *\n",
    "          * * * * * * *"
   ]
  },
  {
   "cell_type": "code",
   "execution_count": 26,
   "id": "4f707da8",
   "metadata": {},
   "outputs": [
    {
     "name": "stdout",
     "output_type": "stream",
     "text": [
      "      * \n",
      "     * * \n",
      "    * * * \n",
      "   * * * * \n",
      "  * * * * * \n",
      " * * * * * * \n",
      "* * * * * * * \n"
     ]
    }
   ],
   "source": [
    "rows = 7  \n",
    "\n",
    "for i in range(1, rows + 1):\n",
    "\n",
    "    for j in range(rows - i):\n",
    "        print(\" \", end=\"\")\n",
    "\n",
    "    for k in range(i):\n",
    "        print(\"*\", end=\" \")\n",
    "\n",
    "    print()"
   ]
  },
  {
   "cell_type": "code",
   "execution_count": null,
   "id": "1015af5e",
   "metadata": {},
   "outputs": [],
   "source": [
    "17.Python program to print the patterns given below:\n",
    "4  p\n",
    "   py\n",
    "   pyt\n",
    "   pyth\n",
    "   pytho\n",
    "   python"
   ]
  },
  {
   "cell_type": "code",
   "execution_count": 27,
   "id": "02fb3007",
   "metadata": {},
   "outputs": [
    {
     "name": "stdout",
     "output_type": "stream",
     "text": [
      "p\n",
      "py\n",
      "pyt\n",
      "pyth\n",
      "pytho\n",
      "python\n"
     ]
    }
   ],
   "source": [
    "word = \"python\"\n",
    "\n",
    "for i in range(1, len(word) + 1):\n",
    "    print(word[:i])"
   ]
  },
  {
   "cell_type": "code",
   "execution_count": null,
   "id": "7f191d47",
   "metadata": {},
   "outputs": [],
   "source": []
  }
 ],
 "metadata": {
  "kernelspec": {
   "display_name": "Python 3 (ipykernel)",
   "language": "python",
   "name": "python3"
  },
  "language_info": {
   "codemirror_mode": {
    "name": "ipython",
    "version": 3
   },
   "file_extension": ".py",
   "mimetype": "text/x-python",
   "name": "python",
   "nbconvert_exporter": "python",
   "pygments_lexer": "ipython3",
   "version": "3.11.4"
  }
 },
 "nbformat": 4,
 "nbformat_minor": 5
}
