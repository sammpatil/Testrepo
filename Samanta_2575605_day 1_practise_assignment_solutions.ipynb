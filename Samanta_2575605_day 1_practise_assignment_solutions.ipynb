{
 "cells": [
  {
   "cell_type": "markdown",
   "id": "c6b41eaf",
   "metadata": {},
   "source": [
    "1. Manipulate using a list.\n",
    "i) To add new elements to the end of the list\n",
    "ii) To reverse elements in the list\n",
    "iii) To dislpay the same list of elements multiple times\n",
    "iv) To concatenate two list\n",
    "v) To sort the elements in the list in assending order"
   ]
  },
  {
   "cell_type": "code",
   "execution_count": null,
   "id": "0979b0b9",
   "metadata": {},
   "outputs": [],
   "source": [
    "lst=[2, 4, 6, 8, 'abc']\n",
    "lst \n"
   ]
  },
  {
   "cell_type": "code",
   "execution_count": 62,
   "id": "50c9f062",
   "metadata": {},
   "outputs": [
    {
     "name": "stdout",
     "output_type": "stream",
     "text": [
      "After added - lists elements are:\n",
      " [65, 45, 36, 33, 10, 2, 10, 11, 12, 13]\n"
     ]
    },
    {
     "data": {
      "text/plain": [
       "[65, 45, 36, 33, 10, 2, 10, 11, 12, 13]"
      ]
     },
     "execution_count": 62,
     "metadata": {},
     "output_type": "execute_result"
    }
   ],
   "source": [
    "#i) To add new elements to the end of the list\n",
    "lst.append(10)  #append is used to add single elements at the end of the list\n",
    "lst\n",
    "\n",
    "#to add multiple elements-extent\n",
    "\n",
    "lst.extend([11,12,13])\n",
    "print('After added - lists elements are:\\n', lst)\n",
    "lst"
   ]
  },
  {
   "cell_type": "code",
   "execution_count": 57,
   "id": "9cd01fa3",
   "metadata": {},
   "outputs": [
    {
     "name": "stdout",
     "output_type": "stream",
     "text": [
      "After added - lists elements are:\n",
      " [2, 10, 33, 36, 45, 65]\n"
     ]
    },
    {
     "data": {
      "text/plain": [
       "[2, 10, 33, 36, 45, 65]"
      ]
     },
     "execution_count": 57,
     "metadata": {},
     "output_type": "execute_result"
    }
   ],
   "source": [
    "print('After added - lists elements are:\\n', lst)\n",
    "lst"
   ]
  },
  {
   "cell_type": "code",
   "execution_count": 58,
   "id": "85dcb7aa",
   "metadata": {},
   "outputs": [
    {
     "data": {
      "text/plain": [
       "[65, 45, 36, 33, 10, 2]"
      ]
     },
     "execution_count": 58,
     "metadata": {},
     "output_type": "execute_result"
    }
   ],
   "source": [
    "#ii) To reverse elements in the list\n",
    "\n",
    "lst.reverse()\n",
    "lst\n",
    "lst"
   ]
  },
  {
   "cell_type": "code",
   "execution_count": 73,
   "id": "8380f76e",
   "metadata": {},
   "outputs": [
    {
     "data": {
      "text/plain": [
       "[7, 9, 11, 7, 9, 11, 7, 9, 11]"
      ]
     },
     "execution_count": 73,
     "metadata": {},
     "output_type": "execute_result"
    }
   ],
   "source": [
    "#iii) To dislpay the same list of elements multiple times\n",
    "\n",
    "lst=[7, 9, 11]\n",
    "lst*3"
   ]
  },
  {
   "cell_type": "code",
   "execution_count": 83,
   "id": "927d2a7f",
   "metadata": {},
   "outputs": [
    {
     "data": {
      "text/plain": [
       "[1, 2, 3, 5, 6, 7]"
      ]
     },
     "execution_count": 83,
     "metadata": {},
     "output_type": "execute_result"
    }
   ],
   "source": [
    "#iv) To concatenate two list\n",
    "\n",
    "lst1= [1, 2, 3]\n",
    "lst2= [5, 6, 7]\n",
    "res= lst1 + lst2\n",
    "res\n"
   ]
  },
  {
   "cell_type": "code",
   "execution_count": 65,
   "id": "e969ee2b",
   "metadata": {},
   "outputs": [
    {
     "data": {
      "text/plain": [
       "[36, 33, 45, 65, 2, 10]"
      ]
     },
     "execution_count": 65,
     "metadata": {},
     "output_type": "execute_result"
    }
   ],
   "source": [
    "#v) To sort the elements in the list in assending order\n",
    "\n",
    "lst=[36, 33, 45, 65, 2, 10]\n",
    "lst"
   ]
  },
  {
   "cell_type": "code",
   "execution_count": 36,
   "id": "5f7c99f2",
   "metadata": {},
   "outputs": [
    {
     "data": {
      "text/plain": [
       "[2, 10, 33, 36, 45, 65]"
      ]
     },
     "execution_count": 36,
     "metadata": {},
     "output_type": "execute_result"
    }
   ],
   "source": [
    "lst.sort()\n",
    "lst"
   ]
  },
  {
   "cell_type": "markdown",
   "id": "d842e3f8",
   "metadata": {},
   "source": [
    "2. Write a python program to do in the tuples\n",
    "i) Manipulate using tuples.\n",
    "ii) To add new elements to the end of the tuples\n",
    "iii) To reverse elements in the list\n",
    "iv) To display the elements of the same tuple multiple times.\n",
    "v) To concatenate two tuples\n",
    "vi) To sort the elements in the tuple in ascending order"
   ]
  },
  {
   "cell_type": "code",
   "execution_count": 39,
   "id": "4246aa68",
   "metadata": {},
   "outputs": [],
   "source": [
    "tup=(12, 33.23, 'John')"
   ]
  },
  {
   "cell_type": "code",
   "execution_count": 41,
   "id": "25eafb4e",
   "metadata": {},
   "outputs": [
    {
     "data": {
      "text/plain": [
       "(12, 33.23, 'John')"
      ]
     },
     "execution_count": 41,
     "metadata": {},
     "output_type": "execute_result"
    }
   ],
   "source": [
    "#i) Manipulate using tuples\n",
    "tup"
   ]
  },
  {
   "cell_type": "code",
   "execution_count": 51,
   "id": "f9a555eb",
   "metadata": {},
   "outputs": [],
   "source": [
    "#ii) To add new elements to the end of the tuples\n",
    "\n",
    "#we cannot add a new element to the tuple because tuple is immutable "
   ]
  },
  {
   "cell_type": "code",
   "execution_count": 70,
   "id": "aa411543",
   "metadata": {},
   "outputs": [
    {
     "name": "stdout",
     "output_type": "stream",
     "text": [
      "(4, 3, 2, 1)\n"
     ]
    },
    {
     "data": {
      "text/plain": [
       "(4, 3, 2, 1)"
      ]
     },
     "execution_count": 70,
     "metadata": {},
     "output_type": "execute_result"
    }
   ],
   "source": [
    "#iii) To reverse elements in the list\n",
    "\n",
    "tup=(1, 2, 3, 4)\n",
    "reversed_tup=tup[::-1]\n",
    "print(reversed_tup)\n",
    "reversed_tup"
   ]
  },
  {
   "cell_type": "code",
   "execution_count": 74,
   "id": "222e2bb7",
   "metadata": {},
   "outputs": [
    {
     "data": {
      "text/plain": [
       "(3, 5, 7, 3, 5, 7, 3, 5, 7)"
      ]
     },
     "execution_count": 74,
     "metadata": {},
     "output_type": "execute_result"
    }
   ],
   "source": [
    "#iv) To display the elements of the same tuple multiple times.\n",
    "\n",
    "tup=(3, 5, 7)\n",
    "tup*3"
   ]
  },
  {
   "cell_type": "code",
   "execution_count": 80,
   "id": "1be7a07b",
   "metadata": {},
   "outputs": [
    {
     "data": {
      "text/plain": [
       "(15, 64, 34, 1, 7, 9, 12)"
      ]
     },
     "execution_count": 80,
     "metadata": {},
     "output_type": "execute_result"
    }
   ],
   "source": [
    "#v) To concatenate two tuples\n",
    "\n",
    "tup1=(15, 64, 34)\n",
    "tup2=(1, 7, 9, 12)\n",
    "res= tup1 + tup2\n",
    "res\n"
   ]
  },
  {
   "cell_type": "code",
   "execution_count": 87,
   "id": "747c2101",
   "metadata": {},
   "outputs": [],
   "source": [
    "#vi) To sort the elements in the tuple in ascending order\n",
    "\n",
    "#we cannot sort the elementsin the tuple in ascending order because tuple is immutable "
   ]
  },
  {
   "cell_type": "markdown",
   "id": "119ea78c",
   "metadata": {},
   "source": [
    "3. Write a python program to implement the following using list\n",
    "i) Create a list with integers(minimum 10 numbers)\n",
    "ii) How to display the last number in the list\n",
    "iii) Command for displaying the values from the list[0:4]\n",
    "iv) Command for displaying the values from the list[2:]\n",
    "v) Command for displaying the values from the list[:6]\n"
   ]
  },
  {
   "cell_type": "code",
   "execution_count": 90,
   "id": "9e6f30af",
   "metadata": {},
   "outputs": [
    {
     "data": {
      "text/plain": [
       "[1, 3, 5, 7, 9, 11, 13, 15, 17, 19]"
      ]
     },
     "execution_count": 90,
     "metadata": {},
     "output_type": "execute_result"
    }
   ],
   "source": [
    "#i) Create a list with integers(minimum 10 numbers)\n",
    "\n",
    "list=[1, 3, 5, 7, 9, 11, 13, 15, 17, 19]\n",
    "list"
   ]
  },
  {
   "cell_type": "code",
   "execution_count": 91,
   "id": "87472feb",
   "metadata": {},
   "outputs": [
    {
     "data": {
      "text/plain": [
       "19"
      ]
     },
     "execution_count": 91,
     "metadata": {},
     "output_type": "execute_result"
    }
   ],
   "source": [
    "#ii) How to display the last number in the list\n",
    "\n",
    "list[9]"
   ]
  },
  {
   "cell_type": "code",
   "execution_count": 92,
   "id": "73d9352b",
   "metadata": {},
   "outputs": [
    {
     "data": {
      "text/plain": [
       "[1, 3, 5, 7]"
      ]
     },
     "execution_count": 92,
     "metadata": {},
     "output_type": "execute_result"
    }
   ],
   "source": [
    "#iii) Command for displaying the values from the list[0:4]\n",
    "\n",
    "list[0:4]"
   ]
  },
  {
   "cell_type": "code",
   "execution_count": 93,
   "id": "28ce735d",
   "metadata": {},
   "outputs": [
    {
     "data": {
      "text/plain": [
       "[5, 7, 9, 11, 13, 15, 17, 19]"
      ]
     },
     "execution_count": 93,
     "metadata": {},
     "output_type": "execute_result"
    }
   ],
   "source": [
    "#iv) Command for displaying the values from the list[2:]\n",
    "\n",
    "list[2:]"
   ]
  },
  {
   "cell_type": "code",
   "execution_count": 94,
   "id": "c8155103",
   "metadata": {},
   "outputs": [
    {
     "data": {
      "text/plain": [
       "[1, 3, 5, 7, 9, 11]"
      ]
     },
     "execution_count": 94,
     "metadata": {},
     "output_type": "execute_result"
    }
   ],
   "source": [
    "#v) Command for displaying the values from the list[:6]\n",
    "\n",
    "list[:6]"
   ]
  },
  {
   "cell_type": "markdown",
   "id": "f549c038",
   "metadata": {},
   "source": [
    "4. Write a Python program: tuple1 = (10, 50, 20, 40, 30)\n",
    "i) To display the elements 10 to 50 from tuple1\n",
    "ii) To dispaly the length of a tuple1\n",
    "iii) To find the minimum element from tuple1\n",
    "iv) To add all elements in the tuple1\n",
    "v) To display the same tuple1 multiple times"
   ]
  },
  {
   "cell_type": "code",
   "execution_count": 96,
   "id": "aedb8a8d",
   "metadata": {},
   "outputs": [
    {
     "data": {
      "text/plain": [
       "(10, 50, 20, 40, 30)"
      ]
     },
     "execution_count": 96,
     "metadata": {},
     "output_type": "execute_result"
    }
   ],
   "source": [
    "tuple1 = (10, 50, 20, 40, 30)\n",
    "tuple1"
   ]
  },
  {
   "cell_type": "code",
   "execution_count": 113,
   "id": "99ea8e7b",
   "metadata": {},
   "outputs": [
    {
     "data": {
      "text/plain": [
       "(10, 50)"
      ]
     },
     "execution_count": 113,
     "metadata": {},
     "output_type": "execute_result"
    }
   ],
   "source": [
    "#i) To display the elements 10 to 50 from tuple1\n",
    "\n",
    "tuple1[0:2]"
   ]
  },
  {
   "cell_type": "code",
   "execution_count": 114,
   "id": "9214bc7f",
   "metadata": {},
   "outputs": [
    {
     "data": {
      "text/plain": [
       "5"
      ]
     },
     "execution_count": 114,
     "metadata": {},
     "output_type": "execute_result"
    }
   ],
   "source": [
    "#ii) To dispaly the length of a tuple1\n",
    "\n",
    "len(tuple1)"
   ]
  },
  {
   "cell_type": "code",
   "execution_count": 119,
   "id": "a8ad1f16",
   "metadata": {},
   "outputs": [
    {
     "data": {
      "text/plain": [
       "10"
      ]
     },
     "execution_count": 119,
     "metadata": {},
     "output_type": "execute_result"
    }
   ],
   "source": [
    "#iii) To find the minimum element from tuple1\n",
    "\n",
    "min(tuple1)\n"
   ]
  },
  {
   "cell_type": "code",
   "execution_count": 121,
   "id": "8e2ad4e1",
   "metadata": {},
   "outputs": [
    {
     "data": {
      "text/plain": [
       "150"
      ]
     },
     "execution_count": 121,
     "metadata": {},
     "output_type": "execute_result"
    }
   ],
   "source": [
    "#iv) To add all elements in the tuple1\n",
    "\n",
    "sum(tuple1)"
   ]
  },
  {
   "cell_type": "code",
   "execution_count": 122,
   "id": "1803192b",
   "metadata": {},
   "outputs": [
    {
     "data": {
      "text/plain": [
       "(10, 50, 20, 40, 30, 10, 50, 20, 40, 30, 10, 50, 20, 40, 30)"
      ]
     },
     "execution_count": 122,
     "metadata": {},
     "output_type": "execute_result"
    }
   ],
   "source": [
    "#v) To display the same tuple1 multiple times\n",
    "\n",
    "tuple1*3"
   ]
  },
  {
   "cell_type": "markdown",
   "id": "7467c3ff",
   "metadata": {},
   "source": [
    "5. Write a python program\n",
    "i) To calculate the length of a string\n",
    "ii) To reverse words in a string\n",
    "iii) To display the same string multiplate times\n",
    "iv) To concatenate two strings\n",
    "v) Str1=\"South India\", using string slicing to display \"India\""
   ]
  },
  {
   "cell_type": "code",
   "execution_count": 1,
   "id": "c652916f",
   "metadata": {},
   "outputs": [
    {
     "data": {
      "text/plain": [
       "'South India'"
      ]
     },
     "execution_count": 1,
     "metadata": {},
     "output_type": "execute_result"
    }
   ],
   "source": [
    "Str1=\"South India\"\n",
    "Str1"
   ]
  },
  {
   "cell_type": "code",
   "execution_count": 124,
   "id": "4b704cb2",
   "metadata": {},
   "outputs": [
    {
     "data": {
      "text/plain": [
       "11"
      ]
     },
     "execution_count": 124,
     "metadata": {},
     "output_type": "execute_result"
    }
   ],
   "source": [
    "#i) To calculate the length of a string\n",
    "\n",
    "len(Str1)"
   ]
  },
  {
   "cell_type": "code",
   "execution_count": 5,
   "id": "27404174",
   "metadata": {},
   "outputs": [
    {
     "name": "stdout",
     "output_type": "stream",
     "text": [
      "aidnI htuoS\n"
     ]
    },
    {
     "data": {
      "text/plain": [
       "'aidnI htuoS'"
      ]
     },
     "execution_count": 5,
     "metadata": {},
     "output_type": "execute_result"
    }
   ],
   "source": [
    "#ii) To reverse words in a string\n",
    "\n",
    "Str1=\"South India\"\n",
    "reversed_Str1=Str1[::-1]\n",
    "print(reversed_Str1)\n",
    "reversed_Str1\n"
   ]
  },
  {
   "cell_type": "code",
   "execution_count": 8,
   "id": "02e4037d",
   "metadata": {},
   "outputs": [
    {
     "data": {
      "text/plain": [
       "'South IndiaSouth IndiaSouth IndiaSouth IndiaSouth India'"
      ]
     },
     "execution_count": 8,
     "metadata": {},
     "output_type": "execute_result"
    }
   ],
   "source": [
    "#iii) To display the same string multiplate times\n",
    "\n",
    "Str1*5"
   ]
  },
  {
   "cell_type": "code",
   "execution_count": 10,
   "id": "dc3b1cc6",
   "metadata": {},
   "outputs": [
    {
     "data": {
      "text/plain": [
       "'South IndiaIndia'"
      ]
     },
     "execution_count": 10,
     "metadata": {},
     "output_type": "execute_result"
    }
   ],
   "source": [
    "#iv) To concatenate two strings\n",
    "\n",
    "Str1=\"South India\"\n",
    "Str2=\"India\"\n",
    "res = Str1 + Str2\n",
    "res"
   ]
  },
  {
   "cell_type": "code",
   "execution_count": 12,
   "id": "0d4a68f0",
   "metadata": {},
   "outputs": [
    {
     "data": {
      "text/plain": [
       "'India'"
      ]
     },
     "execution_count": 12,
     "metadata": {},
     "output_type": "execute_result"
    }
   ],
   "source": [
    "#v) Str1=\"South India\", using string slicing to display \"India\"\n",
    "\n",
    "Str1=\"South India\"\n",
    "Str1[6:]"
   ]
  },
  {
   "cell_type": "markdown",
   "id": "24e4d002",
   "metadata": {},
   "source": [
    "6. Perform the following :\n",
    "i) Creating the Directory\n",
    "ii) Accessing values and keys in the directory\n",
    "iii) Updating the directory using a function\n",
    "iv) Clear and delete the directory values"
   ]
  },
  {
   "cell_type": "code",
   "execution_count": 13,
   "id": "5d7b3218",
   "metadata": {},
   "outputs": [],
   "source": [
    "#i) Creating the Directory\n",
    "\n",
    "student={'f_name':'Rahul','l_name':'Kulkarni','class':'8','city':'Mudhol'}\n"
   ]
  },
  {
   "cell_type": "code",
   "execution_count": 15,
   "id": "24399d75",
   "metadata": {},
   "outputs": [
    {
     "data": {
      "text/plain": [
       "{'f_name': 'Rahul', 'l_name': 'Kulkarni', 'class': '8', 'city': 'Mudhol'}"
      ]
     },
     "execution_count": 15,
     "metadata": {},
     "output_type": "execute_result"
    }
   ],
   "source": [
    "student"
   ]
  },
  {
   "cell_type": "code",
   "execution_count": 18,
   "id": "1fabbcea",
   "metadata": {},
   "outputs": [
    {
     "data": {
      "text/plain": [
       "dict_values(['Rahul', 'Kulkarni', '8', 'Mudhol'])"
      ]
     },
     "execution_count": 18,
     "metadata": {},
     "output_type": "execute_result"
    }
   ],
   "source": [
    "#ii) Accessing values and keys in the directory\n",
    "\n",
    "student.values()"
   ]
  },
  {
   "cell_type": "code",
   "execution_count": 19,
   "id": "5f11446d",
   "metadata": {},
   "outputs": [
    {
     "data": {
      "text/plain": [
       "dict_keys(['f_name', 'l_name', 'class', 'city'])"
      ]
     },
     "execution_count": 19,
     "metadata": {},
     "output_type": "execute_result"
    }
   ],
   "source": [
    "student.keys()"
   ]
  },
  {
   "cell_type": "code",
   "execution_count": 21,
   "id": "3d6612fd",
   "metadata": {},
   "outputs": [
    {
     "data": {
      "text/plain": [
       "{'f_name': 'Rahul', 'l_name': 'Kulkarni', 'class': 7, 'city': 'Mudhol'}"
      ]
     },
     "execution_count": 21,
     "metadata": {},
     "output_type": "execute_result"
    }
   ],
   "source": [
    "#iii) Updating the directory using a function\n",
    "\n",
    "student.update({'class': 7})\n",
    "student"
   ]
  },
  {
   "cell_type": "code",
   "execution_count": 34,
   "id": "06e82e5b",
   "metadata": {},
   "outputs": [
    {
     "data": {
      "text/plain": [
       "'Mudhol'"
      ]
     },
     "execution_count": 34,
     "metadata": {},
     "output_type": "execute_result"
    }
   ],
   "source": [
    "#iv) Clear and delete the directory values\n",
    "\n",
    "student.pop('city')\n"
   ]
  },
  {
   "cell_type": "markdown",
   "id": "a6ea955d",
   "metadata": {},
   "source": [
    "7. Python program to insert a number to any position in the list"
   ]
  },
  {
   "cell_type": "code",
   "execution_count": 37,
   "id": "e7bccdf8",
   "metadata": {},
   "outputs": [
    {
     "data": {
      "text/plain": [
       "[2, 4, 6, 8, 10]"
      ]
     },
     "execution_count": 37,
     "metadata": {},
     "output_type": "execute_result"
    }
   ],
   "source": [
    "list=[2, 4 , 6, 8, 10]\n",
    "list"
   ]
  },
  {
   "cell_type": "code",
   "execution_count": 42,
   "id": "3e1da163",
   "metadata": {},
   "outputs": [
    {
     "data": {
      "text/plain": [
       "[2, 4, 5, 5, 6, 5, 8, 10, 3, 3]"
      ]
     },
     "execution_count": 42,
     "metadata": {},
     "output_type": "execute_result"
    }
   ],
   "source": [
    "list.insert(2, 5)\n",
    "list"
   ]
  },
  {
   "cell_type": "markdown",
   "id": "4225ad5d",
   "metadata": {},
   "source": [
    "8. Python program to delete an element from a list by index"
   ]
  },
  {
   "cell_type": "code",
   "execution_count": 43,
   "id": "110b6836",
   "metadata": {},
   "outputs": [],
   "source": [
    "list=[1, 2, 3, 4, 5]"
   ]
  },
  {
   "cell_type": "code",
   "execution_count": 44,
   "id": "3ec3bd32",
   "metadata": {},
   "outputs": [
    {
     "data": {
      "text/plain": [
       "[1, 2, 3, 4, 5]"
      ]
     },
     "execution_count": 44,
     "metadata": {},
     "output_type": "execute_result"
    }
   ],
   "source": [
    "list"
   ]
  },
  {
   "cell_type": "code",
   "execution_count": 45,
   "id": "74443f6c",
   "metadata": {},
   "outputs": [
    {
     "data": {
      "text/plain": [
       "3"
      ]
     },
     "execution_count": 45,
     "metadata": {},
     "output_type": "execute_result"
    }
   ],
   "source": [
    "list.pop(2)"
   ]
  },
  {
   "cell_type": "code",
   "execution_count": 46,
   "id": "7379e7e1",
   "metadata": {},
   "outputs": [
    {
     "data": {
      "text/plain": [
       "[1, 2, 4, 5]"
      ]
     },
     "execution_count": 46,
     "metadata": {},
     "output_type": "execute_result"
    }
   ],
   "source": [
    "list"
   ]
  },
  {
   "cell_type": "markdown",
   "id": "b72bb16d",
   "metadata": {},
   "source": [
    "9. Write a program to display a number from 1 to 100"
   ]
  },
  {
   "cell_type": "code",
   "execution_count": 48,
   "id": "ce742b22",
   "metadata": {},
   "outputs": [
    {
     "name": "stdout",
     "output_type": "stream",
     "text": [
      "1 2 3 4 5 6 7 8 9 10 11 12 13 14 15 16 17 18 19 20 21 22 23 24 25 26 27 28 29 30 31 32 33 34 35 36 37 38 39 40 41 42 43 44 45 46 47 48 49 50 51 52 53 54 55 56 57 58 59 60 61 62 63 64 65 66 67 68 69 70 71 72 73 74 75 76 77 78 79 80 81 82 83 84 85 86 87 88 89 90 91 92 93 94 95 96 97 98 99 100 "
     ]
    }
   ],
   "source": [
    "for i in range(1,101):\n",
    "    print(i,end=\" \")"
   ]
  },
  {
   "cell_type": "markdown",
   "id": "63ddcc93",
   "metadata": {},
   "source": [
    "10. Write a Python program to find the sum of all items in a tuble"
   ]
  },
  {
   "cell_type": "code",
   "execution_count": 49,
   "id": "1acbacfa",
   "metadata": {},
   "outputs": [],
   "source": [
    "tup=(4,5,6,7,8)"
   ]
  },
  {
   "cell_type": "code",
   "execution_count": 50,
   "id": "161af129",
   "metadata": {},
   "outputs": [
    {
     "data": {
      "text/plain": [
       "(4, 5, 6, 7, 8)"
      ]
     },
     "execution_count": 50,
     "metadata": {},
     "output_type": "execute_result"
    }
   ],
   "source": [
    "tup"
   ]
  },
  {
   "cell_type": "code",
   "execution_count": 52,
   "id": "8fe1b986",
   "metadata": {},
   "outputs": [
    {
     "name": "stdout",
     "output_type": "stream",
     "text": [
      "The sum of tuple elements is30.0\n"
     ]
    }
   ],
   "source": [
    "import math \n",
    "r=math.fsum(tup)\n",
    "print(\"The sum of tuple elements is\" + str(r))"
   ]
  },
  {
   "cell_type": "markdown",
   "id": "50af03ba",
   "metadata": {},
   "source": [
    "12. A list of words is given. Find the words from the list that have their second character in uppercase.\n",
    "ls=['hello','Dear','hOw','ARe','You']"
   ]
  },
  {
   "cell_type": "code",
   "execution_count": 70,
   "id": "08fe9d92",
   "metadata": {},
   "outputs": [
    {
     "name": "stdout",
     "output_type": "stream",
     "text": [
      "['hOw', 'ARe']\n"
     ]
    }
   ],
   "source": [
    "ls=['hello','Dear','hOw','ARe','You']\n",
    "result = [word for word in ls \n",
    "          if len(word) >= 2 and word[1].isupper()]\n",
    "print(result)\n"
   ]
  },
  {
   "cell_type": "code",
   "execution_count": null,
   "id": "6fd5b1be",
   "metadata": {},
   "outputs": [],
   "source": []
  }
 ],
 "metadata": {
  "kernelspec": {
   "display_name": "Python 3 (ipykernel)",
   "language": "python",
   "name": "python3"
  },
  "language_info": {
   "codemirror_mode": {
    "name": "ipython",
    "version": 3
   },
   "file_extension": ".py",
   "mimetype": "text/x-python",
   "name": "python",
   "nbconvert_exporter": "python",
   "pygments_lexer": "ipython3",
   "version": "3.11.4"
  }
 },
 "nbformat": 4,
 "nbformat_minor": 5
}
